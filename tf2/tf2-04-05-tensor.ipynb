{
 "cells": [
  {
   "cell_type": "code",
   "execution_count": 1,
   "metadata": {},
   "outputs": [],
   "source": [
    "import numpy as np\n",
    "import tensorflow as tf"
   ]
  },
  {
   "cell_type": "code",
   "execution_count": 2,
   "metadata": {},
   "outputs": [
    {
     "data": {
      "text/plain": [
       "<tf.Tensor: shape=(4, 10), dtype=float32, numpy=\n",
       "array([[ 1.0102674 , -0.00798108, -0.90348405, -1.7296842 , -1.0968858 ,\n",
       "        -0.85214996,  1.3269955 ,  2.529251  ,  0.05895088,  0.19493197],\n",
       "       [ 0.36112598, -0.05504562,  0.4783878 , -0.5074296 , -0.08091243,\n",
       "         0.62125546,  0.54606485,  0.5128945 ,  1.4461366 , -0.69563764],\n",
       "       [ 0.14752926,  0.09497944,  1.4731553 , -0.9502608 ,  0.37333044,\n",
       "        -0.66896707,  0.76098245,  0.7494483 , -1.4076723 ,  0.7254914 ],\n",
       "       [-0.38210747,  0.74405605,  0.12967093,  0.18185617, -0.25676998,\n",
       "         0.88768405, -1.1729702 , -0.01864411, -0.38896143, -0.7055123 ]],\n",
       "      dtype=float32)>"
      ]
     },
     "execution_count": 2,
     "metadata": {},
     "output_type": "execute_result"
    }
   ],
   "source": [
    "out = tf.random.normal([4, 10])\n",
    "out"
   ]
  },
  {
   "cell_type": "code",
   "execution_count": 3,
   "metadata": {},
   "outputs": [
    {
     "data": {
      "text/plain": [
       "<tf.Tensor: shape=(4, 10), dtype=float32, numpy=\n",
       "array([[0., 0., 1., 0., 0., 0., 0., 0., 0., 0.],\n",
       "       [0., 0., 0., 1., 0., 0., 0., 0., 0., 0.],\n",
       "       [0., 0., 1., 0., 0., 0., 0., 0., 0., 0.],\n",
       "       [1., 0., 0., 0., 0., 0., 0., 0., 0., 0.]], dtype=float32)>"
      ]
     },
     "execution_count": 3,
     "metadata": {},
     "output_type": "execute_result"
    }
   ],
   "source": [
    "y = tf.constant([2, 3, 2, 0])\n",
    "y = tf.one_hot(y, depth=10)\n",
    "y"
   ]
  },
  {
   "cell_type": "code",
   "execution_count": 4,
   "metadata": {},
   "outputs": [
    {
     "data": {
      "text/plain": [
       "<tf.Tensor: shape=(4,), dtype=float32, numpy=array([1.7764581 , 0.6163616 , 0.53931963, 0.5392885 ], dtype=float32)>"
      ]
     },
     "execution_count": 4,
     "metadata": {},
     "output_type": "execute_result"
    }
   ],
   "source": [
    "loss = tf.keras.losses.mse(y, out)\n",
    "loss"
   ]
  },
  {
   "cell_type": "code",
   "execution_count": 5,
   "metadata": {},
   "outputs": [
    {
     "data": {
      "text/plain": [
       "<tf.Tensor: shape=(4, 10), dtype=float32, numpy=\n",
       "array([[1.0206401e+00, 6.3697677e-05, 3.6232517e+00, 2.9918075e+00,\n",
       "        1.2031585e+00, 7.2615957e-01, 1.7609171e+00, 6.3971109e+00,\n",
       "        3.4752064e-03, 3.7998471e-02],\n",
       "       [1.3041197e-01, 3.0300198e-03, 2.2885489e-01, 2.2723441e+00,\n",
       "        6.5468205e-03, 3.8595834e-01, 2.9818684e-01, 2.6306078e-01,\n",
       "        2.0913110e+00, 4.8391172e-01],\n",
       "       [2.1764882e-02, 9.0210931e-03, 2.2387590e-01, 9.0299565e-01,\n",
       "        1.3937563e-01, 4.4751695e-01, 5.7909429e-01, 5.6167275e-01,\n",
       "        1.9815413e+00, 5.2633780e-01],\n",
       "       [1.9102211e+00, 5.5361938e-01, 1.6814550e-02, 3.3071667e-02,\n",
       "        6.5930828e-02, 7.8798294e-01, 1.3758590e+00, 3.4760282e-04,\n",
       "        1.5129100e-01, 4.9774757e-01]], dtype=float32)>"
      ]
     },
     "execution_count": 5,
     "metadata": {},
     "output_type": "execute_result"
    }
   ],
   "source": [
    "l = tf.square(y - out)\n",
    "l"
   ]
  },
  {
   "cell_type": "code",
   "execution_count": 6,
   "metadata": {},
   "outputs": [
    {
     "data": {
      "text/plain": [
       "<tf.Tensor: shape=(4,), dtype=float32, numpy=array([1.7764581 , 0.6163616 , 0.53931963, 0.5392885 ], dtype=float32)>"
      ]
     },
     "execution_count": 6,
     "metadata": {},
     "output_type": "execute_result"
    }
   ],
   "source": [
    "loss = tf.keras.losses.MSE(y, out)\n",
    "loss"
   ]
  },
  {
   "cell_type": "code",
   "execution_count": 7,
   "metadata": {},
   "outputs": [
    {
     "data": {
      "text/plain": [
       "<tf.Tensor: shape=(), dtype=float32, numpy=0.867857>"
      ]
     },
     "execution_count": 7,
     "metadata": {},
     "output_type": "execute_result"
    }
   ],
   "source": [
    "# 标量 scalar\n",
    "l = tf.reduce_mean(l)\n",
    "l"
   ]
  },
  {
   "cell_type": "code",
   "execution_count": 8,
   "metadata": {},
   "outputs": [
    {
     "data": {
      "text/plain": [
       "<tf.Tensor: shape=(4, 2), dtype=float32, numpy=\n",
       "array([[ 0.14370646, -1.7112497 ],\n",
       "       [ 0.9957573 ,  1.6512464 ],\n",
       "       [ 0.71903497, -0.34159383],\n",
       "       [-0.67035127,  0.2309317 ]], dtype=float32)>"
      ]
     },
     "execution_count": 8,
     "metadata": {},
     "output_type": "execute_result"
    }
   ],
   "source": [
    "# 向量 vector\n",
    "z = tf.random.normal([4, 2])\n",
    "b = tf.zeros([2])\n",
    "z = z + b\n",
    "z"
   ]
  },
  {
   "cell_type": "code",
   "execution_count": 9,
   "metadata": {},
   "outputs": [
    {
     "data": {
      "text/plain": [
       "<tf.Variable 'bias:0' shape=(3,) dtype=float32, numpy=array([0., 0., 0.], dtype=float32)>"
      ]
     },
     "execution_count": 9,
     "metadata": {},
     "output_type": "execute_result"
    }
   ],
   "source": [
    "# 全连接层，输出节点为3\n",
    "fc = tf.keras.layers.Dense(3)\n",
    "# 定义全连接层的输入节点为4\n",
    "fc.build(input_shape=(2, 4))\n",
    "fc.bias"
   ]
  },
  {
   "cell_type": "code",
   "execution_count": 10,
   "metadata": {},
   "outputs": [
    {
     "name": "stdout",
     "output_type": "stream",
     "text": [
      "tf.Tensor(\n",
      "[[1. 1. 1.]\n",
      " [1. 1. 1.]\n",
      " [1. 1. 1.]\n",
      " [1. 1. 1.]], shape=(4, 3), dtype=float32)\n",
      "tf.Tensor([0. 0. 0.], shape=(3,), dtype=float32)\n"
     ]
    }
   ],
   "source": [
    "# 矩阵 matrix\n",
    "w = tf.ones([4, 3])\n",
    "print(w)\n",
    "b = tf.zeros([3])\n",
    "print(b)"
   ]
  },
  {
   "cell_type": "code",
   "execution_count": 12,
   "metadata": {},
   "outputs": [
    {
     "name": "stdout",
     "output_type": "stream",
     "text": [
      "tf.Tensor(\n",
      "[[ 0.66542214  0.9802089  -0.25659308  0.7761895 ]\n",
      " [ 0.8429664  -2.3449628  -0.6199864   1.0522248 ]], shape=(2, 4), dtype=float32)\n"
     ]
    },
    {
     "data": {
      "text/plain": [
       "<tf.Tensor: shape=(2, 3), dtype=float32, numpy=\n",
       "array([[ 2.1652274,  2.1652274,  2.1652274],\n",
       "       [-1.0697582, -1.0697582, -1.0697582]], dtype=float32)>"
      ]
     },
     "execution_count": 12,
     "metadata": {},
     "output_type": "execute_result"
    }
   ],
   "source": [
    "x = tf.random.normal([2, 4])\n",
    "print(x)\n",
    "o = x @ w + b\n",
    "o"
   ]
  },
  {
   "cell_type": "code",
   "execution_count": 13,
   "metadata": {},
   "outputs": [
    {
     "data": {
      "text/plain": [
       "<tf.Variable 'kernel:0' shape=(4, 3) dtype=float32, numpy=\n",
       "array([[ 8.0575562e-01,  4.0645039e-01,  1.4173985e-04],\n",
       "       [ 1.8559146e-01,  4.9254537e-01, -3.8588297e-01],\n",
       "       [ 3.9887130e-01,  9.1433799e-01,  4.6098089e-01],\n",
       "       [ 4.5285130e-01,  4.1246772e-01,  3.4726405e-01]], dtype=float32)>"
      ]
     },
     "execution_count": 13,
     "metadata": {},
     "output_type": "execute_result"
    }
   ],
   "source": [
    "# 全连接层，输出节点为3\n",
    "fc = tf.keras.layers.Dense(3)\n",
    "# 定义全连接层的输入节点为4\n",
    "fc.build(input_shape=(2, 4))\n",
    "# 权值矩阵\n",
    "fc.kernel"
   ]
  },
  {
   "cell_type": "code",
   "execution_count": 14,
   "metadata": {},
   "outputs": [],
   "source": [
    "# 张量 tensor\n",
    "(x_train, y_train), (x_test, y_test) = tf.keras.datasets.imdb.load_data(num_words=10000)"
   ]
  },
  {
   "cell_type": "code",
   "execution_count": 15,
   "metadata": {},
   "outputs": [
    {
     "data": {
      "text/plain": [
       "((25000,), (25000,))"
      ]
     },
     "execution_count": 15,
     "metadata": {},
     "output_type": "execute_result"
    }
   ],
   "source": [
    "x_train.shape, y_train.shape"
   ]
  },
  {
   "cell_type": "code",
   "execution_count": 16,
   "metadata": {},
   "outputs": [
    {
     "data": {
      "text/plain": [
       "(25000, 80)"
      ]
     },
     "execution_count": 16,
     "metadata": {},
     "output_type": "execute_result"
    }
   ],
   "source": [
    "x_train = tf.keras.preprocessing.sequence.pad_sequences(x_train, maxlen=80)\n",
    "x_train.shape"
   ]
  },
  {
   "cell_type": "code",
   "execution_count": 17,
   "metadata": {},
   "outputs": [
    {
     "name": "stdout",
     "output_type": "stream",
     "text": [
      "<tensorflow.python.keras.layers.embeddings.Embedding object at 0x13e30c350>\n"
     ]
    },
    {
     "data": {
      "text/plain": [
       "TensorShape([25000, 80, 100])"
      ]
     },
     "execution_count": 17,
     "metadata": {},
     "output_type": "execute_result"
    }
   ],
   "source": [
    "# 创建词向量 Embedding 层类\n",
    "embedding = tf.keras.layers.Embedding(10000, 100)\n",
    "print(embedding)\n",
    "# 将数字编码的单词转换为词向量\n",
    "out = embedding(x_train)\n",
    "out.shape"
   ]
  },
  {
   "cell_type": "code",
   "execution_count": 18,
   "metadata": {},
   "outputs": [
    {
     "data": {
      "text/plain": [
       "array([  15,  256,    4,    2,    7, 3766,    5,  723,   36,   71,   43,\n",
       "        530,  476,   26,  400,  317,   46,    7,    4,    2, 1029,   13,\n",
       "        104,   88,    4,  381,   15,  297,   98,   32, 2071,   56,   26,\n",
       "        141,    6,  194, 7486,   18,    4,  226,   22,   21,  134,  476,\n",
       "         26,  480,    5,  144,   30, 5535,   18,   51,   36,   28,  224,\n",
       "         92,   25,  104,    4,  226,   65,   16,   38, 1334,   88,   12,\n",
       "         16,  283,    5,   16, 4472,  113,  103,   32,   15,   16, 5345,\n",
       "         19,  178,   32], dtype=int32)"
      ]
     },
     "execution_count": 18,
     "metadata": {},
     "output_type": "execute_result"
    }
   ],
   "source": [
    "x_train[0]"
   ]
  },
  {
   "cell_type": "code",
   "execution_count": 19,
   "metadata": {},
   "outputs": [
    {
     "data": {
      "text/plain": [
       "<tf.Tensor: shape=(80, 100), dtype=float32, numpy=\n",
       "array([[ 0.03969153,  0.00846025, -0.0224766 , ..., -0.02968421,\n",
       "        -0.01220542,  0.0323151 ],\n",
       "       [ 0.04340998,  0.04524702,  0.00660741, ...,  0.0038707 ,\n",
       "         0.01970771,  0.01360403],\n",
       "       [ 0.01953879,  0.00627487, -0.02900509, ...,  0.02724509,\n",
       "        -0.0029909 ,  0.01471848],\n",
       "       ...,\n",
       "       [ 0.03869594,  0.00586656, -0.00493003, ..., -0.01165593,\n",
       "        -0.00625009, -0.04891744],\n",
       "       [-0.02203174, -0.01244285, -0.01757263, ...,  0.00942916,\n",
       "        -0.0156019 ,  0.02164299],\n",
       "       [-0.02764361,  0.00858444,  0.04474962, ...,  0.02445182,\n",
       "        -0.02424285, -0.00547627]], dtype=float32)>"
      ]
     },
     "execution_count": 19,
     "metadata": {},
     "output_type": "execute_result"
    }
   ],
   "source": [
    "out[0]"
   ]
  },
  {
   "cell_type": "code",
   "execution_count": 21,
   "metadata": {},
   "outputs": [
    {
     "data": {
      "text/plain": [
       "TensorShape([4, 30, 30, 16])"
      ]
     },
     "execution_count": 21,
     "metadata": {},
     "output_type": "execute_result"
    }
   ],
   "source": [
    "x = tf.random.normal([4, 32, 32, 3])\n",
    "layer = tf.keras.layers.Conv2D(16, kernel_size=3)\n",
    "out = layer(x)\n",
    "out.shape"
   ]
  },
  {
   "cell_type": "code",
   "execution_count": 22,
   "metadata": {},
   "outputs": [
    {
     "data": {
      "text/plain": [
       "TensorShape([3, 3, 3, 16])"
      ]
     },
     "execution_count": 22,
     "metadata": {},
     "output_type": "execute_result"
    }
   ],
   "source": [
    "layer.kernel.shape"
   ]
  },
  {
   "cell_type": "code",
   "execution_count": 24,
   "metadata": {},
   "outputs": [
    {
     "data": {
      "text/plain": [
       "<tf.Tensor: shape=(16,), dtype=float32, numpy=\n",
       "array([ 5.5007106e-01,  5.2187407e-01, -1.7598717e-01, -2.4292064e-01,\n",
       "       -1.8167476e-01, -2.7552038e-01, -6.2305987e-01,  3.5987017e-01,\n",
       "        6.4530171e-02, -2.4301209e-04, -5.0285667e-01,  8.0583471e-01,\n",
       "        3.6217722e-01, -4.5707482e-01, -1.0031117e-01, -3.9451760e-01],\n",
       "      dtype=float32)>"
      ]
     },
     "execution_count": 24,
     "metadata": {},
     "output_type": "execute_result"
    }
   ],
   "source": [
    "out[0,0,0]"
   ]
  },
  {
   "cell_type": "code",
   "execution_count": null,
   "metadata": {},
   "outputs": [],
   "source": []
  }
 ],
 "metadata": {
  "kernelspec": {
   "display_name": "Python 3",
   "language": "python",
   "name": "python3"
  },
  "language_info": {
   "codemirror_mode": {
    "name": "ipython",
    "version": 3
   },
   "file_extension": ".py",
   "mimetype": "text/x-python",
   "name": "python",
   "nbconvert_exporter": "python",
   "pygments_lexer": "ipython3",
   "version": "3.7.7"
  }
 },
 "nbformat": 4,
 "nbformat_minor": 4
}
