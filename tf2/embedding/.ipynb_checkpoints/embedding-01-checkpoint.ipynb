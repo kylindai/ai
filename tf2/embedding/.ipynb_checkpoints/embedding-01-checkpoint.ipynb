{
 "cells": [
  {
   "cell_type": "markdown",
   "metadata": {},
   "source": [
    "### tf.nn.embedding_lookup"
   ]
  },
  {
   "cell_type": "code",
   "execution_count": 8,
   "metadata": {},
   "outputs": [],
   "source": [
    "# tf.nn.embedding_lookup()\n",
    "# 就是根据input_ids中的id，寻找embeddings中的第id行。\n",
    "# 比如input_ids=[1,3,5]，则找出embeddings中第1，3，5行，组成一个tensor返回。\n",
    "\n",
    "# embedding_lookup不是简单的查表，id对应的向量是可以训练的，\n",
    "# 训练参数个数应该是 category num*embedding size，也就是说lookup是一种全连接层。\n"
   ]
  },
  {
   "cell_type": "code",
   "execution_count": 1,
   "metadata": {},
   "outputs": [],
   "source": [
    "import tensorflow as tf\n",
    "import numpy as np"
   ]
  },
  {
   "cell_type": "code",
   "execution_count": 6,
   "metadata": {},
   "outputs": [
    {
     "name": "stdout",
     "output_type": "stream",
     "text": [
      "[[1.1 1.2 1.3]\n",
      " [2.1 2.2 2.3]\n",
      " [3.1 3.2 3.3]\n",
      " [0.1 0.2 0.3]\n",
      " [3.1 3.2 3.3]\n",
      " [2.1 2.2 2.3]\n",
      " [1.1 1.2 1.3]]\n"
     ]
    }
   ],
   "source": [
    "# 定义一个未知变量 input_ids 用户存储索引\n",
    "input_ids = tf.placeholder(dtype=tf.int32, shape=[None])\n",
    "\n",
    "# 定义一个已知变量embedding, 是一个5*5的对角矩阵\n",
    "# embedding = tf.Variable(np.identity(5, dtype=np.int32))\n",
    "\n",
    "# 或者一个矩阵\n",
    "embedding = a = np.asarray([\n",
    "    [0.1, 0.2, 0.3],\n",
    "    [1.1, 1.2, 1.3],\n",
    "    [2.1, 2.2, 2.3],\n",
    "    [3.1, 3.2, 3.3],\n",
    "    [4.1, 4.2, 4.3]\n",
    "])\n",
    "\n",
    "# 根据input_ids中的id，查找embedding中对应的元素\n",
    "input_embedding = tf.nn.embedding_lookup(embedding, input_ids)\n",
    "\n",
    "sess = tf.InteractiveSession()\n",
    "sess.run(tf.global_variables_initializer())\n",
    "\n",
    "print(sess.run(input_embedding, feed_dict={\n",
    "    input_ids: [1,2,3,0,3,2,1]\n",
    "}))\n",
    "\n",
    "sess.close()"
   ]
  },
  {
   "cell_type": "code",
   "execution_count": null,
   "metadata": {},
   "outputs": [],
   "source": []
  },
  {
   "cell_type": "code",
   "execution_count": null,
   "metadata": {},
   "outputs": [],
   "source": []
  }
 ],
 "metadata": {
  "kernelspec": {
   "display_name": "Python 3",
   "language": "python",
   "name": "python3"
  },
  "language_info": {
   "codemirror_mode": {
    "name": "ipython",
    "version": 3
   },
   "file_extension": ".py",
   "mimetype": "text/x-python",
   "name": "python",
   "nbconvert_exporter": "python",
   "pygments_lexer": "ipython3",
   "version": "3.6.7"
  }
 },
 "nbformat": 4,
 "nbformat_minor": 2
}
