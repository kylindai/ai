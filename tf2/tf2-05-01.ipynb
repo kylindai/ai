{
 "cells": [
  {
   "cell_type": "code",
   "execution_count": 1,
   "metadata": {},
   "outputs": [],
   "source": [
    "import numpy as np\n",
    "import tensorflow as tf"
   ]
  },
  {
   "cell_type": "code",
   "execution_count": 2,
   "metadata": {},
   "outputs": [
    {
     "data": {
      "text/plain": [
       "<tf.Tensor: shape=(3, 5, 3), dtype=float32, numpy=\n",
       "array([[[ 1.3821359 , -1.6439056 ,  0.6655175 ],\n",
       "        [ 0.4448533 ,  0.23952235, -1.3671277 ],\n",
       "        [-0.86957103, -0.38396072, -1.1867595 ],\n",
       "        [ 0.44460648, -0.35059476, -0.28964812],\n",
       "        [-0.36335507, -0.59924877,  1.1892275 ]],\n",
       "\n",
       "       [[-0.36804935, -0.8937473 ,  0.64367265],\n",
       "        [ 0.4536819 , -0.09652387,  1.5960388 ],\n",
       "        [ 0.6771526 ,  0.5496152 , -1.8920588 ],\n",
       "        [ 1.1047348 , -0.14855884,  1.0256959 ],\n",
       "        [ 0.11284781, -0.78653723, -2.74951   ]],\n",
       "\n",
       "       [[ 2.3341322 ,  0.07718401,  1.0118115 ],\n",
       "        [ 0.56736916, -1.8911982 ,  0.94348705],\n",
       "        [-0.79237145,  1.3536762 ,  1.2823409 ],\n",
       "        [ 0.47058952,  0.5876878 ,  0.02963732],\n",
       "        [-2.9690912 ,  1.2093885 , -0.22212134]]], dtype=float32)>"
      ]
     },
     "execution_count": 2,
     "metadata": {},
     "output_type": "execute_result"
    }
   ],
   "source": [
    "a = tf.random.normal([3,5,3])\n",
    "a"
   ]
  },
  {
   "cell_type": "code",
   "execution_count": 3,
   "metadata": {},
   "outputs": [
    {
     "data": {
      "text/plain": [
       "<tf.Tensor: shape=(2, 5, 3), dtype=float32, numpy=\n",
       "array([[[-1.2022417 , -0.13763706,  0.31774998],\n",
       "        [ 2.3945696 ,  2.52795   ,  0.28484592],\n",
       "        [-2.4245741 , -0.02016445, -1.6517588 ],\n",
       "        [-0.47223037, -0.9146342 ,  1.42801   ],\n",
       "        [-0.7643605 , -0.3698931 ,  0.3075182 ]],\n",
       "\n",
       "       [[ 0.7545591 , -1.5402629 ,  0.39431953],\n",
       "        [-0.9182761 , -1.1272552 , -1.0664238 ],\n",
       "        [-0.9225227 ,  0.57233506, -1.7554173 ],\n",
       "        [-0.56660753, -0.33441806,  0.21268603],\n",
       "        [ 0.6358022 , -0.7437283 ,  0.30678728]]], dtype=float32)>"
      ]
     },
     "execution_count": 3,
     "metadata": {},
     "output_type": "execute_result"
    }
   ],
   "source": [
    "b = tf.random.normal([2,5,3])\n",
    "b"
   ]
  },
  {
   "cell_type": "code",
   "execution_count": 4,
   "metadata": {},
   "outputs": [
    {
     "data": {
      "text/plain": [
       "<tf.Tensor: shape=(5, 5, 3), dtype=float32, numpy=\n",
       "array([[[ 1.3821359 , -1.6439056 ,  0.6655175 ],\n",
       "        [ 0.4448533 ,  0.23952235, -1.3671277 ],\n",
       "        [-0.86957103, -0.38396072, -1.1867595 ],\n",
       "        [ 0.44460648, -0.35059476, -0.28964812],\n",
       "        [-0.36335507, -0.59924877,  1.1892275 ]],\n",
       "\n",
       "       [[-0.36804935, -0.8937473 ,  0.64367265],\n",
       "        [ 0.4536819 , -0.09652387,  1.5960388 ],\n",
       "        [ 0.6771526 ,  0.5496152 , -1.8920588 ],\n",
       "        [ 1.1047348 , -0.14855884,  1.0256959 ],\n",
       "        [ 0.11284781, -0.78653723, -2.74951   ]],\n",
       "\n",
       "       [[ 2.3341322 ,  0.07718401,  1.0118115 ],\n",
       "        [ 0.56736916, -1.8911982 ,  0.94348705],\n",
       "        [-0.79237145,  1.3536762 ,  1.2823409 ],\n",
       "        [ 0.47058952,  0.5876878 ,  0.02963732],\n",
       "        [-2.9690912 ,  1.2093885 , -0.22212134]],\n",
       "\n",
       "       [[-1.2022417 , -0.13763706,  0.31774998],\n",
       "        [ 2.3945696 ,  2.52795   ,  0.28484592],\n",
       "        [-2.4245741 , -0.02016445, -1.6517588 ],\n",
       "        [-0.47223037, -0.9146342 ,  1.42801   ],\n",
       "        [-0.7643605 , -0.3698931 ,  0.3075182 ]],\n",
       "\n",
       "       [[ 0.7545591 , -1.5402629 ,  0.39431953],\n",
       "        [-0.9182761 , -1.1272552 , -1.0664238 ],\n",
       "        [-0.9225227 ,  0.57233506, -1.7554173 ],\n",
       "        [-0.56660753, -0.33441806,  0.21268603],\n",
       "        [ 0.6358022 , -0.7437283 ,  0.30678728]]], dtype=float32)>"
      ]
     },
     "execution_count": 4,
     "metadata": {},
     "output_type": "execute_result"
    }
   ],
   "source": [
    "c = tf.concat([a, b], axis=0)\n",
    "c"
   ]
  },
  {
   "cell_type": "code",
   "execution_count": 5,
   "metadata": {},
   "outputs": [
    {
     "name": "stdout",
     "output_type": "stream",
     "text": [
      "tf.Tensor(\n",
      "[[-0.6733704  -0.8894947  -0.08664213  0.717914    0.22397134  0.9927347\n",
      "   0.26868966  0.39462984 -0.23225164  0.6369063 ]\n",
      " [-0.11201511  1.0384492  -1.4605044  -1.9895926  -0.5046352  -0.6709823\n",
      "   1.0373805   0.6053884   0.46768206 -0.3358627 ]], shape=(2, 10), dtype=float32)\n",
      "tf.Tensor(\n",
      "[[0.03830714 0.03086158 0.06887991 0.1539951  0.09397024 0.20270291\n",
      "  0.0982678  0.11145674 0.05954636 0.14201221]\n",
      " [0.07347721 0.23216297 0.01907705 0.01123909 0.04961808 0.04201422\n",
      "  0.231915   0.15056257 0.13119338 0.0587404 ]], shape=(2, 10), dtype=float32)\n"
     ]
    }
   ],
   "source": [
    "out = tf.random.normal([2, 10])\n",
    "print(out)\n",
    "out = tf.nn.softmax(out, axis=1)\n",
    "print(out)"
   ]
  },
  {
   "cell_type": "code",
   "execution_count": 6,
   "metadata": {},
   "outputs": [
    {
     "data": {
      "text/plain": [
       "<tf.Tensor: shape=(2,), dtype=int64, numpy=array([5, 1])>"
      ]
     },
     "execution_count": 6,
     "metadata": {},
     "output_type": "execute_result"
    }
   ],
   "source": [
    "pred = tf.argmax(out, axis=1)\n",
    "pred"
   ]
  },
  {
   "cell_type": "code",
   "execution_count": 7,
   "metadata": {},
   "outputs": [
    {
     "data": {
      "text/plain": [
       "<tf.Tensor: shape=(2,), dtype=int64, numpy=array([1, 3])>"
      ]
     },
     "execution_count": 7,
     "metadata": {},
     "output_type": "execute_result"
    }
   ],
   "source": [
    "pred = tf.argmin(out, axis=1)\n",
    "pred"
   ]
  },
  {
   "cell_type": "code",
   "execution_count": null,
   "metadata": {},
   "outputs": [],
   "source": []
  }
 ],
 "metadata": {
  "kernelspec": {
   "display_name": "Python 3",
   "language": "python",
   "name": "python3"
  },
  "language_info": {
   "codemirror_mode": {
    "name": "ipython",
    "version": 3
   },
   "file_extension": ".py",
   "mimetype": "text/x-python",
   "name": "python",
   "nbconvert_exporter": "python",
   "pygments_lexer": "ipython3",
   "version": "3.6.8"
  }
 },
 "nbformat": 4,
 "nbformat_minor": 2
}
