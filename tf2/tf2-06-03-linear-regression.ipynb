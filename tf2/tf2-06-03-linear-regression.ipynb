{
 "cells": [
  {
   "cell_type": "code",
   "execution_count": 1,
   "metadata": {},
   "outputs": [],
   "source": [
    "import numpy as np\n",
    "import tensorflow as tf"
   ]
  },
  {
   "cell_type": "code",
   "execution_count": 2,
   "metadata": {},
   "outputs": [
    {
     "data": {
      "text/plain": [
       "(100,)"
      ]
     },
     "execution_count": 2,
     "metadata": {},
     "output_type": "execute_result"
    }
   ],
   "source": [
    "x_train = np.linspace(-1, 1, 100)\n",
    "x_train.shape"
   ]
  },
  {
   "cell_type": "code",
   "execution_count": 3,
   "metadata": {},
   "outputs": [
    {
     "data": {
      "text/plain": [
       "(100,)"
      ]
     },
     "execution_count": 3,
     "metadata": {},
     "output_type": "execute_result"
    }
   ],
   "source": [
    "y_train = 2 * x_train + np.random.randn(*x_train.shape) * 0.33 + 10\n",
    "y_train.shape"
   ]
  },
  {
   "cell_type": "code",
   "execution_count": 4,
   "metadata": {},
   "outputs": [
    {
     "data": {
      "text/plain": [
       "(array([-1.        , -0.97979798, -0.95959596, -0.93939394, -0.91919192,\n",
       "        -0.8989899 , -0.87878788, -0.85858586, -0.83838384, -0.81818182,\n",
       "        -0.7979798 , -0.77777778, -0.75757576, -0.73737374, -0.71717172,\n",
       "        -0.6969697 , -0.67676768, -0.65656566, -0.63636364, -0.61616162,\n",
       "        -0.5959596 , -0.57575758, -0.55555556, -0.53535354, -0.51515152,\n",
       "        -0.49494949, -0.47474747, -0.45454545, -0.43434343, -0.41414141,\n",
       "        -0.39393939, -0.37373737, -0.35353535, -0.33333333, -0.31313131,\n",
       "        -0.29292929, -0.27272727, -0.25252525, -0.23232323, -0.21212121,\n",
       "        -0.19191919, -0.17171717, -0.15151515, -0.13131313, -0.11111111,\n",
       "        -0.09090909, -0.07070707, -0.05050505, -0.03030303, -0.01010101,\n",
       "         0.01010101,  0.03030303,  0.05050505,  0.07070707,  0.09090909,\n",
       "         0.11111111,  0.13131313,  0.15151515,  0.17171717,  0.19191919,\n",
       "         0.21212121,  0.23232323,  0.25252525,  0.27272727,  0.29292929,\n",
       "         0.31313131,  0.33333333,  0.35353535,  0.37373737,  0.39393939,\n",
       "         0.41414141,  0.43434343,  0.45454545,  0.47474747,  0.49494949,\n",
       "         0.51515152,  0.53535354,  0.55555556,  0.57575758,  0.5959596 ,\n",
       "         0.61616162,  0.63636364,  0.65656566,  0.67676768,  0.6969697 ,\n",
       "         0.71717172,  0.73737374,  0.75757576,  0.77777778,  0.7979798 ,\n",
       "         0.81818182,  0.83838384,  0.85858586,  0.87878788,  0.8989899 ,\n",
       "         0.91919192,  0.93939394,  0.95959596,  0.97979798,  1.        ]),\n",
       " array([ 7.82347161,  7.77744895,  8.63144547,  7.52382719,  8.33057735,\n",
       "         7.6235827 ,  8.41037994,  8.14162017,  8.36595328,  8.15607203,\n",
       "         8.01542649,  8.93057403,  8.19493418,  8.73363164,  8.7985367 ,\n",
       "         8.28430651,  8.79671891,  8.62309669,  8.57041469,  8.84622587,\n",
       "         9.05486453,  9.08252229,  8.80030867,  9.03974869,  9.43180385,\n",
       "         8.78052793,  9.25115931,  9.24680962,  9.02772563,  8.83546533,\n",
       "         9.43842829,  9.29500011,  9.41293148,  9.53056063,  9.62711874,\n",
       "         8.87378068,  9.37022926,  8.99102939,  9.58041086,  9.72786284,\n",
       "         9.52381388,  9.68486255, 10.25745298,  9.58871667,  9.78273868,\n",
       "         9.2524547 , 10.21896681, 10.30217199, 10.29662579,  9.78615846,\n",
       "        10.33258208, 10.01192842,  9.48979796, 10.87932033,  9.51607235,\n",
       "        10.24895303, 10.08754231, 10.14464765, 10.27123672,  9.85544807,\n",
       "        10.20336433, 10.22748782, 10.70922021, 10.21308862, 10.73421531,\n",
       "        11.24857555, 10.53432413, 10.975739  , 11.09418967, 10.79998381,\n",
       "        10.3589375 , 11.09748947, 10.92747333, 11.10141241, 10.506747  ,\n",
       "        10.9435412 , 11.4908958 , 11.34817156, 10.72042685, 11.09374196,\n",
       "        11.34254482, 11.74742162, 10.78242453, 10.69003835, 11.3818669 ,\n",
       "        11.49716964, 11.38976554, 11.16050242, 12.12442516, 11.16093879,\n",
       "        11.89234707, 12.20607754, 12.34000606, 12.10158813, 11.53328894,\n",
       "        11.23380425, 12.13704949, 11.7499948 , 11.63088545, 12.07130102]))"
      ]
     },
     "execution_count": 4,
     "metadata": {},
     "output_type": "execute_result"
    }
   ],
   "source": [
    "x_train, y_train"
   ]
  },
  {
   "cell_type": "code",
   "execution_count": 6,
   "metadata": {},
   "outputs": [
    {
     "data": {
      "text/plain": [
       "[<matplotlib.lines.Line2D at 0x149d21b10>]"
      ]
     },
     "execution_count": 6,
     "metadata": {},
     "output_type": "execute_result"
    },
    {
     "data": {
      "image/png": "[encoded data removed]",
      "text/plain": [
       "<Figure size 432x288 with 1 Axes>"
      ]
     },
     "metadata": {
      "needs_background": "light"
     },
     "output_type": "display_data"
    }
   ],
   "source": [
    "%matplotlib inline\n",
    "import matplotlib as mpl\n",
    "import matplotlib.pyplot as plt\n",
    "\n",
    "plt.plot(x_train, y_train, 'o', alpha=0.4)"
   ]
  },
  {
   "cell_type": "code",
   "execution_count": 7,
   "metadata": {},
   "outputs": [
    {
     "name": "stdout",
     "output_type": "stream",
     "text": [
      "0 tf.Tensor(101.28367, shape=(), dtype=float32) 0.0 0.0\n",
      "10 tf.Tensor(1.5970062, shape=(), dtype=float32) 1.014771 8.917425\n",
      "20 tf.Tensor(0.20659746, shape=(), dtype=float32) 1.5164944 9.874927\n",
      "30 tf.Tensor(0.1316301, shape=(), dtype=float32) 1.7645566 9.977737\n",
      "40 tf.Tensor(0.11635849, shape=(), dtype=float32) 1.8872038 9.988777\n",
      "50 tf.Tensor(0.1126606, shape=(), dtype=float32) 1.947843 9.989962\n",
      "60 tf.Tensor(0.11175702, shape=(), dtype=float32) 1.9778243 9.990088\n",
      "70 tf.Tensor(0.11153612, shape=(), dtype=float32) 1.9926478 9.990103\n",
      "80 tf.Tensor(0.111482136, shape=(), dtype=float32) 1.9999766 9.990103\n",
      "90 tf.Tensor(0.111468956, shape=(), dtype=float32) 2.0036006 9.990103\n"
     ]
    }
   ],
   "source": [
    "W = tf.Variable(0., name='W', dtype=tf.float32)\n",
    "b = tf.Variable(0., name='b', dtype=tf.float32)\n",
    "\n",
    "optimizer = tf.keras.optimizers.SGD(0.1)\n",
    "\n",
    "for epoch in range(100):\n",
    "    with tf.GradientTape() as tape:\n",
    "        y_hat = W * x_train + b\n",
    "        loss = tf.keras.losses.MSE(y_train, y_hat)\n",
    "    if epoch % 10 == 0:\n",
    "        print(epoch, loss, W.numpy(), b.numpy())\n",
    "    grads = tape.gradient(loss, [W, b])\n",
    "    optimizer.apply_gradients(zip(grads, [W, b]))\n",
    "        \n",
    "     "
   ]
  },
  {
   "cell_type": "code",
   "execution_count": 8,
   "metadata": {},
   "outputs": [
    {
     "data": {
      "text/plain": [
       "[<matplotlib.lines.Line2D at 0x14c3fa990>]"
      ]
     },
     "execution_count": 8,
     "metadata": {},
     "output_type": "execute_result"
    },
    {
     "data": {
      "image/png": "[encoded data removed]",
      "text/plain": [
       "<Figure size 432x288 with 1 Axes>"
      ]
     },
     "metadata": {
      "needs_background": "light"
     },
     "output_type": "display_data"
    }
   ],
   "source": [
    "plt.plot(x_train, y_train, 'o', alpha=0.4)\n",
    "plt.plot(x_train, W * x_train + b, 'r-')"
   ]
  },
  {
   "cell_type": "code",
   "execution_count": 9,
   "metadata": {},
   "outputs": [
    {
     "data": {
      "text/plain": [
       "<tf.Variable 'W:0' shape=() dtype=float32, numpy=2.0053918>"
      ]
     },
     "execution_count": 9,
     "metadata": {},
     "output_type": "execute_result"
    }
   ],
   "source": [
    "W"
   ]
  },
  {
   "cell_type": "code",
   "execution_count": 11,
   "metadata": {},
   "outputs": [
    {
     "data": {
      "text/plain": [
       "array([[1, 2],\n",
       "       [2, 3]])"
      ]
     },
     "execution_count": 11,
     "metadata": {},
     "output_type": "execute_result"
    }
   ],
   "source": [
    "a = np.array([[1,2],[2,3]])\n",
    "a"
   ]
  },
  {
   "cell_type": "code",
   "execution_count": 14,
   "metadata": {},
   "outputs": [
    {
     "data": {
      "text/plain": [
       "array([3])"
      ]
     },
     "execution_count": 14,
     "metadata": {},
     "output_type": "execute_result"
    }
   ],
   "source": [
    "b = np.array([3])\n",
    "b"
   ]
  },
  {
   "cell_type": "code",
   "execution_count": 16,
   "metadata": {},
   "outputs": [
    {
     "data": {
      "text/plain": [
       "array([[3, 6],\n",
       "       [6, 9]])"
      ]
     },
     "execution_count": 16,
     "metadata": {},
     "output_type": "execute_result"
    }
   ],
   "source": [
    "c = a * b\n",
    "c"
   ]
  },
  {
   "cell_type": "code",
   "execution_count": null,
   "metadata": {},
   "outputs": [],
   "source": []
  }
 ],
 "metadata": {
  "kernelspec": {
   "display_name": "Python 3",
   "language": "python",
   "name": "python3"
  },
  "language_info": {
   "codemirror_mode": {
    "name": "ipython",
    "version": 3
   },
   "file_extension": ".py",
   "mimetype": "text/x-python",
   "name": "python",
   "nbconvert_exporter": "python",
   "pygments_lexer": "ipython3",
   "version": "3.7.7"
  }
 },
 "nbformat": 4,
 "nbformat_minor": 2
}
