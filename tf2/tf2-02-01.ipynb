{
 "cells": [
  {
   "cell_type": "markdown",
   "metadata": {},
   "source": [
    "$ y = 1.477x + 0.089 $"
   ]
  },
  {
   "cell_type": "code",
   "execution_count": 1,
   "metadata": {},
   "outputs": [],
   "source": [
    "import numpy as np\n",
    "import tensorflow as tf"
   ]
  },
  {
   "cell_type": "markdown",
   "metadata": {},
   "source": [
    "$ y = 1.477x + 0.089 + \\epsilon, \\epsilon \\in N(\\mu,\\sigma^2) $"
   ]
  },
  {
   "cell_type": "code",
   "execution_count": 2,
   "metadata": {},
   "outputs": [],
   "source": [
    "d = []\n",
    "e = []\n",
    "for i in range(100):\n",
    "    x = np.random.uniform(-10., 10.)\n",
    "    # np.random.normal(mu, sigma, size)\n",
    "    eps = np.random.normal(0., 0.01)\n",
    "    e.append(eps)\n",
    "    y = 1.477 * x + 0.089 + eps\n",
    "    d.append([x, y])\n",
    "    \n",
    "# print(d)\n"
   ]
  },
  {
   "cell_type": "code",
   "execution_count": 3,
   "metadata": {},
   "outputs": [],
   "source": [
    "data = np.array(d)"
   ]
  },
  {
   "cell_type": "code",
   "execution_count": 4,
   "metadata": {},
   "outputs": [
    {
     "data": {
      "text/plain": [
       "[<matplotlib.lines.Line2D at 0x13b87ae80>]"
      ]
     },
     "execution_count": 4,
     "metadata": {},
     "output_type": "execute_result"
    },
    {
     "data": {
      "image/png": "[encoded data removed]",
      "text/plain": [
       "<Figure size 432x288 with 1 Axes>"
      ]
     },
     "metadata": {
      "needs_background": "light"
     },
     "output_type": "display_data"
    }
   ],
   "source": [
    "%matplotlib inline\n",
    "import matplotlib as mpl\n",
    "import matplotlib.pyplot as plt\n",
    "\n",
    "# plt.hist(e)\n",
    "plt.plot(data[:,0], data[:,1], 'ro', alpha=0.3)"
   ]
  },
  {
   "cell_type": "markdown",
   "metadata": {},
   "source": [
    "$ MSE: L = \\dfrac{1}{n}\\sum_{i=1}^{n}(y_{i} - (wx_{i} + b))^2 $   "
   ]
  },
  {
   "cell_type": "code",
   "execution_count": 5,
   "metadata": {},
   "outputs": [],
   "source": [
    "# mean squared error\n",
    "def mse(w, b, points):\n",
    "    totalError = 0\n",
    "    for i in range(0, len(points)):\n",
    "        x = points[i, 0]\n",
    "        y = points[i, 1]\n",
    "        totalError += (y - (w * x + b)) ** 2\n",
    "    return totalError / float(len(points))"
   ]
  },
  {
   "cell_type": "code",
   "execution_count": null,
   "metadata": {},
   "outputs": [],
   "source": []
  },
  {
   "cell_type": "code",
   "execution_count": 6,
   "metadata": {},
   "outputs": [],
   "source": [
    "def step_gradient(w_current, b_current, points, lr):\n",
    "    \n",
    "    w_gradient = 0\n",
    "    b_gradient = 0\n",
    "    \n",
    "    M = float(len(points))\n",
    "    \n",
    "    for i in range(0, len(points)):\n",
    "        x = points[i, 0]\n",
    "        y = points[i, 1]\n",
    "        w_gradient += (2/M) * x * ((w_current * x + b_current) - y)\n",
    "        b_gradient += (2/M) * ((w_current * x + b_current) - y)\n",
    "        \n",
    "    new_w = w_current - (lr * w_gradient)\n",
    "    new_b = b_current - (lr * b_gradient)\n",
    "    \n",
    "    return (new_w, new_b)"
   ]
  },
  {
   "cell_type": "code",
   "execution_count": 7,
   "metadata": {},
   "outputs": [],
   "source": [
    "l = []\n",
    "def gradient_descent(points, starting_w, starting_b, lr, num_iterations):\n",
    "    \n",
    "    w = starting_w\n",
    "    b = starting_b\n",
    "    \n",
    "    for step in range(num_iterations):\n",
    "        w, b = step_gradient(w, b, np.array(points), lr)\n",
    "        loss = mse(w, b, points)\n",
    "        l.append(loss)\n",
    "        if step % 50 == 0:\n",
    "            print(f\"iteration:{step}, loss:{loss}, w:{w}, b:{b}\")\n",
    "    \n",
    "    return [w, b]"
   ]
  },
  {
   "cell_type": "code",
   "execution_count": 8,
   "metadata": {},
   "outputs": [
    {
     "name": "stdout",
     "output_type": "stream",
     "text": [
      "iteration:0, loss:9.938258304925863, w:0.9092569727924843, b:0.0065847055449297035\n",
      "iteration:50, loss:0.0009468198937138392, w:1.4770783095887696, b:0.06004648439767701\n",
      "iteration:100, loss:0.0002240439144760246, w:1.4769780006557756, b:0.07840169713865919\n",
      "iteration:150, loss:0.0001280155876236569, w:1.476941438025035, b:0.08509217669598658\n",
      "iteration:200, loss:0.00011525722289799029, w:1.47692811093714, b:0.08753085813970933\n",
      "iteration:250, loss:0.00011356214108402528, w:1.4769232532103251, b:0.08841975812557723\n",
      "iteration:300, loss:0.00011333693178660957, w:1.4769214825677068, b:0.0887437623889917\n",
      "iteration:350, loss:0.00011330701038268484, w:1.4769208371680371, b:0.08886186202267345\n",
      "iteration:400, loss:0.000113303035012117, w:1.4769206019196988, b:0.08890490936818919\n",
      "iteration:450, loss:0.00011330250684267531, w:1.4769205161716215, b:0.08892060013621433\n",
      "iteration:500, loss:0.00011330243666985629, w:1.4769204849164264, b:0.08892631942501758\n",
      "iteration:550, loss:0.00011330242734666459, w:1.4769204735238999, b:0.08892840410719263\n",
      "iteration:600, loss:0.00011330242610798194, w:1.4769204693713214, b:0.08892916397435803\n",
      "iteration:650, loss:0.0001133024259434099, w:1.4769204678577055, b:0.08892944094612669\n",
      "iteration:700, loss:0.00011330242592154575, w:1.4769204673059921, b:0.08892954190240449\n",
      "iteration:750, loss:0.00011330242591864204, w:1.4769204671048923, b:0.08892957870099254\n",
      "iteration:800, loss:0.00011330242591825454, w:1.4769204670315914, b:0.08892959211408691\n",
      "iteration:850, loss:0.0001133024259182046, w:1.4769204670048732, b:0.08892959700316311\n",
      "iteration:900, loss:0.00011330242591819564, w:1.4769204669951346, b:0.08892959878523254\n",
      "iteration:950, loss:0.0001133024259181963, w:1.4769204669915847, b:0.08892959943479732\n",
      "Final loss:0.00011330242591819587, w:1.476920466990306, b:0.08892959966879495\n"
     ]
    },
    {
     "data": {
      "image/png": "[encoded data removed]",
      "text/plain": [
       "<Figure size 432x288 with 1 Axes>"
      ]
     },
     "metadata": {
      "needs_background": "light"
     },
     "output_type": "display_data"
    }
   ],
   "source": [
    "def main():\n",
    "    lr = 0.01\n",
    "    initial_w = 0\n",
    "    initial_b = 0\n",
    "    num_iterations = 1000\n",
    "    [w, b] = gradient_descent(data, initial_w, initial_b, lr, num_iterations)\n",
    "    loss = mse(w, b, data)\n",
    "#     l.append(loss)\n",
    "    print(f\"Final loss:{loss}, w:{w}, b:{b}\")\n",
    "    plt.plot(range(num_iterations), l, 'r-')\n",
    "    \n",
    "main()  \n",
    "\n"
   ]
  },
  {
   "cell_type": "code",
   "execution_count": null,
   "metadata": {},
   "outputs": [],
   "source": []
  }
 ],
 "metadata": {
  "kernelspec": {
   "display_name": "Python 3",
   "language": "python",
   "name": "python3"
  },
  "language_info": {
   "codemirror_mode": {
    "name": "ipython",
    "version": 3
   },
   "file_extension": ".py",
   "mimetype": "text/x-python",
   "name": "python",
   "nbconvert_exporter": "python",
   "pygments_lexer": "ipython3",
   "version": "3.7.7"
  }
 },
 "nbformat": 4,
 "nbformat_minor": 2
}
