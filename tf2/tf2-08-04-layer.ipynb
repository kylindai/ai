{
 "cells": [
  {
   "cell_type": "code",
   "execution_count": 1,
   "metadata": {},
   "outputs": [],
   "source": [
    "import numpy as np\n",
    "import tensorflow as tf"
   ]
  },
  {
   "cell_type": "code",
   "execution_count": 6,
   "metadata": {},
   "outputs": [],
   "source": [
    "class MyDense(tf.keras.layers.Layer):\n",
    "    \n",
    "    def __init__(self, inp_dim, outp_dim):\n",
    "        # 自定义网络层\n",
    "        super(MyDense, self).__init__()\n",
    "        self.kernel = self.add_weight('w', [inp_dim, outp_dim], trainable=True)\n",
    "        \n",
    "    def call(self, inputs, training=None):\n",
    "        # 自定义前向计算逻辑\n",
    "        out = inputs @ self.kernel\n",
    "        out = tf.nn.relu(out)\n",
    "        return out"
   ]
  },
  {
   "cell_type": "code",
   "execution_count": 7,
   "metadata": {},
   "outputs": [
    {
     "data": {
      "text/plain": [
       "([<tf.Variable 'w:0' shape=(4, 3) dtype=float32, numpy=\n",
       "  array([[-0.6147055 ,  0.8135537 , -0.47653013],\n",
       "         [-0.658579  , -0.22676665,  0.22495866],\n",
       "         [-0.5980568 ,  0.63575566,  0.14694881],\n",
       "         [ 0.3571409 , -0.7591137 , -0.19019789]], dtype=float32)>],\n",
       " [<tf.Variable 'w:0' shape=(4, 3) dtype=float32, numpy=\n",
       "  array([[-0.6147055 ,  0.8135537 , -0.47653013],\n",
       "         [-0.658579  , -0.22676665,  0.22495866],\n",
       "         [-0.5980568 ,  0.63575566,  0.14694881],\n",
       "         [ 0.3571409 , -0.7591137 , -0.19019789]], dtype=float32)>])"
      ]
     },
     "execution_count": 7,
     "metadata": {},
     "output_type": "execute_result"
    }
   ],
   "source": [
    "net = MyDense(4, 3)\n",
    "net.variables, net.trainable_variables"
   ]
  },
  {
   "cell_type": "code",
   "execution_count": 9,
   "metadata": {},
   "outputs": [
    {
     "name": "stdout",
     "output_type": "stream",
     "text": [
      "Model: \"sequential\"\n",
      "_________________________________________________________________\n",
      "Layer (type)                 Output Shape              Param #   \n",
      "=================================================================\n",
      "my_dense_3 (MyDense)         multiple                  200704    \n",
      "_________________________________________________________________\n",
      "my_dense_4 (MyDense)         multiple                  32768     \n",
      "_________________________________________________________________\n",
      "my_dense_5 (MyDense)         multiple                  8192      \n",
      "_________________________________________________________________\n",
      "my_dense_6 (MyDense)         multiple                  2048      \n",
      "_________________________________________________________________\n",
      "my_dense_7 (MyDense)         multiple                  320       \n",
      "=================================================================\n",
      "Total params: 244,032\n",
      "Trainable params: 244,032\n",
      "Non-trainable params: 0\n",
      "_________________________________________________________________\n"
     ]
    }
   ],
   "source": [
    "network = tf.keras.Sequential([\n",
    "    MyDense(784, 256),\n",
    "    MyDense(256, 128),\n",
    "    MyDense(128, 64),\n",
    "    MyDense(64, 32),\n",
    "    MyDense(32, 10)\n",
    "])\n",
    "network.build(input_shape=(None, 28*28))\n",
    "network.summary()"
   ]
  },
  {
   "cell_type": "code",
   "execution_count": 10,
   "metadata": {},
   "outputs": [],
   "source": [
    "class MyModel(tf.keras.Model):\n",
    "    def __init__(self):\n",
    "        # 自定义网络\n",
    "        super(MyModel, self).__init__()\n",
    "        self.fc1 = MyDense(28 * 28, 256)\n",
    "        self.fc2 = MyDense(256, 128)\n",
    "        self.fc3 = MyDense(128, 64)\n",
    "        self.fc4 = MyDense(64, 32)\n",
    "        self.fc5 = MyDense(32, 10)\n",
    "    \n",
    "    def call(self, inputs, training=None):\n",
    "        # 自定义前向运行逻辑\n",
    "        x = self.fc1(inputs)\n",
    "        x = self.fc2(x)\n",
    "        x = self.fc3(x)\n",
    "        x = self.fc4(x)\n",
    "        x = self.fc5(x)\n",
    "        return x"
   ]
  },
  {
   "cell_type": "code",
   "execution_count": 11,
   "metadata": {},
   "outputs": [
    {
     "name": "stdout",
     "output_type": "stream",
     "text": [
      "Model: \"my_model\"\n",
      "_________________________________________________________________\n",
      "Layer (type)                 Output Shape              Param #   \n",
      "=================================================================\n",
      "my_dense_8 (MyDense)         multiple                  200704    \n",
      "_________________________________________________________________\n",
      "my_dense_9 (MyDense)         multiple                  32768     \n",
      "_________________________________________________________________\n",
      "my_dense_10 (MyDense)        multiple                  8192      \n",
      "_________________________________________________________________\n",
      "my_dense_11 (MyDense)        multiple                  2048      \n",
      "_________________________________________________________________\n",
      "my_dense_12 (MyDense)        multiple                  320       \n",
      "=================================================================\n",
      "Total params: 244,032\n",
      "Trainable params: 244,032\n",
      "Non-trainable params: 0\n",
      "_________________________________________________________________\n"
     ]
    }
   ],
   "source": [
    "network = MyModel()\n",
    "network.build(input_shape=(None, 28 * 28))\n",
    "network.summary()"
   ]
  },
  {
   "cell_type": "code",
   "execution_count": null,
   "metadata": {},
   "outputs": [],
   "source": []
  }
 ],
 "metadata": {
  "kernelspec": {
   "display_name": "Python 3",
   "language": "python",
   "name": "python3"
  },
  "language_info": {
   "codemirror_mode": {
    "name": "ipython",
    "version": 3
   },
   "file_extension": ".py",
   "mimetype": "text/x-python",
   "name": "python",
   "nbconvert_exporter": "python",
   "pygments_lexer": "ipython3",
   "version": "3.7.7"
  }
 },
 "nbformat": 4,
 "nbformat_minor": 4
}
