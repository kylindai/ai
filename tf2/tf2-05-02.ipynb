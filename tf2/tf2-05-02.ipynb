{
 "cells": [
  {
   "cell_type": "code",
   "execution_count": 2,
   "metadata": {},
   "outputs": [],
   "source": [
    "import numpy as np\n",
    "import tensorflow as tf"
   ]
  },
  {
   "cell_type": "code",
   "execution_count": 3,
   "metadata": {},
   "outputs": [
    {
     "name": "stdout",
     "output_type": "stream",
     "text": [
      "tf.Tensor(\n",
      "[[0.32515943 0.03242435 0.12755568 0.36408886 0.15077166]\n",
      " [0.21067387 0.05999207 0.14600773 0.36729982 0.21602657]\n",
      " [0.10985434 0.7083857  0.0252272  0.12280616 0.03372658]\n",
      " [0.20551592 0.46879524 0.07401212 0.20055364 0.05112298]\n",
      " [0.26799342 0.04875605 0.26800814 0.18662338 0.22861893]\n",
      " [0.08603292 0.3391343  0.12055331 0.25047606 0.2038033 ]\n",
      " [0.36165679 0.09165016 0.36943668 0.04327237 0.1339839 ]\n",
      " [0.5180245  0.04494635 0.34468785 0.02710288 0.06523838]\n",
      " [0.07142196 0.5174532  0.043565   0.23061237 0.1369475 ]\n",
      " [0.33894828 0.02947538 0.09869327 0.42488375 0.1079994 ]], shape=(10, 5), dtype=float32)\n"
     ]
    }
   ],
   "source": [
    "out = tf.random.normal([10,5])\n",
    "out = tf.nn.softmax(out, axis=1)\n",
    "print(out)"
   ]
  },
  {
   "cell_type": "code",
   "execution_count": 4,
   "metadata": {},
   "outputs": [
    {
     "data": {
      "text/plain": [
       "<tf.Tensor: shape=(10,), dtype=int64, numpy=array([3, 3, 1, 1, 2, 1, 2, 0, 1, 3])>"
      ]
     },
     "execution_count": 4,
     "metadata": {},
     "output_type": "execute_result"
    }
   ],
   "source": [
    "pred = tf.argmax(out, axis=1)\n",
    "pred"
   ]
  },
  {
   "cell_type": "code",
   "execution_count": 5,
   "metadata": {},
   "outputs": [
    {
     "data": {
      "text/plain": [
       "<tf.Tensor: shape=(10,), dtype=int64, numpy=array([1, 0, 2, 0, 2, 2, 2, 2, 0, 2])>"
      ]
     },
     "execution_count": 5,
     "metadata": {},
     "output_type": "execute_result"
    }
   ],
   "source": [
    "y = tf.random.uniform([10], dtype=tf.int64, maxval=5)\n",
    "y"
   ]
  },
  {
   "cell_type": "code",
   "execution_count": 6,
   "metadata": {},
   "outputs": [
    {
     "data": {
      "text/plain": [
       "<tf.Tensor: shape=(10,), dtype=bool, numpy=\n",
       "array([False, False, False, False,  True, False,  True, False, False,\n",
       "       False])>"
      ]
     },
     "execution_count": 6,
     "metadata": {},
     "output_type": "execute_result"
    }
   ],
   "source": [
    "out = tf.equal(pred, y)\n",
    "out"
   ]
  },
  {
   "cell_type": "code",
   "execution_count": 7,
   "metadata": {},
   "outputs": [
    {
     "data": {
      "text/plain": [
       "<tf.Tensor: shape=(10,), dtype=float32, numpy=array([0., 0., 0., 0., 1., 0., 1., 0., 0., 0.], dtype=float32)>"
      ]
     },
     "execution_count": 7,
     "metadata": {},
     "output_type": "execute_result"
    }
   ],
   "source": [
    "out = tf.cast(out, dtype=tf.float32)\n",
    "out"
   ]
  },
  {
   "cell_type": "code",
   "execution_count": 8,
   "metadata": {},
   "outputs": [
    {
     "data": {
      "text/plain": [
       "<tf.Tensor: shape=(), dtype=float32, numpy=2.0>"
      ]
     },
     "execution_count": 8,
     "metadata": {},
     "output_type": "execute_result"
    }
   ],
   "source": [
    "correct = tf.reduce_sum(out)\n",
    "correct"
   ]
  },
  {
   "cell_type": "code",
   "execution_count": 9,
   "metadata": {},
   "outputs": [
    {
     "data": {
      "text/plain": [
       "<tf.Tensor: shape=(4, 10), dtype=float32, numpy=\n",
       "array([[-4.7224915e-01,  8.6405092e-01, -2.9416904e-01, -6.4298794e-02,\n",
       "         7.4310988e-01,  3.4398735e-01,  8.8617903e-01, -1.3819391e+00,\n",
       "         4.6587907e-04, -9.3558200e-02],\n",
       "       [-4.1734007e-01, -2.5347400e+00, -2.6854119e-01, -5.2977037e-01,\n",
       "         1.8924528e-01,  8.7501675e-01,  9.6825039e-01, -1.4290040e+00,\n",
       "        -1.0428611e+00,  5.4081362e-01],\n",
       "       [-1.1008236e+00, -1.5160701e+00,  2.9429331e-01,  7.4860686e-01,\n",
       "         1.0374231e+00,  1.1904374e+00,  1.1957107e+00,  1.2612055e-01,\n",
       "         1.3987004e+00, -1.7314813e+00],\n",
       "       [-8.7053955e-01,  1.5185314e+00,  3.2820612e-01,  2.2828650e-01,\n",
       "        -5.9221089e-01,  4.1097406e-01,  3.4728488e-01, -8.0746210e-01,\n",
       "         7.3506936e-02, -1.0562756e+00]], dtype=float32)>"
      ]
     },
     "execution_count": 9,
     "metadata": {},
     "output_type": "execute_result"
    }
   ],
   "source": [
    "out = tf.random.normal([4,10])\n",
    "out"
   ]
  },
  {
   "cell_type": "code",
   "execution_count": 10,
   "metadata": {},
   "outputs": [
    {
     "name": "stdout",
     "output_type": "stream",
     "text": [
      "tf.Tensor([1 2 2 0], shape=(4,), dtype=int32)\n",
      "tf.Tensor(\n",
      "[[0. 1. 0. 0. 0. 0. 0. 0. 0. 0.]\n",
      " [0. 0. 1. 0. 0. 0. 0. 0. 0. 0.]\n",
      " [0. 0. 1. 0. 0. 0. 0. 0. 0. 0.]\n",
      " [1. 0. 0. 0. 0. 0. 0. 0. 0. 0.]], shape=(4, 10), dtype=float32)\n"
     ]
    }
   ],
   "source": [
    "y = tf.constant([1,2,2,0])\n",
    "print(y)\n",
    "y = tf.one_hot(y, depth=10)\n",
    "print(y)"
   ]
  },
  {
   "cell_type": "code",
   "execution_count": 12,
   "metadata": {},
   "outputs": [
    {
     "data": {
      "text/plain": [
       "<tf.Tensor: shape=(4,), dtype=float32, numpy=array([0.37065327, 1.365     , 1.3462125 , 0.8378027 ], dtype=float32)>"
      ]
     },
     "execution_count": 12,
     "metadata": {},
     "output_type": "execute_result"
    }
   ],
   "source": [
    "import tensorflow.keras as keras\n",
    "loss = keras.losses.mse(y, out)\n",
    "loss"
   ]
  },
  {
   "cell_type": "code",
   "execution_count": 13,
   "metadata": {},
   "outputs": [
    {
     "data": {
      "text/plain": [
       "<tf.Tensor: shape=(), dtype=float32, numpy=0.9799171>"
      ]
     },
     "execution_count": 13,
     "metadata": {},
     "output_type": "execute_result"
    }
   ],
   "source": [
    "loss = tf.reduce_mean(loss)\n",
    "loss"
   ]
  },
  {
   "cell_type": "code",
   "execution_count": 15,
   "metadata": {},
   "outputs": [
    {
     "data": {
      "text/plain": [
       "<tf.Tensor: shape=(4,), dtype=float32, numpy=array([2.8872852, 1.5895982, 0.8018211, 4.117525 ], dtype=float32)>"
      ]
     },
     "execution_count": 15,
     "metadata": {},
     "output_type": "execute_result"
    }
   ],
   "source": [
    "out = tf.random.normal([4, 10])\n",
    "out = tf.reduce_sum(out, axis=-1)\n",
    "out"
   ]
  },
  {
   "cell_type": "code",
   "execution_count": null,
   "metadata": {},
   "outputs": [],
   "source": []
  }
 ],
 "metadata": {
  "kernelspec": {
   "display_name": "Python 3",
   "language": "python",
   "name": "python3"
  },
  "language_info": {
   "codemirror_mode": {
    "name": "ipython",
    "version": 3
   },
   "file_extension": ".py",
   "mimetype": "text/x-python",
   "name": "python",
   "nbconvert_exporter": "python",
   "pygments_lexer": "ipython3",
   "version": "3.6.8"
  }
 },
 "nbformat": 4,
 "nbformat_minor": 2
}
