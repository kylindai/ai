{
 "cells": [
  {
   "cell_type": "code",
   "execution_count": 8,
   "metadata": {},
   "outputs": [],
   "source": [
    "import numpy as np\n",
    "import tensorflow as tf"
   ]
  },
  {
   "cell_type": "code",
   "execution_count": 2,
   "metadata": {},
   "outputs": [
    {
     "data": {
      "text/plain": [
       "<tf.Tensor: shape=(10,), dtype=int32, numpy=array([0, 6, 3, 2, 5, 9, 7, 8, 1, 4], dtype=int32)>"
      ]
     },
     "execution_count": 2,
     "metadata": {},
     "output_type": "execute_result"
    }
   ],
   "source": [
    "# 生成10个数代表单词编码，并打散\n",
    "x = tf.range(10)\n",
    "x = tf.random.shuffle(x)\n",
    "x"
   ]
  },
  {
   "cell_type": "code",
   "execution_count": 5,
   "metadata": {},
   "outputs": [
    {
     "data": {
      "text/plain": [
       "<tf.Variable 'embedding_2/embeddings:0' shape=(10, 4) dtype=float32, numpy=\n",
       "array([[ 0.04430662,  0.0468899 ,  0.02764877,  0.00989246],\n",
       "       [-0.01294452,  0.01442144, -0.03446698,  0.02051159],\n",
       "       [-0.00848819, -0.03702383,  0.01452387,  0.04852619],\n",
       "       [ 0.00978794, -0.01516761,  0.01541007, -0.02404953],\n",
       "       [ 0.00250383,  0.03480886, -0.00921584,  0.0281837 ],\n",
       "       [-0.04873066,  0.04582716, -0.00312468,  0.01203021],\n",
       "       [ 0.01713899, -0.04115336,  0.04609585,  0.01113306],\n",
       "       [-0.00847063, -0.00894344,  0.0245542 , -0.02244297],\n",
       "       [ 0.03911826,  0.00692309,  0.01267581,  0.01291552],\n",
       "       [ 0.01978758,  0.04740787,  0.00902031,  0.01777233]],\n",
       "      dtype=float32)>"
      ]
     },
     "execution_count": 5,
     "metadata": {},
     "output_type": "execute_result"
    }
   ],
   "source": [
    "# 创建10个单词的Embedding层，每个单词用长度为4的向量表示\n",
    "net = tf.keras.layers.Embedding(10, 4)\n",
    "# 随机初始化10个单词的向量，未经训练\n",
    "out = net(x)\n",
    "net.embeddings"
   ]
  },
  {
   "cell_type": "code",
   "execution_count": 6,
   "metadata": {},
   "outputs": [
    {
     "data": {
      "text/plain": [
       "True"
      ]
     },
     "execution_count": 6,
     "metadata": {},
     "output_type": "execute_result"
    }
   ],
   "source": [
    "net.embeddings.trainable"
   ]
  },
  {
   "cell_type": "code",
   "execution_count": 9,
   "metadata": {},
   "outputs": [],
   "source": [
    "# embed_glove = load_embed('../data/glove.6B.50d.txt')"
   ]
  },
  {
   "cell_type": "code",
   "execution_count": null,
   "metadata": {},
   "outputs": [],
   "source": []
  }
 ],
 "metadata": {
  "kernelspec": {
   "display_name": "Python 3",
   "language": "python",
   "name": "python3"
  },
  "language_info": {
   "codemirror_mode": {
    "name": "ipython",
    "version": 3
   },
   "file_extension": ".py",
   "mimetype": "text/x-python",
   "name": "python",
   "nbconvert_exporter": "python",
   "pygments_lexer": "ipython3",
   "version": "3.7.7"
  }
 },
 "nbformat": 4,
 "nbformat_minor": 4
}
