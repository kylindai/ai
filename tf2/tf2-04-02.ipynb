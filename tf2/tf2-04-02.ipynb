{
 "cells": [
  {
   "cell_type": "code",
   "execution_count": 1,
   "metadata": {},
   "outputs": [],
   "source": [
    "import numpy as np\n",
    "import tensorflow as tf"
   ]
  },
  {
   "cell_type": "code",
   "execution_count": 2,
   "metadata": {},
   "outputs": [
    {
     "data": {
      "text/plain": [
       "<tf.Tensor: shape=(), dtype=float32, numpy=0.0>"
      ]
     },
     "execution_count": 2,
     "metadata": {},
     "output_type": "execute_result"
    }
   ],
   "source": [
    "tf.zeros([])"
   ]
  },
  {
   "cell_type": "code",
   "execution_count": 3,
   "metadata": {},
   "outputs": [
    {
     "data": {
      "text/plain": [
       "<tf.Tensor: shape=(2, 2), dtype=float32, numpy=\n",
       "array([[ 0.58964705, -0.77998286],\n",
       "       [ 1.1123979 ,  0.3973646 ]], dtype=float32)>"
      ]
     },
     "execution_count": 3,
     "metadata": {},
     "output_type": "execute_result"
    }
   ],
   "source": [
    "tf.random.normal([2,2])"
   ]
  },
  {
   "cell_type": "code",
   "execution_count": 4,
   "metadata": {},
   "outputs": [
    {
     "data": {
      "text/plain": [
       "<tf.Tensor: shape=(2, 2), dtype=float32, numpy=\n",
       "array([[0.24602425, 0.42403388],\n",
       "       [0.52626646, 0.00264955]], dtype=float32)>"
      ]
     },
     "execution_count": 4,
     "metadata": {},
     "output_type": "execute_result"
    }
   ],
   "source": [
    "tf.random.uniform([2,2])"
   ]
  },
  {
   "cell_type": "code",
   "execution_count": 6,
   "metadata": {},
   "outputs": [
    {
     "name": "stdout",
     "output_type": "stream",
     "text": [
      "tf.Tensor(\n",
      "[[0.8466885  0.5517901  0.5153737  0.8980526  0.6672832  0.8628347\n",
      "  0.4610952  0.30387795 0.26763284 0.6299341 ]\n",
      " [0.1865766  0.95328534 0.02492011 0.42514205 0.35795343 0.895267\n",
      "  0.6278577  0.12264204 0.5296699  0.37083805]\n",
      " [0.16201186 0.84440637 0.24263144 0.08350801 0.9386245  0.27933967\n",
      "  0.74174666 0.44460034 0.29703867 0.680681  ]\n",
      " [0.95341086 0.2125107  0.5915729  0.13903153 0.07715642 0.6889435\n",
      "  0.56989956 0.6233692  0.03786147 0.8945997 ]], shape=(4, 10), dtype=float32)\n",
      "tf.Tensor([2 3 2 0], shape=(4,), dtype=int32)\n",
      "tf.Tensor(\n",
      "[[0. 0. 1. 0. 0. 0. 0. 0. 0. 0.]\n",
      " [0. 0. 0. 1. 0. 0. 0. 0. 0. 0.]\n",
      " [0. 0. 1. 0. 0. 0. 0. 0. 0. 0.]\n",
      " [1. 0. 0. 0. 0. 0. 0. 0. 0. 0.]], shape=(4, 10), dtype=float32)\n",
      "tf.Tensor([0.40258604 0.30315974 0.35783133 0.24123326], shape=(4,), dtype=float32)\n",
      "tf.Tensor(0.3262026, shape=(), dtype=float32)\n"
     ]
    }
   ],
   "source": [
    "out = tf.random.uniform([4,10])\n",
    "print(out)\n",
    "y = tf.constant([2,3,2,0])\n",
    "print(y)\n",
    "y = tf.one_hot(y, depth=10)\n",
    "print(y)\n",
    "loss = tf.keras.losses.mse(y, out)\n",
    "print(loss)\n",
    "loss = tf.reduce_mean(loss)\n",
    "print(loss)"
   ]
  },
  {
   "cell_type": "code",
   "execution_count": 8,
   "metadata": {},
   "outputs": [
    {
     "data": {
      "text/plain": [
       "<tf.Tensor: shape=(4, 2), dtype=float32, numpy=\n",
       "array([[-0.87612295, -0.51981354],\n",
       "       [-0.909684  ,  0.1952527 ],\n",
       "       [-0.65551054,  1.4818776 ],\n",
       "       [ 1.3520427 , -0.7577985 ]], dtype=float32)>"
      ]
     },
     "execution_count": 8,
     "metadata": {},
     "output_type": "execute_result"
    }
   ],
   "source": [
    "a = tf.random.normal([4,2])\n",
    "b = tf.zeros([2])\n",
    "z = a + b\n",
    "z"
   ]
  },
  {
   "cell_type": "code",
   "execution_count": 9,
   "metadata": {},
   "outputs": [
    {
     "name": "stdout",
     "output_type": "stream",
     "text": [
      "<tensorflow.python.keras.layers.core.Dense object at 0x140847e10>\n"
     ]
    }
   ],
   "source": [
    "fc = tf.keras.layers.Dense(3)\n",
    "print(fc)"
   ]
  },
  {
   "cell_type": "code",
   "execution_count": 10,
   "metadata": {},
   "outputs": [
    {
     "name": "stdout",
     "output_type": "stream",
     "text": [
      "<tensorflow.python.keras.layers.core.Dense object at 0x140847e10>\n"
     ]
    }
   ],
   "source": [
    "fc.build(input_shape=(2,4))\n",
    "print(fc)"
   ]
  },
  {
   "cell_type": "code",
   "execution_count": 11,
   "metadata": {},
   "outputs": [
    {
     "data": {
      "text/plain": [
       "<tf.Variable 'bias:0' shape=(3,) dtype=float32, numpy=array([0., 0., 0.], dtype=float32)>"
      ]
     },
     "execution_count": 11,
     "metadata": {},
     "output_type": "execute_result"
    }
   ],
   "source": [
    "fc.bias"
   ]
  },
  {
   "cell_type": "code",
   "execution_count": 13,
   "metadata": {},
   "outputs": [
    {
     "data": {
      "text/plain": [
       "(25000, 80)"
      ]
     },
     "execution_count": 13,
     "metadata": {},
     "output_type": "execute_result"
    }
   ],
   "source": [
    "(x_train, y_train),(x_test, y_test) = tf.keras.datasets.imdb.load_data(num_words=10000)\n",
    "x_train = tf.keras.preprocessing.sequence.pad_sequences(x_train, maxlen=80)\n",
    "x_train.shape"
   ]
  },
  {
   "cell_type": "code",
   "execution_count": 14,
   "metadata": {},
   "outputs": [
    {
     "data": {
      "text/plain": [
       "TensorShape([25000, 80, 100])"
      ]
     },
     "execution_count": 14,
     "metadata": {},
     "output_type": "execute_result"
    }
   ],
   "source": [
    "embedding = tf.keras.layers.Embedding(10000, 100)\n",
    "out = embedding(x_train)\n",
    "out.shape"
   ]
  },
  {
   "cell_type": "code",
   "execution_count": null,
   "metadata": {},
   "outputs": [],
   "source": []
  }
 ],
 "metadata": {
  "kernelspec": {
   "display_name": "Python 3",
   "language": "python",
   "name": "python3"
  },
  "language_info": {
   "codemirror_mode": {
    "name": "ipython",
    "version": 3
   },
   "file_extension": ".py",
   "mimetype": "text/x-python",
   "name": "python",
   "nbconvert_exporter": "python",
   "pygments_lexer": "ipython3",
   "version": "3.6.8"
  }
 },
 "nbformat": 4,
 "nbformat_minor": 2
}
