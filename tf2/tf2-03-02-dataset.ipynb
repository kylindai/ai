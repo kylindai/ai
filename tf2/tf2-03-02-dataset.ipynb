{
 "cells": [
  {
   "cell_type": "code",
   "execution_count": 1,
   "metadata": {},
   "outputs": [],
   "source": [
    "import numpy as np\n",
    "import tensorflow as tf"
   ]
  },
  {
   "cell_type": "code",
   "execution_count": 5,
   "metadata": {},
   "outputs": [
    {
     "data": {
      "text/plain": [
       "(5, 2)"
      ]
     },
     "execution_count": 5,
     "metadata": {},
     "output_type": "execute_result"
    }
   ],
   "source": [
    "# 生成一个矩阵\n",
    "x = np.array([[1, 2], [3, 4], [5, 6], [7, 8], [9, 10]])\n",
    "x.shape"
   ]
  },
  {
   "cell_type": "code",
   "execution_count": 12,
   "metadata": {},
   "outputs": [
    {
     "data": {
      "text/plain": [
       "array([[0],\n",
       "       [1],\n",
       "       [2],\n",
       "       [3],\n",
       "       [4]])"
      ]
     },
     "execution_count": 12,
     "metadata": {},
     "output_type": "execute_result"
    }
   ],
   "source": [
    "# 生成标签列\n",
    "y = np.arange(5)\n",
    "y = np.reshape(y, (-1, 1))\n",
    "y"
   ]
  },
  {
   "cell_type": "code",
   "execution_count": 14,
   "metadata": {},
   "outputs": [
    {
     "data": {
      "text/plain": [
       "<tf.Tensor: shape=(5, 2), dtype=int64, numpy=\n",
       "array([[ 1,  2],\n",
       "       [ 3,  4],\n",
       "       [ 5,  6],\n",
       "       [ 7,  8],\n",
       "       [ 9, 10]])>"
      ]
     },
     "execution_count": 14,
     "metadata": {},
     "output_type": "execute_result"
    }
   ],
   "source": [
    "feats = tf.convert_to_tensor(x)\n",
    "feats"
   ]
  },
  {
   "cell_type": "code",
   "execution_count": 26,
   "metadata": {},
   "outputs": [
    {
     "data": {
      "text/plain": [
       "[(array([[3, 4],\n",
       "         [1, 2]]),\n",
       "  array([[1],\n",
       "         [0]])),\n",
       " (array([[ 9, 10],\n",
       "         [ 5,  6]]),\n",
       "  array([[4],\n",
       "         [2]])),\n",
       " (array([[7, 8]]), array([[3]]))]"
      ]
     },
     "execution_count": 26,
     "metadata": {},
     "output_type": "execute_result"
    }
   ],
   "source": [
    "train_db = tf.data.Dataset.from_tensor_slices((x, y))\n",
    "train_db = train_db.shuffle(100).batch(2)\n",
    "list(train_db.as_numpy_iterator())"
   ]
  },
  {
   "cell_type": "code",
   "execution_count": 21,
   "metadata": {},
   "outputs": [
    {
     "name": "stdout",
     "output_type": "stream",
     "text": [
      "step= 0 tf.Tensor(\n",
      "[[1 2]\n",
      " [5 6]], shape=(2, 2), dtype=int64) tf.Tensor(\n",
      "[[0]\n",
      " [2]], shape=(2, 1), dtype=int64)\n",
      "step= 1 tf.Tensor(\n",
      "[[3 4]\n",
      " [7 8]], shape=(2, 2), dtype=int64) tf.Tensor(\n",
      "[[1]\n",
      " [3]], shape=(2, 1), dtype=int64)\n",
      "step= 2 tf.Tensor([[ 9 10]], shape=(1, 2), dtype=int64) tf.Tensor([[4]], shape=(1, 1), dtype=int64)\n"
     ]
    }
   ],
   "source": [
    "for step, (x_train, y_train) in enumerate(train_db):\n",
    "    print('step=', step, x_train, y_train)"
   ]
  },
  {
   "cell_type": "code",
   "execution_count": 27,
   "metadata": {},
   "outputs": [
    {
     "name": "stdout",
     "output_type": "stream",
     "text": [
      ">>> i = 0 step = 0 [[7 8]\n",
      " [1 2]] [[3]\n",
      " [0]]\n",
      ">>> i = 0 step = 1 [[ 9 10]\n",
      " [ 5  6]] [[4]\n",
      " [2]]\n",
      ">>> i = 0 step = 2 [[3 4]] [[1]]\n",
      ">>> i = 0 step = 0 [[1 2]\n",
      " [5 6]] [[0]\n",
      " [2]]\n",
      ">>> i = 0 step = 1 [[ 3  4]\n",
      " [ 9 10]] [[1]\n",
      " [4]]\n",
      ">>> i = 0 step = 2 [[7 8]] [[3]]\n",
      ">>> i = 1 step = 0 [[ 9 10]\n",
      " [ 3  4]] [[4]\n",
      " [1]]\n",
      ">>> i = 1 step = 1 [[5 6]\n",
      " [1 2]] [[2]\n",
      " [0]]\n",
      ">>> i = 1 step = 2 [[7 8]] [[3]]\n",
      ">>> i = 1 step = 0 [[3 4]\n",
      " [5 6]] [[1]\n",
      " [2]]\n",
      ">>> i = 1 step = 1 [[ 7  8]\n",
      " [ 9 10]] [[3]\n",
      " [4]]\n",
      ">>> i = 1 step = 2 [[1 2]] [[0]]\n",
      ">>> i = 2 step = 0 [[5 6]\n",
      " [3 4]] [[2]\n",
      " [1]]\n",
      ">>> i = 2 step = 1 [[ 9 10]\n",
      " [ 7  8]] [[4]\n",
      " [3]]\n",
      ">>> i = 2 step = 2 [[1 2]] [[0]]\n",
      ">>> i = 2 step = 0 [[3 4]\n",
      " [1 2]] [[1]\n",
      " [0]]\n",
      ">>> i = 2 step = 1 [[ 9 10]\n",
      " [ 5  6]] [[4]\n",
      " [2]]\n",
      ">>> i = 2 step = 2 [[7 8]] [[3]]\n",
      ">>> i = 3 step = 0 [[ 3  4]\n",
      " [ 9 10]] [[1]\n",
      " [4]]\n",
      ">>> i = 3 step = 1 [[5 6]\n",
      " [1 2]] [[2]\n",
      " [0]]\n",
      ">>> i = 3 step = 2 [[7 8]] [[3]]\n",
      ">>> i = 3 step = 0 [[3 4]\n",
      " [1 2]] [[1]\n",
      " [0]]\n",
      ">>> i = 3 step = 1 [[7 8]\n",
      " [5 6]] [[3]\n",
      " [2]]\n",
      ">>> i = 3 step = 2 [[ 9 10]] [[4]]\n",
      ">>> i = 4 step = 0 [[7 8]\n",
      " [1 2]] [[3]\n",
      " [0]]\n",
      ">>> i = 4 step = 1 [[ 9 10]\n",
      " [ 5  6]] [[4]\n",
      " [2]]\n",
      ">>> i = 4 step = 2 [[3 4]] [[1]]\n",
      ">>> i = 4 step = 0 [[7 8]\n",
      " [1 2]] [[3]\n",
      " [0]]\n",
      ">>> i = 4 step = 1 [[ 9 10]\n",
      " [ 5  6]] [[4]\n",
      " [2]]\n",
      ">>> i = 4 step = 2 [[3 4]] [[1]]\n",
      ">>> i = 5 step = 0 [[7 8]\n",
      " [1 2]] [[3]\n",
      " [0]]\n",
      ">>> i = 5 step = 1 [[3 4]\n",
      " [5 6]] [[1]\n",
      " [2]]\n",
      ">>> i = 5 step = 2 [[ 9 10]] [[4]]\n",
      ">>> i = 5 step = 0 [[ 7  8]\n",
      " [ 9 10]] [[3]\n",
      " [4]]\n",
      ">>> i = 5 step = 1 [[1 2]\n",
      " [3 4]] [[0]\n",
      " [1]]\n",
      ">>> i = 5 step = 2 [[5 6]] [[2]]\n",
      ">>> i = 6 step = 0 [[7 8]\n",
      " [3 4]] [[3]\n",
      " [1]]\n",
      ">>> i = 6 step = 1 [[ 1  2]\n",
      " [ 9 10]] [[0]\n",
      " [4]]\n",
      ">>> i = 6 step = 2 [[5 6]] [[2]]\n",
      ">>> i = 6 step = 0 [[7 8]\n",
      " [3 4]] [[3]\n",
      " [1]]\n",
      ">>> i = 6 step = 1 [[ 9 10]\n",
      " [ 5  6]] [[4]\n",
      " [2]]\n",
      ">>> i = 6 step = 2 [[1 2]] [[0]]\n",
      ">>> i = 7 step = 0 [[ 1  2]\n",
      " [ 9 10]] [[0]\n",
      " [4]]\n",
      ">>> i = 7 step = 1 [[3 4]\n",
      " [5 6]] [[1]\n",
      " [2]]\n",
      ">>> i = 7 step = 2 [[7 8]] [[3]]\n",
      ">>> i = 7 step = 0 [[ 1  2]\n",
      " [ 9 10]] [[0]\n",
      " [4]]\n",
      ">>> i = 7 step = 1 [[7 8]\n",
      " [5 6]] [[3]\n",
      " [2]]\n",
      ">>> i = 7 step = 2 [[3 4]] [[1]]\n",
      ">>> i = 8 step = 0 [[1 2]\n",
      " [5 6]] [[0]\n",
      " [2]]\n",
      ">>> i = 8 step = 1 [[3 4]\n",
      " [7 8]] [[1]\n",
      " [3]]\n",
      ">>> i = 8 step = 2 [[ 9 10]] [[4]]\n",
      ">>> i = 8 step = 0 [[5 6]\n",
      " [1 2]] [[2]\n",
      " [0]]\n",
      ">>> i = 8 step = 1 [[ 3  4]\n",
      " [ 9 10]] [[1]\n",
      " [4]]\n",
      ">>> i = 8 step = 2 [[7 8]] [[3]]\n",
      ">>> i = 9 step = 0 [[ 7  8]\n",
      " [ 9 10]] [[3]\n",
      " [4]]\n",
      ">>> i = 9 step = 1 [[5 6]\n",
      " [1 2]] [[2]\n",
      " [0]]\n",
      ">>> i = 9 step = 2 [[3 4]] [[1]]\n",
      ">>> i = 9 step = 0 [[3 4]\n",
      " [7 8]] [[1]\n",
      " [3]]\n",
      ">>> i = 9 step = 1 [[ 1  2]\n",
      " [ 9 10]] [[0]\n",
      " [4]]\n",
      ">>> i = 9 step = 2 [[5 6]] [[2]]\n"
     ]
    }
   ],
   "source": [
    "# 测试train_db的iterator\n",
    "for i in range(10):\n",
    "    for step, (x_train, y_train) in enumerate(train_db):\n",
    "        print('>>> i =', i, 'step =', step, x_train.numpy(), y_train.numpy())\n"
   ]
  },
  {
   "cell_type": "code",
   "execution_count": null,
   "metadata": {},
   "outputs": [],
   "source": []
  }
 ],
 "metadata": {
  "kernelspec": {
   "display_name": "Python 3",
   "language": "python",
   "name": "python3"
  },
  "language_info": {
   "codemirror_mode": {
    "name": "ipython",
    "version": 3
   },
   "file_extension": ".py",
   "mimetype": "text/x-python",
   "name": "python",
   "nbconvert_exporter": "python",
   "pygments_lexer": "ipython3",
   "version": "3.7.7"
  }
 },
 "nbformat": 4,
 "nbformat_minor": 4
}
