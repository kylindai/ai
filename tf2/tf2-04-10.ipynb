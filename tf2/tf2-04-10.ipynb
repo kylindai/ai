{
 "cells": [
  {
   "cell_type": "markdown",
   "metadata": {},
   "source": [
    "#### 前章回顾\n",
    "* 张量创建\n",
    "* 张量进行切片索引\n",
    "* 张量维度变化\n",
    "* 张量数学运算"
   ]
  },
  {
   "cell_type": "markdown",
   "metadata": {},
   "source": [
    "#### 本章目标\n",
    "* 前向传播\n",
    "* 构建3层神经网络\n",
    "* $out = ReLU\\{ReLU\\{ReLU[X@W_1 + b_1]@W_2 + b_2\\}@W_3 + b_3\\}$"
   ]
  },
  {
   "cell_type": "code",
   "execution_count": 2,
   "metadata": {},
   "outputs": [],
   "source": [
    "import numpy as np\n",
    "import tensorflow as tf"
   ]
  },
  {
   "cell_type": "code",
   "execution_count": 3,
   "metadata": {},
   "outputs": [],
   "source": [
    "# 第一层\n",
    "# 截断的正太分布初始化权值\n",
    "w1 = tf.Variable(tf.random.truncated_normal([784, 256], stddev=0.1))\n",
    "b1 = tf.Variable(tf.zeros([256]))"
   ]
  },
  {
   "cell_type": "code",
   "execution_count": 4,
   "metadata": {},
   "outputs": [],
   "source": [
    "# 第二层\n",
    "w2 = tf.Variable(tf.random.truncated_normal([256, 128], stddev=0.1))\n",
    "b2 = tf.Variable(tf.zeros([128]))"
   ]
  },
  {
   "cell_type": "code",
   "execution_count": 5,
   "metadata": {},
   "outputs": [],
   "source": [
    "# 第三层\n",
    "w3 = tf.Variable(tf.random.truncated_normal([128, 10], stddev=0.1))\n",
    "b3 = tf.Variable(tf.zeros([10]))"
   ]
  },
  {
   "cell_type": "code",
   "execution_count": 6,
   "metadata": {},
   "outputs": [
    {
     "name": "stdout",
     "output_type": "stream",
     "text": [
      "(2, 28, 28)\n",
      "(2, 784)\n"
     ]
    }
   ],
   "source": [
    "# 前向计算时，首先将shape[b, 28, 28]调整为[b, 784]\n",
    "x = tf.random.normal([2, 28, 28])\n",
    "print(x.shape)\n",
    "x = tf.reshape(x, [-1, 28 * 28])\n",
    "print(x.shape)"
   ]
  },
  {
   "cell_type": "code",
   "execution_count": 7,
   "metadata": {},
   "outputs": [
    {
     "data": {
      "text/plain": [
       "TensorShape([2, 256])"
      ]
     },
     "execution_count": 7,
     "metadata": {},
     "output_type": "execute_result"
    }
   ],
   "source": [
    "# 第一层计算\n",
    "h1 = x@w1 + tf.broadcast_to(b1, [x.shape[0], 256])\n",
    "h1 = tf.nn.relu(h1)\n",
    "h1.shape"
   ]
  },
  {
   "cell_type": "code",
   "execution_count": 8,
   "metadata": {},
   "outputs": [
    {
     "data": {
      "text/plain": [
       "TensorShape([2, 128])"
      ]
     },
     "execution_count": 8,
     "metadata": {},
     "output_type": "execute_result"
    }
   ],
   "source": [
    "# 第二层计算\n",
    "h2 = h1@w2 + b2\n",
    "h2 = tf.nn.relu(h2)\n",
    "h2.shape"
   ]
  },
  {
   "cell_type": "code",
   "execution_count": 9,
   "metadata": {},
   "outputs": [
    {
     "data": {
      "text/plain": [
       "TensorShape([2, 10])"
      ]
     },
     "execution_count": 9,
     "metadata": {},
     "output_type": "execute_result"
    }
   ],
   "source": [
    "# 第三层及计算\n",
    "out = h2@w3 + b3\n",
    "out.shape"
   ]
  },
  {
   "cell_type": "code",
   "execution_count": 13,
   "metadata": {},
   "outputs": [
    {
     "data": {
      "text/plain": [
       "<tf.Tensor: shape=(2, 10), dtype=float32, numpy=\n",
       "array([[1., 0., 0., 0., 0., 0., 0., 0., 0., 0.],\n",
       "       [0., 1., 0., 0., 0., 0., 0., 0., 0., 0.]], dtype=float32)>"
      ]
     },
     "execution_count": 13,
     "metadata": {},
     "output_type": "execute_result"
    }
   ],
   "source": [
    "# 真实的标注转换为one_hot码\n",
    "y = tf.constant([0,1])\n",
    "y_onehot = tf.one_hot(y, depth=10)\n",
    "y_onehot"
   ]
  },
  {
   "cell_type": "code",
   "execution_count": 14,
   "metadata": {},
   "outputs": [
    {
     "data": {
      "text/plain": [
       "<tf.Tensor: shape=(2, 10), dtype=float32, numpy=\n",
       "array([[1.8951963 , 7.7249737 , 8.831971  , 0.47138783, 6.1189456 ,\n",
       "        0.6345111 , 5.926991  , 0.14453362, 1.849305  , 2.1363316 ],\n",
       "       [0.39925453, 6.5381403 , 0.06446642, 0.04693377, 0.05781179,\n",
       "        1.1091652 , 0.02716741, 0.56003857, 5.799991  , 0.06695092]],\n",
       "      dtype=float32)>"
      ]
     },
     "execution_count": 14,
     "metadata": {},
     "output_type": "execute_result"
    }
   ],
   "source": [
    "# 计算输出层和标签之间的方差\n",
    "loss = tf.square(y_onehot - out)\n",
    "loss"
   ]
  },
  {
   "cell_type": "code",
   "execution_count": 15,
   "metadata": {},
   "outputs": [
    {
     "data": {
      "text/plain": [
       "<tf.Tensor: shape=(), dtype=float32, numpy=2.5202034>"
      ]
     },
     "execution_count": 15,
     "metadata": {},
     "output_type": "execute_result"
    }
   ],
   "source": [
    "# 计算平均方差\n",
    "loss = tf.reduce_mean(loss)\n",
    "loss"
   ]
  },
  {
   "cell_type": "code",
   "execution_count": 16,
   "metadata": {},
   "outputs": [
    {
     "data": {
      "text/plain": [
       "<tf.Variable 'UnreadVariable' shape=(10,) dtype=float32, numpy=\n",
       "array([-7.4479547e-05, -5.3363625e-04, -2.7179613e-04, -4.6993489e-05,\n",
       "       -2.7140911e-04, -2.5660709e-05, -2.5993667e-04,  1.1285331e-04,\n",
       "        1.0484256e-04, -1.7203685e-04], dtype=float32)>"
      ]
     },
     "execution_count": 16,
     "metadata": {},
     "output_type": "execute_result"
    }
   ],
   "source": [
    "# 梯度记录器\n",
    "with tf.GradientTape() as tape:\n",
    "    h1 = x@w1 + tf.broadcast_to(b1, [x.shape[0], 256])\n",
    "    h1 = tf.nn.relu(h1)\n",
    "    h2 = h1@w2 + b2\n",
    "    h2 = tf.nn.relu(h2)\n",
    "    out = h2@w3 + b3   \n",
    "    loss = tf.reduce_mean(tf.square(y_onehot - out))\n",
    "\n",
    "grads = tape.gradient(loss, [w1, b1, w2, b2, w3, b3])    \n",
    "\n",
    "# 梯度更新，原地更新\n",
    "lr = 0.001\n",
    "w1.assign_sub(lr * grads[0])\n",
    "b1.assign_sub(lr * grads[1])\n",
    "w2.assign_sub(lr * grads[2])\n",
    "b2.assign_sub(lr * grads[3])\n",
    "w3.assign_sub(lr * grads[4])\n",
    "b3.assign_sub(lr * grads[5])"
   ]
  },
  {
   "cell_type": "code",
   "execution_count": null,
   "metadata": {},
   "outputs": [],
   "source": []
  }
 ],
 "metadata": {
  "kernelspec": {
   "display_name": "Python 3",
   "language": "python",
   "name": "python3"
  },
  "language_info": {
   "codemirror_mode": {
    "name": "ipython",
    "version": 3
   },
   "file_extension": ".py",
   "mimetype": "text/x-python",
   "name": "python",
   "nbconvert_exporter": "python",
   "pygments_lexer": "ipython3",
   "version": "3.7.7"
  }
 },
 "nbformat": 4,
 "nbformat_minor": 2
}
