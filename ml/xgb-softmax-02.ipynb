{
 "cells": [
  {
   "cell_type": "code",
   "execution_count": 1,
   "metadata": {},
   "outputs": [],
   "source": [
    "import pandas as pd\n",
    "import numpy as np\n",
    "import xgboost as xgb\n",
    "\n",
    "%matplotlib inline\n",
    "import matplotlib as mpl\n",
    "import matplotlib.pyplot as plt\n",
    "\n",
    "from xgboost import XGBClassifier\n",
    "from xgboost import XGBRegressor\n",
    "from xgboost import plot_importance\n",
    "\n",
    "from sklearn import metrics\n",
    "from sklearn import preprocessing\n",
    "from sklearn.model_selection import train_test_split\n",
    "from sklearn.metrics import accuracy_score"
   ]
  },
  {
   "cell_type": "code",
   "execution_count": 3,
   "metadata": {},
   "outputs": [
    {
     "name": "stdout",
     "output_type": "stream",
     "text": [
      "(79386, 209)\n",
      "Index(['promotion_id', 'asset_provider_voucher', 'asset_provider_promovoucher',\n",
      "       'asset_provider_promonotice', 'asset_provider_promo',\n",
      "       'asset_provider_outsalevoucher', 'asset_provider_other',\n",
      "       'asset_type_secretvoucher', 'asset_type_exchangevoucher',\n",
      "       'asset_type_nofundvoucher',\n",
      "       ...\n",
      "       'voucher_used_15d', 'voucher_good_15d', 'voucher_level_15d',\n",
      "       'voucher_send_cnt_7d', 'voucher_use_cnt_7d', 'voucher_use_rate_7d',\n",
      "       'voucher_used_7d', 'voucher_good_7d', 'voucher_level_7d', 'dt'],\n",
      "      dtype='object', length=209)\n"
     ]
    }
   ],
   "source": [
    "# 读取数据\n",
    "df = pd.read_csv('../data/voucher_sample_20190122.csv')\n",
    "# print(df.describe())\n",
    "# print(df.head(10))\n",
    "print(df.shape)\n",
    "\n",
    "# 打印列头\n",
    "print(df.columns)"
   ]
  },
  {
   "cell_type": "code",
   "execution_count": 4,
   "metadata": {},
   "outputs": [],
   "source": [
    "# 不用的列\n",
    "drop_columns = [\n",
    "    'promotion_id',\n",
    "    'show_monthday',\n",
    "    'show_weekday',\n",
    "    'dt'\n",
    "]\n",
    "\n",
    "# 标注列\n",
    "label_columns = [\n",
    "    'voucher_send_cnt_90d',\n",
    "    'voucher_use_cnt_90d',\n",
    "    'voucher_used_90d',\n",
    "    'voucher_good_90d',\n",
    "    'voucher_level_90d',\n",
    "    'voucher_send_cnt_30d',\n",
    "    'voucher_use_cnt_30d',\n",
    "    'voucher_used_30d',\n",
    "    'voucher_good_30d',\n",
    "    'voucher_level_30d',\n",
    "    'voucher_send_cnt_15d',\n",
    "    'voucher_use_cnt_15d',\n",
    "    'voucher_used_15d',\n",
    "    'voucher_good_15d',\n",
    "    'voucher_level_15d',\n",
    "    'voucher_send_cnt_7d',\n",
    "    'voucher_use_cnt_7d',\n",
    "    'voucher_used_7d',\n",
    "    'voucher_good_7d',\n",
    "    'voucher_level_7d',\n",
    "    'voucher_use_rate_90d',\n",
    "    'voucher_use_rate_30d',\n",
    "    'voucher_use_rate_15d',\n",
    "    'voucher_use_rate_7d'\n",
    "]"
   ]
  },
  {
   "cell_type": "code",
   "execution_count": 5,
   "metadata": {},
   "outputs": [
    {
     "name": "stdout",
     "output_type": "stream",
     "text": [
      "(79386, 181)\n"
     ]
    },
    {
     "data": {
      "text/html": [
       "<div>\n",
       "<style scoped>\n",
       "    .dataframe tbody tr th:only-of-type {\n",
       "        vertical-align: middle;\n",
       "    }\n",
       "\n",
       "    .dataframe tbody tr th {\n",
       "        vertical-align: top;\n",
       "    }\n",
       "\n",
       "    .dataframe thead th {\n",
       "        text-align: right;\n",
       "    }\n",
       "</style>\n",
       "<table border=\"1\" class=\"dataframe\">\n",
       "  <thead>\n",
       "    <tr style=\"text-align: right;\">\n",
       "      <th></th>\n",
       "      <th>asset_provider_voucher</th>\n",
       "      <th>asset_provider_promovoucher</th>\n",
       "      <th>asset_provider_promonotice</th>\n",
       "      <th>asset_provider_promo</th>\n",
       "      <th>asset_provider_outsalevoucher</th>\n",
       "      <th>asset_provider_other</th>\n",
       "      <th>asset_type_secretvoucher</th>\n",
       "      <th>asset_type_exchangevoucher</th>\n",
       "      <th>asset_type_nofundvoucher</th>\n",
       "      <th>asset_type_outsalevoucher</th>\n",
       "      <th>...</th>\n",
       "      <th>trade_amount_30d</th>\n",
       "      <th>trade_user_cnt_7d</th>\n",
       "      <th>trade_user_cnt_15d</th>\n",
       "      <th>trade_user_cnt_30d</th>\n",
       "      <th>trade_pct_7d</th>\n",
       "      <th>trade_pct_15d</th>\n",
       "      <th>trade_pct_30d</th>\n",
       "      <th>trade_pat_7d</th>\n",
       "      <th>trade_pat_15d</th>\n",
       "      <th>trade_pat_30d</th>\n",
       "    </tr>\n",
       "  </thead>\n",
       "  <tbody>\n",
       "    <tr>\n",
       "      <th>0</th>\n",
       "      <td>0</td>\n",
       "      <td>0</td>\n",
       "      <td>0</td>\n",
       "      <td>1</td>\n",
       "      <td>0</td>\n",
       "      <td>0</td>\n",
       "      <td>0</td>\n",
       "      <td>0</td>\n",
       "      <td>0</td>\n",
       "      <td>0</td>\n",
       "      <td>...</td>\n",
       "      <td>82015456</td>\n",
       "      <td>316</td>\n",
       "      <td>672</td>\n",
       "      <td>1582</td>\n",
       "      <td>48527.784810</td>\n",
       "      <td>48768.811012</td>\n",
       "      <td>51842.892541</td>\n",
       "      <td>40783.989362</td>\n",
       "      <td>40610.459727</td>\n",
       "      <td>43509.525729</td>\n",
       "    </tr>\n",
       "    <tr>\n",
       "      <th>1</th>\n",
       "      <td>0</td>\n",
       "      <td>0</td>\n",
       "      <td>0</td>\n",
       "      <td>1</td>\n",
       "      <td>0</td>\n",
       "      <td>0</td>\n",
       "      <td>0</td>\n",
       "      <td>0</td>\n",
       "      <td>0</td>\n",
       "      <td>0</td>\n",
       "      <td>...</td>\n",
       "      <td>82015456</td>\n",
       "      <td>316</td>\n",
       "      <td>672</td>\n",
       "      <td>1582</td>\n",
       "      <td>48527.784810</td>\n",
       "      <td>48768.811012</td>\n",
       "      <td>51842.892541</td>\n",
       "      <td>40783.989362</td>\n",
       "      <td>40610.459727</td>\n",
       "      <td>43509.525729</td>\n",
       "    </tr>\n",
       "    <tr>\n",
       "      <th>2</th>\n",
       "      <td>0</td>\n",
       "      <td>0</td>\n",
       "      <td>0</td>\n",
       "      <td>1</td>\n",
       "      <td>0</td>\n",
       "      <td>0</td>\n",
       "      <td>0</td>\n",
       "      <td>0</td>\n",
       "      <td>0</td>\n",
       "      <td>0</td>\n",
       "      <td>...</td>\n",
       "      <td>42692858</td>\n",
       "      <td>155</td>\n",
       "      <td>298</td>\n",
       "      <td>671</td>\n",
       "      <td>59613.870968</td>\n",
       "      <td>71797.604027</td>\n",
       "      <td>63625.719821</td>\n",
       "      <td>50218.206522</td>\n",
       "      <td>62196.761628</td>\n",
       "      <td>53499.822055</td>\n",
       "    </tr>\n",
       "    <tr>\n",
       "      <th>3</th>\n",
       "      <td>0</td>\n",
       "      <td>1</td>\n",
       "      <td>0</td>\n",
       "      <td>0</td>\n",
       "      <td>0</td>\n",
       "      <td>0</td>\n",
       "      <td>0</td>\n",
       "      <td>1</td>\n",
       "      <td>0</td>\n",
       "      <td>0</td>\n",
       "      <td>...</td>\n",
       "      <td>82015456</td>\n",
       "      <td>316</td>\n",
       "      <td>672</td>\n",
       "      <td>1582</td>\n",
       "      <td>48527.784810</td>\n",
       "      <td>48768.811012</td>\n",
       "      <td>51842.892541</td>\n",
       "      <td>40783.989362</td>\n",
       "      <td>40610.459727</td>\n",
       "      <td>43509.525729</td>\n",
       "    </tr>\n",
       "    <tr>\n",
       "      <th>4</th>\n",
       "      <td>0</td>\n",
       "      <td>0</td>\n",
       "      <td>0</td>\n",
       "      <td>1</td>\n",
       "      <td>0</td>\n",
       "      <td>0</td>\n",
       "      <td>0</td>\n",
       "      <td>0</td>\n",
       "      <td>0</td>\n",
       "      <td>0</td>\n",
       "      <td>...</td>\n",
       "      <td>3324012</td>\n",
       "      <td>26</td>\n",
       "      <td>45</td>\n",
       "      <td>97</td>\n",
       "      <td>40886.076923</td>\n",
       "      <td>33175.666667</td>\n",
       "      <td>34268.164948</td>\n",
       "      <td>39371.777778</td>\n",
       "      <td>31763.936170</td>\n",
       "      <td>32588.352941</td>\n",
       "    </tr>\n",
       "  </tbody>\n",
       "</table>\n",
       "<p>5 rows × 181 columns</p>\n",
       "</div>"
      ],
      "text/plain": [
       "   asset_provider_voucher  asset_provider_promovoucher  \\\n",
       "0                       0                            0   \n",
       "1                       0                            0   \n",
       "2                       0                            0   \n",
       "3                       0                            1   \n",
       "4                       0                            0   \n",
       "\n",
       "   asset_provider_promonotice  asset_provider_promo  \\\n",
       "0                           0                     1   \n",
       "1                           0                     1   \n",
       "2                           0                     1   \n",
       "3                           0                     0   \n",
       "4                           0                     1   \n",
       "\n",
       "   asset_provider_outsalevoucher  asset_provider_other  \\\n",
       "0                              0                     0   \n",
       "1                              0                     0   \n",
       "2                              0                     0   \n",
       "3                              0                     0   \n",
       "4                              0                     0   \n",
       "\n",
       "   asset_type_secretvoucher  asset_type_exchangevoucher  \\\n",
       "0                         0                           0   \n",
       "1                         0                           0   \n",
       "2                         0                           0   \n",
       "3                         0                           1   \n",
       "4                         0                           0   \n",
       "\n",
       "   asset_type_nofundvoucher  asset_type_outsalevoucher      ...        \\\n",
       "0                         0                          0      ...         \n",
       "1                         0                          0      ...         \n",
       "2                         0                          0      ...         \n",
       "3                         0                          0      ...         \n",
       "4                         0                          0      ...         \n",
       "\n",
       "   trade_amount_30d  trade_user_cnt_7d  trade_user_cnt_15d  \\\n",
       "0          82015456                316                 672   \n",
       "1          82015456                316                 672   \n",
       "2          42692858                155                 298   \n",
       "3          82015456                316                 672   \n",
       "4           3324012                 26                  45   \n",
       "\n",
       "   trade_user_cnt_30d  trade_pct_7d  trade_pct_15d  trade_pct_30d  \\\n",
       "0                1582  48527.784810   48768.811012   51842.892541   \n",
       "1                1582  48527.784810   48768.811012   51842.892541   \n",
       "2                 671  59613.870968   71797.604027   63625.719821   \n",
       "3                1582  48527.784810   48768.811012   51842.892541   \n",
       "4                  97  40886.076923   33175.666667   34268.164948   \n",
       "\n",
       "   trade_pat_7d  trade_pat_15d  trade_pat_30d  \n",
       "0  40783.989362   40610.459727   43509.525729  \n",
       "1  40783.989362   40610.459727   43509.525729  \n",
       "2  50218.206522   62196.761628   53499.822055  \n",
       "3  40783.989362   40610.459727   43509.525729  \n",
       "4  39371.777778   31763.936170   32588.352941  \n",
       "\n",
       "[5 rows x 181 columns]"
      ]
     },
     "execution_count": 5,
     "metadata": {},
     "output_type": "execute_result"
    }
   ],
   "source": [
    "# 特征集合\n",
    "x_data = df.drop(drop_columns, axis=1).drop(label_columns, axis=1)\n",
    "print(x_data.shape)\n",
    "# print(x_data.head())\n",
    "x_data.head(5)"
   ]
  },
  {
   "cell_type": "code",
   "execution_count": 6,
   "metadata": {},
   "outputs": [
    {
     "name": "stdout",
     "output_type": "stream",
     "text": [
      "(79386,)\n"
     ]
    },
    {
     "data": {
      "text/plain": [
       "0    0\n",
       "1    0\n",
       "2    0\n",
       "3    0\n",
       "4    0\n",
       "Name: voucher_level_30d, dtype: int64"
      ]
     },
     "execution_count": 6,
     "metadata": {},
     "output_type": "execute_result"
    }
   ],
   "source": [
    "# 标注列\n",
    "y_data = df['voucher_level_30d']\n",
    "print(y_data.shape)\n",
    "# print(y_data.head())\n",
    "y_data.head()"
   ]
  },
  {
   "cell_type": "code",
   "execution_count": 8,
   "metadata": {},
   "outputs": [
    {
     "data": {
      "text/plain": [
       "0    61774\n",
       "1     8117\n",
       "2     5712\n",
       "3     1780\n",
       "5     1070\n",
       "4      818\n",
       "6      115\n",
       "Name: voucher_level_30d, dtype: int64"
      ]
     },
     "execution_count": 8,
     "metadata": {},
     "output_type": "execute_result"
    }
   ],
   "source": [
    "y_data.value_counts()"
   ]
  },
  {
   "cell_type": "code",
   "execution_count": 9,
   "metadata": {},
   "outputs": [
    {
     "data": {
      "text/plain": [
       "<matplotlib.axes._subplots.AxesSubplot at 0x105d208d0>"
      ]
     },
     "execution_count": 9,
     "metadata": {},
     "output_type": "execute_result"
    },
    {
     "data": {
      "image/png": "[encoded data removed]",
      "text/plain": [
       "<Figure size 432x288 with 1 Axes>"
      ]
     },
     "metadata": {
      "needs_background": "light"
     },
     "output_type": "display_data"
    }
   ],
   "source": [
    "# 标注的分布\n",
    "y_data.hist()"
   ]
  },
  {
   "cell_type": "code",
   "execution_count": 18,
   "metadata": {},
   "outputs": [
    {
     "data": {
      "text/plain": [
       "[<matplotlib.lines.Line2D at 0x123b71f60>]"
      ]
     },
     "execution_count": 18,
     "metadata": {},
     "output_type": "execute_result"
    },
    {
     "data": {
      "image/png": "[encoded data removed]",
      "text/plain": [
       "<Figure size 432x288 with 1 Axes>"
      ]
     },
     "metadata": {
      "needs_background": "light"
     },
     "output_type": "display_data"
    }
   ],
   "source": [
    "x_index = [0, 1, 2, 3, 4, 5, 6]\n",
    "y_index = [61774, 8117, 5712, 1780, 818, 1070, 115]\n",
    "plt.plot(x_index, y_index)"
   ]
  },
  {
   "cell_type": "code",
   "execution_count": 10,
   "metadata": {},
   "outputs": [
    {
     "name": "stdout",
     "output_type": "stream",
     "text": [
      "(47631, 181)\n",
      "(31755, 181)\n"
     ]
    }
   ],
   "source": [
    "# 训练集测试集划分\n",
    "X_train, X_test, y_train, y_test = train_test_split(x_data, y_data, test_size=0.4, random_state=0)\n",
    "print(X_train.shape)\n",
    "print(X_test.shape)\n",
    "\n",
    "dtrain = xgb.DMatrix(X_train, label=y_train)\n",
    "dtest = xgb.DMatrix(X_test, label=y_test)"
   ]
  },
  {
   "cell_type": "code",
   "execution_count": 19,
   "metadata": {},
   "outputs": [
    {
     "name": "stdout",
     "output_type": "stream",
     "text": [
      "[0]\ttrain-merror:0.14816\ttest-merror:0.155409\n",
      "[1]\ttrain-merror:0.145535\ttest-merror:0.15374\n",
      "[2]\ttrain-merror:0.142134\ttest-merror:0.149236\n",
      "[3]\ttrain-merror:0.134786\ttest-merror:0.140797\n",
      "[4]\ttrain-merror:0.133925\ttest-merror:0.139065\n",
      "[5]\ttrain-merror:0.130482\ttest-merror:0.135664\n",
      "[6]\ttrain-merror:0.130083\ttest-merror:0.135412\n",
      "[7]\ttrain-merror:0.131112\ttest-merror:0.136294\n",
      "[8]\ttrain-merror:0.129558\ttest-merror:0.135506\n",
      "[9]\ttrain-merror:0.128782\ttest-merror:0.13475\n",
      "[10]\ttrain-merror:0.126892\ttest-merror:0.132452\n",
      "[11]\ttrain-merror:0.126745\ttest-merror:0.132546\n",
      "[12]\ttrain-merror:0.125423\ttest-merror:0.130436\n",
      "[13]\ttrain-merror:0.123911\ttest-merror:0.129177\n",
      "[14]\ttrain-merror:0.12284\ttest-merror:0.128263\n",
      "[15]\ttrain-merror:0.122588\ttest-merror:0.128389\n",
      "[16]\ttrain-merror:0.122882\ttest-merror:0.128956\n",
      "[17]\ttrain-merror:0.121706\ttest-merror:0.127854\n",
      "[18]\ttrain-merror:0.120489\ttest-merror:0.127161\n",
      "[19]\ttrain-merror:0.119271\ttest-merror:0.126185\n",
      "[20]\ttrain-merror:0.117906\ttest-merror:0.125114\n",
      "[21]\ttrain-merror:0.117235\ttest-merror:0.124012\n",
      "[22]\ttrain-merror:0.117319\ttest-merror:0.123792\n",
      "[23]\ttrain-merror:0.117004\ttest-merror:0.122815\n",
      "[24]\ttrain-merror:0.116458\ttest-merror:0.121808\n",
      "[25]\ttrain-merror:0.11524\ttest-merror:0.120894\n",
      "[26]\ttrain-merror:0.115009\ttest-merror:0.120233\n",
      "[27]\ttrain-merror:0.114946\ttest-merror:0.120044\n",
      "[28]\ttrain-merror:0.114379\ttest-merror:0.119351\n",
      "[29]\ttrain-merror:0.11398\ttest-merror:0.119603\n",
      "[30]\ttrain-merror:0.11377\ttest-merror:0.119414\n",
      "[31]\ttrain-merror:0.113456\ttest-merror:0.118658\n",
      "[32]\ttrain-merror:0.112196\ttest-merror:0.117336\n",
      "[33]\ttrain-merror:0.111482\ttest-merror:0.117304\n",
      "[34]\ttrain-merror:0.111503\ttest-merror:0.117084\n",
      "[35]\ttrain-merror:0.110978\ttest-merror:0.116863\n",
      "[36]\ttrain-merror:0.11039\ttest-merror:0.115982\n",
      "[37]\ttrain-merror:0.109655\ttest-merror:0.115352\n",
      "[38]\ttrain-merror:0.109089\ttest-merror:0.115257\n",
      "[39]\ttrain-merror:0.109257\ttest-merror:0.115068\n",
      "[40]\ttrain-merror:0.109676\ttest-merror:0.11532\n",
      "[41]\ttrain-merror:0.109488\ttest-merror:0.115194\n",
      "[42]\ttrain-merror:0.1089\ttest-merror:0.114533\n",
      "[43]\ttrain-merror:0.108858\ttest-merror:0.114344\n",
      "[44]\ttrain-merror:0.108228\ttest-merror:0.113966\n",
      "[45]\ttrain-merror:0.107325\ttest-merror:0.113022\n",
      "[46]\ttrain-merror:0.107157\ttest-merror:0.11277\n",
      "[47]\ttrain-merror:0.107094\ttest-merror:0.112801\n",
      "[48]\ttrain-merror:0.1068\ttest-merror:0.112833\n",
      "[49]\ttrain-merror:0.105981\ttest-merror:0.112707\n",
      "[50]\ttrain-merror:0.105499\ttest-merror:0.112518\n",
      "[51]\ttrain-merror:0.104092\ttest-merror:0.112014\n",
      "[52]\ttrain-merror:0.103546\ttest-merror:0.111541\n",
      "[53]\ttrain-merror:0.102937\ttest-merror:0.110975\n",
      "[54]\ttrain-merror:0.102937\ttest-merror:0.111227\n",
      "[55]\ttrain-merror:0.101824\ttest-merror:0.110408\n",
      "[56]\ttrain-merror:0.101405\ttest-merror:0.110124\n",
      "[57]\ttrain-merror:0.1013\ttest-merror:0.110313\n",
      "[58]\ttrain-merror:0.100733\ttest-merror:0.109778\n",
      "[59]\ttrain-merror:0.100838\ttest-merror:0.109715\n",
      "[60]\ttrain-merror:0.100586\ttest-merror:0.109558\n",
      "[61]\ttrain-merror:0.099179\ttest-merror:0.108235\n",
      "[62]\ttrain-merror:0.098864\ttest-merror:0.10792\n",
      "[63]\ttrain-merror:0.098675\ttest-merror:0.107889\n",
      "[64]\ttrain-merror:0.097919\ttest-merror:0.107448\n",
      "[65]\ttrain-merror:0.097038\ttest-merror:0.106566\n",
      "[66]\ttrain-merror:0.097269\ttest-merror:0.106534\n",
      "[67]\ttrain-merror:0.096219\ttest-merror:0.105842\n",
      "[68]\ttrain-merror:0.09582\ttest-merror:0.105495\n",
      "[69]\ttrain-merror:0.0954\ttest-merror:0.105369\n",
      "[70]\ttrain-merror:0.094896\ttest-merror:0.104834\n",
      "[71]\ttrain-merror:0.094686\ttest-merror:0.104645\n",
      "[72]\ttrain-merror:0.094224\ttest-merror:0.104362\n",
      "[73]\ttrain-merror:0.093825\ttest-merror:0.104015\n",
      "[74]\ttrain-merror:0.092902\ttest-merror:0.10285\n",
      "[75]\ttrain-merror:0.092524\ttest-merror:0.102567\n",
      "[76]\ttrain-merror:0.092461\ttest-merror:0.102409\n",
      "[77]\ttrain-merror:0.091999\ttest-merror:0.102063\n",
      "[78]\ttrain-merror:0.091789\ttest-merror:0.102063\n",
      "[79]\ttrain-merror:0.091726\ttest-merror:0.101779\n",
      "[80]\ttrain-merror:0.09097\ttest-merror:0.101212\n",
      "[81]\ttrain-merror:0.090088\ttest-merror:0.100646\n",
      "[82]\ttrain-merror:0.089857\ttest-merror:0.100362\n",
      "[83]\ttrain-merror:0.089585\ttest-merror:0.099827\n",
      "[84]\ttrain-merror:0.089354\ttest-merror:0.099638\n",
      "[85]\ttrain-merror:0.089018\ttest-merror:0.099354\n",
      "[86]\ttrain-merror:0.088703\ttest-merror:0.099008\n",
      "[87]\ttrain-merror:0.088388\ttest-merror:0.099008\n",
      "[88]\ttrain-merror:0.088115\ttest-merror:0.098567\n",
      "[89]\ttrain-merror:0.087821\ttest-merror:0.097969\n",
      "[90]\ttrain-merror:0.087464\ttest-merror:0.097906\n",
      "[91]\ttrain-merror:0.08717\ttest-merror:0.097906\n",
      "[92]\ttrain-merror:0.087254\ttest-merror:0.098158\n",
      "[93]\ttrain-merror:0.08696\ttest-merror:0.097843\n",
      "[94]\ttrain-merror:0.086624\ttest-merror:0.097213\n",
      "[95]\ttrain-merror:0.08612\ttest-merror:0.096898\n",
      "[96]\ttrain-merror:0.085826\ttest-merror:0.096646\n",
      "[97]\ttrain-merror:0.08547\ttest-merror:0.096174\n",
      "[98]\ttrain-merror:0.085071\ttest-merror:0.095638\n",
      "[99]\ttrain-merror:0.084546\ttest-merror:0.095513\n"
     ]
    }
   ],
   "source": [
    "# 算法参数\n",
    "params = {\n",
    "    'learning_rate': 0.1,   # 步长\n",
    "    'n_estimators': 500,\n",
    "    'max_depth': 5,         # 树的最大深度\n",
    "    'objective': 'multi:softmax',\n",
    "    'num_class': 7,\n",
    "    'min_child_weight': 1,  # 决定最小叶子节点样本权重和，如果一个叶子节点的样本权重和小于min_child_weight则拆分过程结束。\n",
    "    'gamma': 0,             # 指定了节点分裂所需的最小损失函数下降值。这个参数的值越大，算法越保守\n",
    "    'subsample': 0.75,      # 每个决策树所用的子样本占总样本的比例（作用于样本）\n",
    "    'colsample_bytree': 0.75,  # 建立树时对特征随机采样的比例（作用于特征）典型值：0.5-1\n",
    "    'nthread': 8,\n",
    "    'seed': 0,\n",
    "    'silent': 1             # 输出运行信息\n",
    "}\n",
    "\n",
    "# 模型训练\n",
    "num_round = 100\n",
    "evallist = [(dtrain, 'train'), (dtest, 'test')]\n",
    "model = xgb.train(params, dtrain, num_round, evallist)\n"
   ]
  },
  {
   "cell_type": "code",
   "execution_count": 20,
   "metadata": {},
   "outputs": [
    {
     "name": "stdout",
     "output_type": "stream",
     "text": [
      "(31755,)\n",
      "float32\n",
      "[1. 0. 0. ... 0. 0. 1.]\n"
     ]
    }
   ],
   "source": [
    "# 预测分类\n",
    "y_pred = model.predict(dtest)\n",
    "print(y_pred.shape)\n",
    "print(y_pred.dtype)\n",
    "print(y_pred)\n",
    "# print(y_test.shape)\n",
    "# print(y_test.dtype)\n",
    "# print(y_test.iloc[0])\n",
    "# print(y_test.iloc[1])\n",
    "# print(y_test)"
   ]
  },
  {
   "cell_type": "code",
   "execution_count": 21,
   "metadata": {},
   "outputs": [
    {
     "name": "stdout",
     "output_type": "stream",
     "text": [
      "predicting, classification error = 0.095513\n",
      "ACC: 0.9045\n",
      "[[24393   336    59     2     0     0     0]\n",
      " [ 1016  1898   308     5     2     1     0]\n",
      " [  341   445  1424    54     6     5     0]\n",
      " [   31    32   185   398    24    11     0]\n",
      " [   13    10    27    27   200    42     0]\n",
      " [   10     9    10     1     8   373     2]\n",
      " [    1     1     1     0     0     8    36]]\n"
     ]
    }
   ],
   "source": [
    "# 模型评估\n",
    "\n",
    "# 错误率\n",
    "# error_count = 0\n",
    "# for i in range(len(y_pred)):\n",
    "#     if y_pred[i] != y_test.iloc[i]:\n",
    "#         print('y_pred[{index}]={y0}, y_test[{index}]={y1}'.format(index=i, y0=y_pred[i], y1=y_test.iloc[i]))\n",
    "#         error_count += 1\n",
    "        \n",
    "# print(error_count)\n",
    "\n",
    "error_count = sum( int(y_pred[i]) != y_test.iloc[i] for i in range(len(y_test)))\n",
    "# print(error_count)\n",
    "\n",
    "# 与模型预测的watchlist的test值相同\n",
    "print('predicting, classification error = %f' % (error_count / float(len(y_test))))\n",
    "\n",
    "# ACC\n",
    "print ('ACC: %.4f' % metrics.accuracy_score(y_test, y_pred))\n",
    "\n",
    "# 混淆矩阵\n",
    "print(metrics.confusion_matrix(y_test, y_pred))"
   ]
  },
  {
   "cell_type": "code",
   "execution_count": 22,
   "metadata": {},
   "outputs": [
    {
     "data": {
      "image/png": "[encoded data removed]",
      "text/plain": [
       "<Figure size 432x288 with 1 Axes>"
      ]
     },
     "metadata": {
      "needs_background": "light"
     },
     "output_type": "display_data"
    }
   ],
   "source": [
    "# 显示重要特征\n",
    "plot_importance(model, max_num_features=20)\n",
    "plt.show()"
   ]
  },
  {
   "cell_type": "code",
   "execution_count": null,
   "metadata": {},
   "outputs": [],
   "source": []
  }
 ],
 "metadata": {
  "kernelspec": {
   "display_name": "Python 3",
   "language": "python",
   "name": "python3"
  },
  "language_info": {
   "codemirror_mode": {
    "name": "ipython",
    "version": 3
   },
   "file_extension": ".py",
   "mimetype": "text/x-python",
   "name": "python",
   "nbconvert_exporter": "python",
   "pygments_lexer": "ipython3",
   "version": "3.6.8"
  }
 },
 "nbformat": 4,
 "nbformat_minor": 2
}
