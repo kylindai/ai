{
 "cells": [
  {
   "cell_type": "code",
   "execution_count": 24,
   "metadata": {},
   "outputs": [],
   "source": [
    "import tensorflow as tf\n",
    "import numpy as np\n",
    "\n",
    "from sklearn import datasets\n",
    "\n",
    "%matplotlib inline\n",
    "import matplotlib as mpl\n",
    "import matplotlib.pyplot as plt\n",
    "\n",
    "sess = tf.Session()"
   ]
  },
  {
   "cell_type": "code",
   "execution_count": 21,
   "metadata": {},
   "outputs": [],
   "source": [
    "# np function\n",
    "# np.linspace\n",
    "# np.transpose\n",
    "# np.column_stack\n",
    "\n",
    "x1 = np.linspace(1, 20, 5)\n",
    "x3 = np.linspace(2, 22, 5)\n",
    "\n",
    "x2 = np.transpose(np.matrix(x1))\n",
    "x4 = np.transpose(np.matrix(x3))\n",
    "\n",
    "S = np.column_stack((x2, x4))"
   ]
  },
  {
   "cell_type": "code",
   "execution_count": 30,
   "metadata": {},
   "outputs": [
    {
     "data": {
      "text/plain": [
       "matrix([[ 0.        ,  1.        ],\n",
       "        [ 0.1010101 ,  1.        ],\n",
       "        [ 0.2020202 ,  1.        ],\n",
       "        [ 0.3030303 ,  1.        ],\n",
       "        [ 0.4040404 ,  1.        ],\n",
       "        [ 0.50505051,  1.        ],\n",
       "        [ 0.60606061,  1.        ],\n",
       "        [ 0.70707071,  1.        ],\n",
       "        [ 0.80808081,  1.        ],\n",
       "        [ 0.90909091,  1.        ],\n",
       "        [ 1.01010101,  1.        ],\n",
       "        [ 1.11111111,  1.        ],\n",
       "        [ 1.21212121,  1.        ],\n",
       "        [ 1.31313131,  1.        ],\n",
       "        [ 1.41414141,  1.        ],\n",
       "        [ 1.51515152,  1.        ],\n",
       "        [ 1.61616162,  1.        ],\n",
       "        [ 1.71717172,  1.        ],\n",
       "        [ 1.81818182,  1.        ],\n",
       "        [ 1.91919192,  1.        ],\n",
       "        [ 2.02020202,  1.        ],\n",
       "        [ 2.12121212,  1.        ],\n",
       "        [ 2.22222222,  1.        ],\n",
       "        [ 2.32323232,  1.        ],\n",
       "        [ 2.42424242,  1.        ],\n",
       "        [ 2.52525253,  1.        ],\n",
       "        [ 2.62626263,  1.        ],\n",
       "        [ 2.72727273,  1.        ],\n",
       "        [ 2.82828283,  1.        ],\n",
       "        [ 2.92929293,  1.        ],\n",
       "        [ 3.03030303,  1.        ],\n",
       "        [ 3.13131313,  1.        ],\n",
       "        [ 3.23232323,  1.        ],\n",
       "        [ 3.33333333,  1.        ],\n",
       "        [ 3.43434343,  1.        ],\n",
       "        [ 3.53535354,  1.        ],\n",
       "        [ 3.63636364,  1.        ],\n",
       "        [ 3.73737374,  1.        ],\n",
       "        [ 3.83838384,  1.        ],\n",
       "        [ 3.93939394,  1.        ],\n",
       "        [ 4.04040404,  1.        ],\n",
       "        [ 4.14141414,  1.        ],\n",
       "        [ 4.24242424,  1.        ],\n",
       "        [ 4.34343434,  1.        ],\n",
       "        [ 4.44444444,  1.        ],\n",
       "        [ 4.54545455,  1.        ],\n",
       "        [ 4.64646465,  1.        ],\n",
       "        [ 4.74747475,  1.        ],\n",
       "        [ 4.84848485,  1.        ],\n",
       "        [ 4.94949495,  1.        ],\n",
       "        [ 5.05050505,  1.        ],\n",
       "        [ 5.15151515,  1.        ],\n",
       "        [ 5.25252525,  1.        ],\n",
       "        [ 5.35353535,  1.        ],\n",
       "        [ 5.45454545,  1.        ],\n",
       "        [ 5.55555556,  1.        ],\n",
       "        [ 5.65656566,  1.        ],\n",
       "        [ 5.75757576,  1.        ],\n",
       "        [ 5.85858586,  1.        ],\n",
       "        [ 5.95959596,  1.        ],\n",
       "        [ 6.06060606,  1.        ],\n",
       "        [ 6.16161616,  1.        ],\n",
       "        [ 6.26262626,  1.        ],\n",
       "        [ 6.36363636,  1.        ],\n",
       "        [ 6.46464646,  1.        ],\n",
       "        [ 6.56565657,  1.        ],\n",
       "        [ 6.66666667,  1.        ],\n",
       "        [ 6.76767677,  1.        ],\n",
       "        [ 6.86868687,  1.        ],\n",
       "        [ 6.96969697,  1.        ],\n",
       "        [ 7.07070707,  1.        ],\n",
       "        [ 7.17171717,  1.        ],\n",
       "        [ 7.27272727,  1.        ],\n",
       "        [ 7.37373737,  1.        ],\n",
       "        [ 7.47474747,  1.        ],\n",
       "        [ 7.57575758,  1.        ],\n",
       "        [ 7.67676768,  1.        ],\n",
       "        [ 7.77777778,  1.        ],\n",
       "        [ 7.87878788,  1.        ],\n",
       "        [ 7.97979798,  1.        ],\n",
       "        [ 8.08080808,  1.        ],\n",
       "        [ 8.18181818,  1.        ],\n",
       "        [ 8.28282828,  1.        ],\n",
       "        [ 8.38383838,  1.        ],\n",
       "        [ 8.48484848,  1.        ],\n",
       "        [ 8.58585859,  1.        ],\n",
       "        [ 8.68686869,  1.        ],\n",
       "        [ 8.78787879,  1.        ],\n",
       "        [ 8.88888889,  1.        ],\n",
       "        [ 8.98989899,  1.        ],\n",
       "        [ 9.09090909,  1.        ],\n",
       "        [ 9.19191919,  1.        ],\n",
       "        [ 9.29292929,  1.        ],\n",
       "        [ 9.39393939,  1.        ],\n",
       "        [ 9.49494949,  1.        ],\n",
       "        [ 9.5959596 ,  1.        ],\n",
       "        [ 9.6969697 ,  1.        ],\n",
       "        [ 9.7979798 ,  1.        ],\n",
       "        [ 9.8989899 ,  1.        ],\n",
       "        [10.        ,  1.        ]])"
      ]
     },
     "execution_count": 30,
     "metadata": {},
     "output_type": "execute_result"
    }
   ],
   "source": [
    "x_vals = np.linspace(0, 10, 100)\n",
    "y_vals = x_vals + np.random.normal(0, 1, 100)\n",
    "\n",
    "x_vals_column = np.transpose(np.matrix(x_vals))\n",
    "# x_vals_column.shape\n",
    "ones_column = np.transpose(np.matrix(np.repeat(1, 100)))\n",
    "A = np.column_stack((x_vals_column, ones_column))\n",
    "b = np.transpose(np.matrix(y_vals))"
   ]
  },
  {
   "cell_type": "code",
   "execution_count": 23,
   "metadata": {},
   "outputs": [],
   "source": [
    "A_tensor = tf.constant(A)\n",
    "b_tensor = tf.constant(b)"
   ]
  },
  {
   "cell_type": "code",
   "execution_count": 26,
   "metadata": {},
   "outputs": [],
   "source": [
    "tA_A = tf.matmul(tf.transpose(A_tensor), A_tensor)\n",
    "tA_A_inv = tf.matrix_inverse(tA_A)\n",
    "# model\n",
    "product = tf.matmul(tA_A_inv, tf.transpose(A_tensor))\n",
    "solution = tf.matmul(product, b_tensor)\n",
    "solution_eval = sess.run(solution)"
   ]
  },
  {
   "cell_type": "code",
   "execution_count": 27,
   "metadata": {},
   "outputs": [
    {
     "name": "stdout",
     "output_type": "stream",
     "text": [
      "slope: 0.976668389246811\n",
      "y_intercept: 0.08553600899134342\n"
     ]
    }
   ],
   "source": [
    "slope = solution_eval[0][0]\n",
    "y_intercept = solution_eval[1][0]\n",
    "print('slope: ' + str(slope))\n",
    "print('y_intercept: ' + str(y_intercept))"
   ]
  },
  {
   "cell_type": "code",
   "execution_count": 28,
   "metadata": {},
   "outputs": [
    {
     "data": {
      "image/png": "[encoded data removed]",
      "text/plain": [
       "<Figure size 432x288 with 1 Axes>"
      ]
     },
     "metadata": {
      "needs_background": "light"
     },
     "output_type": "display_data"
    }
   ],
   "source": [
    "best_fit = []\n",
    "for i in x_vals:\n",
    "    best_fit.append(slope * i + y_intercept)\n",
    "\n",
    "plt.plot(x_vals, y_vals, 'o', label='Data')\n",
    "plt.plot(x_vals, best_fit, 'r-', label='Best fit line', linewidth=3)\n",
    "plt.legend(loc='upper left')\n",
    "plt.show()"
   ]
  },
  {
   "cell_type": "code",
   "execution_count": null,
   "metadata": {},
   "outputs": [],
   "source": []
  }
 ],
 "metadata": {
  "kernelspec": {
   "display_name": "Python 3",
   "language": "python",
   "name": "python3"
  },
  "language_info": {
   "codemirror_mode": {
    "name": "ipython",
    "version": 3
   },
   "file_extension": ".py",
   "mimetype": "text/x-python",
   "name": "python",
   "nbconvert_exporter": "python",
   "pygments_lexer": "ipython3",
   "version": "3.6.5"
  }
 },
 "nbformat": 4,
 "nbformat_minor": 2
}
