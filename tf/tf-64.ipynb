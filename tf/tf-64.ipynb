{
 "cells": [
  {
   "cell_type": "code",
   "execution_count": 1,
   "metadata": {},
   "outputs": [
    {
     "ename": "AttributeError",
     "evalue": "module 'tensorflow' has no attribute 'Session'",
     "output_type": "error",
     "traceback": [
      "\u001b[0;31m---------------------------------------------------------------------------\u001b[0m",
      "\u001b[0;31mAttributeError\u001b[0m                            Traceback (most recent call last)",
      "\u001b[0;32m<ipython-input-1-772369b650bb>\u001b[0m in \u001b[0;36m<module>\u001b[0;34m\u001b[0m\n\u001b[1;32m     12\u001b[0m \u001b[0;31m# ops.reset_default_graph()\u001b[0m\u001b[0;34m\u001b[0m\u001b[0;34m\u001b[0m\u001b[0;34m\u001b[0m\u001b[0m\n\u001b[1;32m     13\u001b[0m \u001b[0;34m\u001b[0m\u001b[0m\n\u001b[0;32m---> 14\u001b[0;31m \u001b[0msess\u001b[0m \u001b[0;34m=\u001b[0m \u001b[0mtf\u001b[0m\u001b[0;34m.\u001b[0m\u001b[0mSession\u001b[0m\u001b[0;34m(\u001b[0m\u001b[0;34m)\u001b[0m\u001b[0;34m\u001b[0m\u001b[0;34m\u001b[0m\u001b[0m\n\u001b[0m",
      "\u001b[0;31mAttributeError\u001b[0m: module 'tensorflow' has no attribute 'Session'"
     ]
    }
   ],
   "source": [
    "import tensorflow as tf\n",
    "import numpy as np\n",
    "import pandas as pd\n",
    "\n",
    "from sklearn import datasets\n",
    "\n",
    "%matplotlib inline\n",
    "import matplotlib as mpl\n",
    "import matplotlib.pyplot as plt\n",
    "\n",
    "# from tensorflow.python.framework import ops\n",
    "# ops.reset_default_graph()\n",
    "\n",
    "sess = tf.Session()"
   ]
  },
  {
   "cell_type": "code",
   "execution_count": null,
   "metadata": {},
   "outputs": [],
   "source": [
    "data_size = 25\n",
    "data_1d = np.random.normal(size=data_size)\n",
    "x_input_1d = tf.placeholder(dtype=tf.float32, shape=[data_size])"
   ]
  },
  {
   "cell_type": "code",
   "execution_count": 3,
   "metadata": {},
   "outputs": [
    {
     "data": {
      "text/plain": [
       "Text(0.5, 1.0, 'data_1d')"
      ]
     },
     "execution_count": 3,
     "metadata": {},
     "output_type": "execute_result"
    },
    {
     "data": {
      "image/png": "[encoded data removed]",
      "text/plain": [
       "<Figure size 432x288 with 1 Axes>"
      ]
     },
     "metadata": {
      "needs_background": "light"
     },
     "output_type": "display_data"
    }
   ],
   "source": [
    "x = np.arange(data_size)\n",
    "plt.plot(x, data_1d, 'o', label='data_1d')\n",
    "plt.title('data_1d')"
   ]
  },
  {
   "cell_type": "code",
   "execution_count": 13,
   "metadata": {},
   "outputs": [
    {
     "data": {
      "text/plain": [
       "array([-0.5399476 , -1.7671343 , -0.08829788,  1.615144  , -1.6396753 ,\n",
       "       -1.5909373 , -0.8974811 ,  0.80418104,  1.5206083 , -2.4308922 ,\n",
       "        1.2517487 , -1.3634782 ,  1.2056679 , -0.7597108 ,  0.01941925,\n",
       "       -0.22390294, -0.7231589 ,  1.011014  , -0.56068814, -0.00923507,\n",
       "        0.46133685, -1.904366  , -2.198679  ,  0.02527835,  1.234509  ],\n",
       "      dtype=float32)"
      ]
     },
     "execution_count": 13,
     "metadata": {},
     "output_type": "execute_result"
    }
   ],
   "source": [
    "x2_input_1d = tf.random_normal(shape=[25], dtype=tf.float32)\n",
    "x2 = sess.run(x2_input_1d)\n",
    "x2"
   ]
  },
  {
   "cell_type": "code",
   "execution_count": 14,
   "metadata": {},
   "outputs": [
    {
     "data": {
      "text/plain": [
       "Text(0.5, 1.0, 'x2_input_1d')"
      ]
     },
     "execution_count": 14,
     "metadata": {},
     "output_type": "execute_result"
    },
    {
     "data": {
      "image/png": "[encoded data removed]",
      "text/plain": [
       "<Figure size 432x288 with 1 Axes>"
      ]
     },
     "metadata": {
      "needs_background": "light"
     },
     "output_type": "display_data"
    }
   ],
   "source": [
    "plt.plot(x, x2, 'o', label='x2_input_1d')\n",
    "plt.title('x2_input_1d')"
   ]
  },
  {
   "cell_type": "code",
   "execution_count": 20,
   "metadata": {},
   "outputs": [],
   "source": [
    "def conv_layer_1d(input_1d, my_filter):\n",
    "    \n",
    "    # make 1d input into 4d\n",
    "    input_2d = tf.expand_dims(input_1d, 0)\n",
    "    input_3d = tf.expand_dims(input_2d, 0)\n",
    "    input_4d = tf.expand_dims(input_3d, 3)\n",
    "    \n",
    "    # perform convolution\n",
    "    convolution_output = tf.nn.conv2d(input_4d, \n",
    "                                      filter=my_filter,\n",
    "                                      strides=[1,1,1,1], \n",
    "                                      padding='VALID')\n",
    "    # now drop extra dimensions\n",
    "    conv_output_1d = tf.squeeze(convolution_output)\n",
    "    \n",
    "    return conv_output_1d"
   ]
  },
  {
   "cell_type": "code",
   "execution_count": 21,
   "metadata": {},
   "outputs": [],
   "source": [
    "my_filter = tf.Variable(tf.random_normal(shape=[1,5,1,1]))\n",
    "my_convolution_output = conv_layer_1d(x_input_1d, my_filter)"
   ]
  },
  {
   "cell_type": "code",
   "execution_count": 22,
   "metadata": {},
   "outputs": [],
   "source": [
    "def activation(input_1d):\n",
    "    return (tf.nn.relu(input_1d))"
   ]
  },
  {
   "cell_type": "code",
   "execution_count": 23,
   "metadata": {},
   "outputs": [],
   "source": [
    "my_activation_output = activation(my_convolution_output)"
   ]
  },
  {
   "cell_type": "code",
   "execution_count": 24,
   "metadata": {},
   "outputs": [],
   "source": [
    "def max_pool(input_1d, width):\n",
    "    \n",
    "    # first we make the 1d input into 4d\n",
    "    input_2d = tf.expand_dims(input_1d, 0)\n",
    "    input_3d = tf.expand_dims(input_2d, 0)\n",
    "    input_4d = tf.expand_dims(input_3d, 3)\n",
    "    \n",
    "    # perform the max pool operation\n",
    "    pool_output = tf.nn.max_pool(input_4d,\n",
    "                                 ksize=[1,1,width,1],\n",
    "                                 strides=[1,1,1,1],\n",
    "                                 padding='VALID')\n",
    "    pool_output_1d = tf.squeeze(pool_output)\n",
    "    \n",
    "    return pool_output_1d"
   ]
  },
  {
   "cell_type": "code",
   "execution_count": 25,
   "metadata": {},
   "outputs": [],
   "source": [
    "my_maxpool_output = max_pool(my_activation_output, width=5)"
   ]
  },
  {
   "cell_type": "code",
   "execution_count": 36,
   "metadata": {},
   "outputs": [],
   "source": [
    "def fully_connected(input_layer, num_outputs):\n",
    "    \n",
    "    # create weights\n",
    "    weight_shape = tf.squeeze(tf.stack([tf.shape(input_layer), [num_outputs]]))\n",
    "    weight = tf.random_normal(weight_shape, stddev=0.1)\n",
    "    bias = tf.random_normal(shape=[num_outputs])\n",
    "    \n",
    "    # make input into 2d\n",
    "    input_layer_2d = tf.expand_dims(input_layer, 0)\n",
    "    \n",
    "    # perform fully connected operations\n",
    "    # (W * X) + b\n",
    "    full_output = tf.add(tf.matmul(input_layer_2d, weight), bias)\n",
    "    \n",
    "    # drop extra dimensions\n",
    "    full_output_1d = tf.squeeze(full_output)\n",
    "    \n",
    "    return (full_output_1d)"
   ]
  },
  {
   "cell_type": "code",
   "execution_count": 37,
   "metadata": {},
   "outputs": [],
   "source": [
    "my_full_output = fully_connected(my_maxpool_output, 5)"
   ]
  },
  {
   "cell_type": "code",
   "execution_count": 38,
   "metadata": {},
   "outputs": [],
   "source": [
    "init = tf.global_variables_initializer()\n",
    "sess.run(init)"
   ]
  },
  {
   "cell_type": "code",
   "execution_count": 39,
   "metadata": {},
   "outputs": [
    {
     "name": "stdout",
     "output_type": "stream",
     "text": [
      "Input = array of length 25\n",
      "Convolution w/filter, length = 5, strides size = 1, results in an array of length 21:\n",
      "[-0.23309499 -2.6002147  -1.0782174  -0.20166099  1.7137433   2.0753574\n",
      " -1.381767   -2.281887    0.8559005   0.11092436  0.25693482 -0.22985514\n",
      " -0.26638353  0.2778939  -0.6787828  -0.5309956   0.40515155  2.4976091\n",
      "  0.22263828 -1.1129835  -0.53413296]\n"
     ]
    }
   ],
   "source": [
    "feed_dict = {x_input_1d: data_1d}\n",
    "\n",
    "# convolution output\n",
    "print('Input = array of length 25')\n",
    "print('Convolution w/filter, length = 5, strides size = 1, results in an array of length 21:')\n",
    "print(sess.run(my_convolution_output, feed_dict=feed_dict))"
   ]
  },
  {
   "cell_type": "code",
   "execution_count": 40,
   "metadata": {},
   "outputs": [
    {
     "name": "stdout",
     "output_type": "stream",
     "text": [
      "Input = the above array of length 21\n",
      "ReLU element wise returns the array of length 21:\n",
      "[0.         0.         0.         0.         1.7137433  2.0753574\n",
      " 0.         0.         0.8559005  0.11092436 0.25693482 0.\n",
      " 0.         0.2778939  0.         0.         0.40515155 2.4976091\n",
      " 0.22263828 0.         0.        ]\n"
     ]
    }
   ],
   "source": [
    "# activation output\n",
    "print('Input = the above array of length 21')\n",
    "print('ReLU element wise returns the array of length 21:')\n",
    "print(sess.run(my_activation_output, feed_dict=feed_dict))"
   ]
  },
  {
   "cell_type": "code",
   "execution_count": 41,
   "metadata": {},
   "outputs": [
    {
     "name": "stdout",
     "output_type": "stream",
     "text": [
      "Input = the above array of length 21\n",
      "MaxPool, window length = 5, stride size = 1, retults in the array of length 17:\n",
      "[1.7137433  2.0753574  2.0753574  2.0753574  2.0753574  2.0753574\n",
      " 0.8559005  0.8559005  0.8559005  0.2778939  0.2778939  0.2778939\n",
      " 0.40515155 2.4976091  2.4976091  2.4976091  2.4976091 ]\n"
     ]
    }
   ],
   "source": [
    "# maxpool output\n",
    "print('Input = the above array of length 21')\n",
    "print('MaxPool, window length = 5, stride size = 1, retults in the array of length 17:')\n",
    "print(sess.run(my_maxpool_output, feed_dict=feed_dict))"
   ]
  },
  {
   "cell_type": "code",
   "execution_count": 42,
   "metadata": {},
   "outputs": [
    {
     "name": "stdout",
     "output_type": "stream",
     "text": [
      "Input = the above array of length 17\n",
      "Fully connected layer on all four rows with five outputs:\n",
      "[1.2955474  0.2154069  0.07551128 1.0646985  0.3701983 ]\n"
     ]
    }
   ],
   "source": [
    "# fully contected output\n",
    "print('Input = the above array of length 17')\n",
    "print('Fully connected layer on all four rows with five outputs:')\n",
    "print(sess.run(my_full_output, feed_dict=feed_dict))"
   ]
  },
  {
   "cell_type": "code",
   "execution_count": null,
   "metadata": {},
   "outputs": [],
   "source": []
  }
 ],
 "metadata": {
  "kernelspec": {
   "display_name": "Python 3",
   "language": "python",
   "name": "python3"
  },
  "language_info": {
   "codemirror_mode": {
    "name": "ipython",
    "version": 3
   },
   "file_extension": ".py",
   "mimetype": "text/x-python",
   "name": "python",
   "nbconvert_exporter": "python",
   "pygments_lexer": "ipython3",
   "version": "3.6.8"
  }
 },
 "nbformat": 4,
 "nbformat_minor": 2
}
