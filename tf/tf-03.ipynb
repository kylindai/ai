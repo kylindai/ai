{
 "cells": [
  {
   "cell_type": "code",
   "execution_count": 2,
   "metadata": {},
   "outputs": [],
   "source": [
    "# step:\n",
    "# 1. created the data\n",
    "# 2. initialized placeholders and variables\n",
    "# 3. created a loss funciton\n",
    "# 4. defined an optimization algorithm\n",
    "# 5. iterated across random data samples to iteratively update our variables.\n",
    "\n",
    "import tensorflow as tf\n",
    "import numpy as np\n",
    "import scipy.stats as st\n",
    "\n",
    "%matplotlib inline\n",
    "import matplotlib as mpl\n",
    "import matplotlib.pyplot as plt"
   ]
  },
  {
   "cell_type": "code",
   "execution_count": 3,
   "metadata": {},
   "outputs": [],
   "source": [
    "sess = tf.Session()"
   ]
  },
  {
   "cell_type": "code",
   "execution_count": 4,
   "metadata": {},
   "outputs": [],
   "source": [
    "mu = 1\n",
    "sigma = 0.1\n",
    "size = 100\n",
    "# create data of 100 normal samples\n",
    "x_vals = np.random.normal(mu, sigma, size)\n",
    "x_vals.min(), x_vals.max()\n",
    "# create target label of 100 labels value is 10\n",
    "y_vals = np.repeat(10., 100)\n"
   ]
  },
  {
   "cell_type": "code",
   "execution_count": 5,
   "metadata": {},
   "outputs": [
    {
     "data": {
      "text/plain": [
       "[<matplotlib.lines.Line2D at 0x12f279e10>]"
      ]
     },
     "execution_count": 5,
     "metadata": {},
     "output_type": "execute_result"
    },
    {
     "data": {
      "image/png": "[encoded data removed]",
      "text/plain": [
       "<Figure size 432x288 with 1 Axes>"
      ]
     },
     "metadata": {
      "needs_background": "light"
     },
     "output_type": "display_data"
    }
   ],
   "source": [
    "# explore the data\n",
    "plt.hist(x_vals, 30, density=True)\n",
    "s_fit = np.linspace(x_vals.min(), x_vals.max(), size)\n",
    "plt.plot(s_fit, st.norm(mu, sigma).pdf(s_fit), lw=2, c='r')"
   ]
  },
  {
   "cell_type": "code",
   "execution_count": 6,
   "metadata": {},
   "outputs": [],
   "source": [
    "# training data placeholder\n",
    "x_data = tf.placeholder(shape=[1], dtype=tf.float32)\n",
    "# label placeholder\n",
    "y_target = tf.placeholder(shape=[1], dtype=tf.float32)\n",
    "# weight\n",
    "A = tf.Variable(tf.random_normal(shape=[1]))"
   ]
  },
  {
   "cell_type": "code",
   "execution_count": 7,
   "metadata": {},
   "outputs": [],
   "source": [
    "# model y = X * A\n",
    "my_output = tf.multiply(x_data, A)"
   ]
  },
  {
   "cell_type": "code",
   "execution_count": 8,
   "metadata": {},
   "outputs": [],
   "source": [
    "# loss function  L = l(y - y')\n",
    "loss = tf.square(my_output - y_target)"
   ]
  },
  {
   "cell_type": "code",
   "execution_count": 9,
   "metadata": {},
   "outputs": [],
   "source": [
    "# initialize variables\n",
    "init = tf.global_variables_initializer()\n",
    "sess.run(init)"
   ]
  },
  {
   "cell_type": "code",
   "execution_count": 10,
   "metadata": {},
   "outputs": [],
   "source": [
    "# train step for minimize the loss function\n",
    "my_opt = tf.train.GradientDescentOptimizer(learning_rate=0.02)\n",
    "train_step = my_opt.minimize(loss)"
   ]
  },
  {
   "cell_type": "code",
   "execution_count": 11,
   "metadata": {},
   "outputs": [
    {
     "name": "stdout",
     "output_type": "stream",
     "text": [
      "Step #25 A = [6.5998425]\n",
      "Loss = [8.267736]\n",
      "Step #50 A = [8.737123]\n",
      "Loss = [3.1937668]\n",
      "Step #75 A = [9.299238]\n",
      "Loss = [0.3038308]\n",
      "Step #100 A = [9.712463]\n",
      "Loss = [9.070622]\n"
     ]
    }
   ],
   "source": [
    "# do training - gradient descent\n",
    "for i in range(100):\n",
    "    # random data\n",
    "    rand_index = np.random.choice(100)\n",
    "    rand_x = [x_vals[rand_index]]\n",
    "    rand_y = [y_vals[rand_index]]\n",
    "    \n",
    "    # training, feed the sample data\n",
    "    sess.run(train_step, feed_dict={\n",
    "        x_data: rand_x, y_target: rand_y})\n",
    "    \n",
    "    # print training log\n",
    "    if (i+1) % 25 == 0:\n",
    "        print('Step #' + str(i+1) + ' A = ' + str(sess.run(A)))\n",
    "        print('Loss = ' + str(sess.run(loss, feed_dict={\n",
    "            x_data: rand_x, y_target: rand_y})))\n",
    "        "
   ]
  },
  {
   "cell_type": "markdown",
   "metadata": {},
   "source": [
    "# Classification"
   ]
  },
  {
   "cell_type": "code",
   "execution_count": 12,
   "metadata": {},
   "outputs": [],
   "source": [
    "# for classification\n",
    "# reset the graph and reinitialize the graph session\n",
    "from tensorflow.python.framework import ops\n",
    "ops.reset_default_graph()\n",
    "sess = tf.Session()"
   ]
  },
  {
   "cell_type": "code",
   "execution_count": 13,
   "metadata": {},
   "outputs": [],
   "source": [
    "# create the data from N(-1, 1) and N(3, 1)\n",
    "x_vals = np.concatenate((np.random.normal(-1, 1, 50), np.random.normal(3, 1, 50)))\n",
    "# create the target label  \n",
    "y_vals = np.concatenate((np.repeat(0., 50), np.repeat(1., 50)))\n",
    "\n",
    "# placeholder\n",
    "x_data = tf.placeholder(shape=[1], dtype=tf.float32)\n",
    "y_target = tf.placeholder(shape=[1], dtype=tf.float32)\n",
    "A = tf.Variable(tf.random_normal(mean=10, shape=[1]))\n"
   ]
  },
  {
   "cell_type": "code",
   "execution_count": 14,
   "metadata": {},
   "outputs": [],
   "source": [
    "# model\n",
    "my_output = tf.add(x_data, A)\n",
    "my_output_expanded = tf.expand_dims(my_output, 0)\n",
    "y_target_expanded = tf.expand_dims(y_target, 0)\n"
   ]
  },
  {
   "cell_type": "code",
   "execution_count": 15,
   "metadata": {},
   "outputs": [],
   "source": [
    "init = tf.global_variables_initializer()\n",
    "sess.run(init)"
   ]
  },
  {
   "cell_type": "code",
   "execution_count": 16,
   "metadata": {},
   "outputs": [],
   "source": [
    "# loss function\n",
    "xentropy = tf.nn.sigmoid_cross_entropy_with_logits(logits=my_output_expanded, labels=y_target_expanded)"
   ]
  },
  {
   "cell_type": "code",
   "execution_count": 17,
   "metadata": {},
   "outputs": [],
   "source": [
    "# train_step\n",
    "my_opt = tf.train.GradientDescentOptimizer(0.05)\n",
    "train_step = my_opt.minimize(xentropy)"
   ]
  },
  {
   "cell_type": "code",
   "execution_count": 18,
   "metadata": {},
   "outputs": [
    {
     "name": "stdout",
     "output_type": "stream",
     "text": [
      "Step #200 A = [5.613937]\n",
      "Loss = [[5.7323775]]\n",
      "Step #400 A = [1.5217551]\n",
      "Loss = [[0.7319285]]\n",
      "Step #600 A = [-0.35031343]\n",
      "Loss = [[0.19346164]]\n",
      "Step #800 A = [-0.8055636]\n",
      "Loss = [[0.21720739]]\n",
      "Step #1000 A = [-0.8807303]\n",
      "Loss = [[0.3016811]]\n",
      "Step #1200 A = [-1.0831319]\n",
      "Loss = [[0.2595201]]\n",
      "Step #1400 A = [-1.0325322]\n",
      "Loss = [[0.27094233]]\n"
     ]
    }
   ],
   "source": [
    "# do training - gradient descent\n",
    "for i in range(1400):\n",
    "    rand_index = np.random.choice(100)\n",
    "    rand_x = [x_vals[rand_index]]\n",
    "    rand_y = [y_vals[rand_index]]\n",
    "    \n",
    "    sess.run(train_step, feed_dict={x_data: rand_x, y_target: rand_y})\n",
    "    \n",
    "    # print training log\n",
    "    if (i+1) % 200 == 0:\n",
    "        print('Step #' + str(i+1) + ' A = ' + str(sess.run(A)))\n",
    "        print('Loss = ' + str(sess.run(xentropy, feed_dict={\n",
    "            x_data: rand_x, y_target: rand_y})))\n",
    "    "
   ]
  },
  {
   "cell_type": "markdown",
   "metadata": {},
   "source": [
    "# Batch & Stochastic Training"
   ]
  },
  {
   "cell_type": "code",
   "execution_count": 55,
   "metadata": {},
   "outputs": [],
   "source": [
    "ops.reset_default_graph()\n",
    "sess = tf.Session()"
   ]
  },
  {
   "cell_type": "code",
   "execution_count": 56,
   "metadata": {},
   "outputs": [],
   "source": [
    "# batch size\n",
    "batch_size = 20\n",
    "\n",
    "# train data\n",
    "x_vals = np.random.normal(1, 0.1, 100)\n",
    "# target\n",
    "y_vals = np.repeat(10., 100)\n",
    "\n",
    "# placeholder and variable for model\n",
    "x_data = tf.placeholder(shape=[None, 1], dtype=tf.float32)\n",
    "y_target = tf.placeholder(shape=[None, 1], dtype=tf.float32)\n",
    "A = tf.Variable(tf.random_normal(shape=[1,1]))"
   ]
  },
  {
   "cell_type": "code",
   "execution_count": 57,
   "metadata": {},
   "outputs": [],
   "source": [
    "# model\n",
    "my_output = tf.matmul(x_data, A)"
   ]
  },
  {
   "cell_type": "code",
   "execution_count": 58,
   "metadata": {},
   "outputs": [],
   "source": [
    "init = tf.global_variables_initializer()\n",
    "sess.run(init)"
   ]
  },
  {
   "cell_type": "code",
   "execution_count": 59,
   "metadata": {},
   "outputs": [],
   "source": [
    "# loss function\n",
    "loss = tf.reduce_mean(tf.square(my_output - y_target))"
   ]
  },
  {
   "cell_type": "code",
   "execution_count": 60,
   "metadata": {},
   "outputs": [],
   "source": [
    "# train step\n",
    "my_opt = tf.train.GradientDescentOptimizer(0.02)\n",
    "train_step = my_opt.minimize(loss)"
   ]
  },
  {
   "cell_type": "code",
   "execution_count": 61,
   "metadata": {},
   "outputs": [
    {
     "name": "stdout",
     "output_type": "stream",
     "text": [
      "Step #5 A = [[1.8919162]]\n",
      "Loss = 66.60382\n",
      "Step #10 A = [[3.3719118]]\n",
      "Loss = 45.38765\n",
      "Step #15 A = [[4.585554]]\n",
      "Loss = 29.535929\n",
      "Step #20 A = [[5.575063]]\n",
      "Loss = 19.10526\n",
      "Step #25 A = [[6.3888507]]\n",
      "Loss = 14.685068\n",
      "Step #30 A = [[7.0501013]]\n",
      "Loss = 9.70377\n",
      "Step #35 A = [[7.574139]]\n",
      "Loss = 7.2158384\n",
      "Step #40 A = [[8.013449]]\n",
      "Loss = 5.0064697\n",
      "Step #45 A = [[8.366564]]\n",
      "Loss = 3.2199435\n",
      "Step #50 A = [[8.637913]]\n",
      "Loss = 2.089158\n",
      "Step #55 A = [[8.8781395]]\n",
      "Loss = 1.5989213\n",
      "Step #60 A = [[9.087366]]\n",
      "Loss = 1.2762716\n",
      "Step #65 A = [[9.237471]]\n",
      "Loss = 1.5331911\n",
      "Step #70 A = [[9.3648]]\n",
      "Loss = 1.5275456\n",
      "Step #75 A = [[9.477794]]\n",
      "Loss = 1.1659136\n",
      "Step #80 A = [[9.573377]]\n",
      "Loss = 0.75188565\n",
      "Step #85 A = [[9.609686]]\n",
      "Loss = 0.7469823\n",
      "Step #90 A = [[9.677409]]\n",
      "Loss = 0.72070575\n",
      "Step #95 A = [[9.736848]]\n",
      "Loss = 1.0466688\n",
      "Step #100 A = [[9.750651]]\n",
      "Loss = 1.2637914\n"
     ]
    }
   ],
   "source": [
    "loss_batch = []\n",
    "for i in range(100):\n",
    "    rand_index = np.random.choice(100, size=batch_size)\n",
    "    rand_x = np.transpose([x_vals[rand_index]])\n",
    "    rand_y = np.transpose([y_vals[rand_index]])\n",
    "    \n",
    "    sess.run(train_step, feed_dict={x_data: rand_x, y_target: rand_y})\n",
    "    if (i+1) % 5 == 0:\n",
    "        print('Step #' + str(i+1) + ' A = ' + str(sess.run(A)))\n",
    "        temp_loss = sess.run(loss, feed_dict={x_data: rand_x, y_target: rand_y})\n",
    "        print('Loss = ' + str(temp_loss))\n",
    "        loss_batch.append(temp_loss)"
   ]
  },
  {
   "cell_type": "code",
   "execution_count": 62,
   "metadata": {},
   "outputs": [
    {
     "data": {
      "text/plain": [
       "<matplotlib.legend.Legend at 0x138ef4390>"
      ]
     },
     "execution_count": 62,
     "metadata": {},
     "output_type": "execute_result"
    },
    {
     "data": {
      "image/png": "[encoded data removed]",
      "text/plain": [
       "<Figure size 432x288 with 1 Axes>"
      ]
     },
     "metadata": {
      "needs_background": "light"
     },
     "output_type": "display_data"
    }
   ],
   "source": [
    "%matplotlib inline\n",
    "import matplotlib as mpl\n",
    "import matplotlib.pyplot as plt\n",
    "\n",
    "plt.plot(range(0, 100, 5), loss_batch, 'r--', label='Batch Loss, size=20')\n",
    "plt.legend(loc='upper right', prop={'size': 11})\n"
   ]
  },
  {
   "cell_type": "code",
   "execution_count": null,
   "metadata": {},
   "outputs": [],
   "source": []
  },
  {
   "cell_type": "code",
   "execution_count": null,
   "metadata": {},
   "outputs": [],
   "source": []
  }
 ],
 "metadata": {
  "kernelspec": {
   "display_name": "Python 3",
   "language": "python",
   "name": "python3"
  },
  "language_info": {
   "codemirror_mode": {
    "name": "ipython",
    "version": 3
   },
   "file_extension": ".py",
   "mimetype": "text/x-python",
   "name": "python",
   "nbconvert_exporter": "python",
   "pygments_lexer": "ipython3",
   "version": "3.6.8"
  }
 },
 "nbformat": 4,
 "nbformat_minor": 2
}
