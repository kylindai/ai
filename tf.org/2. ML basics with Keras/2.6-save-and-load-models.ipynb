{
 "cells": [
  {
   "cell_type": "markdown",
   "metadata": {},
   "source": [
    "## Save and load models\n",
    "\n",
    "Table of contents  \n",
    "* Options\n",
    "* Setup\n",
    "  * Install and imports\n",
    "  * Get an example dataset\n",
    "  * Define a model\n",
    "* Save checkpoints during training\n",
    "  * Checkpoint callback usage\n",
    "  * Checkpoint callback options\n",
    "* What are these files?\n",
    "* Manually save weights\n",
    "* Save the entrie model\n",
    "  * SavedModel format\n",
    "  * HDF5 format\n",
    "  * Saving custom objects"
   ]
  },
  {
   "cell_type": "code",
   "execution_count": 1,
   "metadata": {},
   "outputs": [
    {
     "name": "stdout",
     "output_type": "stream",
     "text": [
      "2.3.1\n"
     ]
    }
   ],
   "source": [
    "## There are different ways to save TF models depending on the API\n",
    "\n",
    "import os\n",
    "import tensorflow as tf\n",
    "\n",
    "from tensorflow import keras\n",
    "\n",
    "print(tf.__version__)"
   ]
  },
  {
   "cell_type": "code",
   "execution_count": 2,
   "metadata": {},
   "outputs": [],
   "source": [
    "(train_images, train_labels), (test_images, test_labels) = tf.keras.datasets.mnist.load_data()\n",
    "\n",
    "train_labels = train_labels[:1000]\n",
    "test_labels = test_labels[:1000]\n",
    "\n",
    "train_images = train_images[:1000].reshape(-1, 28 * 28) / 255.0\n",
    "test_images = test_images[:1000].reshape(-1, 28 * 28) / 255.0\n"
   ]
  },
  {
   "cell_type": "markdown",
   "metadata": {},
   "source": [
    "### Defaine a simple sequential model"
   ]
  },
  {
   "cell_type": "code",
   "execution_count": 3,
   "metadata": {},
   "outputs": [
    {
     "name": "stdout",
     "output_type": "stream",
     "text": [
      "Model: \"sequential\"\n",
      "_________________________________________________________________\n",
      "Layer (type)                 Output Shape              Param #   \n",
      "=================================================================\n",
      "dense (Dense)                (None, 512)               401920    \n",
      "_________________________________________________________________\n",
      "dropout (Dropout)            (None, 512)               0         \n",
      "_________________________________________________________________\n",
      "dense_1 (Dense)              (None, 10)                5130      \n",
      "=================================================================\n",
      "Total params: 407,050\n",
      "Trainable params: 407,050\n",
      "Non-trainable params: 0\n",
      "_________________________________________________________________\n"
     ]
    }
   ],
   "source": [
    "# Define a simple sequential model\n",
    "def create_model():\n",
    "    model = tf.keras.models.Sequential([\n",
    "        keras.layers.Dense(512, activation='relu', input_shape=(784,)),\n",
    "        keras.layers.Dropout(0.2),\n",
    "        keras.layers.Dense(10)\n",
    "    ])\n",
    "    \n",
    "    model.compile(optimizer='adam',\n",
    "                 loss=tf.losses.SparseCategoricalCrossentropy(from_logits=True),\n",
    "                 metrics=[tf.metrics.SparseCategoricalAccuracy()])\n",
    "    \n",
    "    return model\n",
    "\n",
    "# create a basic model instance\n",
    "model = create_model()\n",
    "\n",
    "# display the model's architecture\n",
    "model.summary()"
   ]
  },
  {
   "cell_type": "markdown",
   "metadata": {},
   "source": [
    "### Checkpoint callback usage"
   ]
  },
  {
   "cell_type": "code",
   "execution_count": 6,
   "metadata": {},
   "outputs": [
    {
     "name": "stdout",
     "output_type": "stream",
     "text": [
      "Epoch 1/10\n",
      "29/32 [==========================>...] - ETA: 0s - loss: 1.1808 - sparse_categorical_accuracy: 0.6746\n",
      "Epoch 00001: saving model to training_1/cp.ckpt\n",
      "32/32 [==============================] - 0s 9ms/step - loss: 1.1255 - sparse_categorical_accuracy: 0.6930 - val_loss: 0.7613 - val_sparse_categorical_accuracy: 0.7580\n",
      "Epoch 2/10\n",
      "28/32 [=========================>....] - ETA: 0s - loss: 0.4220 - sparse_categorical_accuracy: 0.8839\n",
      "Epoch 00002: saving model to training_1/cp.ckpt\n",
      "32/32 [==============================] - 0s 4ms/step - loss: 0.4312 - sparse_categorical_accuracy: 0.8810 - val_loss: 0.5275 - val_sparse_categorical_accuracy: 0.8300\n",
      "Epoch 3/10\n",
      "28/32 [=========================>....] - ETA: 0s - loss: 0.3027 - sparse_categorical_accuracy: 0.9118\n",
      "Epoch 00003: saving model to training_1/cp.ckpt\n",
      "32/32 [==============================] - 0s 4ms/step - loss: 0.2977 - sparse_categorical_accuracy: 0.9120 - val_loss: 0.5010 - val_sparse_categorical_accuracy: 0.8470\n",
      "Epoch 4/10\n",
      "29/32 [==========================>...] - ETA: 0s - loss: 0.2033 - sparse_categorical_accuracy: 0.9504\n",
      "Epoch 00004: saving model to training_1/cp.ckpt\n",
      "32/32 [==============================] - 0s 5ms/step - loss: 0.2076 - sparse_categorical_accuracy: 0.9460 - val_loss: 0.4450 - val_sparse_categorical_accuracy: 0.8590\n",
      "Epoch 5/10\n",
      "30/32 [===========================>..] - ETA: 0s - loss: 0.1603 - sparse_categorical_accuracy: 0.9667\n",
      "Epoch 00005: saving model to training_1/cp.ckpt\n",
      "32/32 [==============================] - 0s 5ms/step - loss: 0.1579 - sparse_categorical_accuracy: 0.9670 - val_loss: 0.4116 - val_sparse_categorical_accuracy: 0.8650\n",
      "Epoch 6/10\n",
      "28/32 [=========================>....] - ETA: 0s - loss: 0.1175 - sparse_categorical_accuracy: 0.9710\n",
      "Epoch 00006: saving model to training_1/cp.ckpt\n",
      "32/32 [==============================] - 0s 5ms/step - loss: 0.1182 - sparse_categorical_accuracy: 0.9720 - val_loss: 0.4263 - val_sparse_categorical_accuracy: 0.8600\n",
      "Epoch 7/10\n",
      "27/32 [========================>.....] - ETA: 0s - loss: 0.0844 - sparse_categorical_accuracy: 0.9884\n",
      "Epoch 00007: saving model to training_1/cp.ckpt\n",
      "32/32 [==============================] - 0s 5ms/step - loss: 0.0838 - sparse_categorical_accuracy: 0.9890 - val_loss: 0.4004 - val_sparse_categorical_accuracy: 0.8710\n",
      "Epoch 8/10\n",
      "28/32 [=========================>....] - ETA: 0s - loss: 0.0670 - sparse_categorical_accuracy: 0.9922\n",
      "Epoch 00008: saving model to training_1/cp.ckpt\n",
      "32/32 [==============================] - 0s 5ms/step - loss: 0.0645 - sparse_categorical_accuracy: 0.9920 - val_loss: 0.4024 - val_sparse_categorical_accuracy: 0.8700\n",
      "Epoch 9/10\n",
      "28/32 [=========================>....] - ETA: 0s - loss: 0.0479 - sparse_categorical_accuracy: 0.9989\n",
      "Epoch 00009: saving model to training_1/cp.ckpt\n",
      "32/32 [==============================] - 0s 4ms/step - loss: 0.0485 - sparse_categorical_accuracy: 0.9980 - val_loss: 0.4072 - val_sparse_categorical_accuracy: 0.8590\n",
      "Epoch 10/10\n",
      "29/32 [==========================>...] - ETA: 0s - loss: 0.0351 - sparse_categorical_accuracy: 1.0000\n",
      "Epoch 00010: saving model to training_1/cp.ckpt\n",
      "32/32 [==============================] - 0s 5ms/step - loss: 0.0376 - sparse_categorical_accuracy: 1.0000 - val_loss: 0.4012 - val_sparse_categorical_accuracy: 0.8660\n"
     ]
    },
    {
     "data": {
      "text/plain": [
       "<tensorflow.python.keras.callbacks.History at 0x7fc68e840d50>"
      ]
     },
     "execution_count": 6,
     "metadata": {},
     "output_type": "execute_result"
    }
   ],
   "source": [
    "checkpoint_path = 'training_1/cp.ckpt'\n",
    "checkpoint_dir = os.path.dirname(checkpoint_path)\n",
    "\n",
    "# Create a callback that saves the model's weights\n",
    "cp_callback = tf.keras.callbacks.ModelCheckpoint(\n",
    "    filepath=checkpoint_path,\n",
    "    save_weights_only=True,\n",
    "    verbose=1\n",
    ")\n",
    "\n",
    "# Train the model with the new callback\n",
    "model.fit(train_images, \n",
    "          train_labels,\n",
    "          epochs=10,\n",
    "          validation_data=(test_images, test_labels),\n",
    "          callbacks=[cp_callback]\n",
    "         )"
   ]
  },
  {
   "cell_type": "code",
   "execution_count": null,
   "metadata": {},
   "outputs": [],
   "source": []
  }
 ],
 "metadata": {
  "kernelspec": {
   "display_name": "Python 3",
   "language": "python",
   "name": "python3"
  },
  "language_info": {
   "codemirror_mode": {
    "name": "ipython",
    "version": 3
   },
   "file_extension": ".py",
   "mimetype": "text/x-python",
   "name": "python",
   "nbconvert_exporter": "python",
   "pygments_lexer": "ipython3",
   "version": "3.7.7"
  }
 },
 "nbformat": 4,
 "nbformat_minor": 4
}
