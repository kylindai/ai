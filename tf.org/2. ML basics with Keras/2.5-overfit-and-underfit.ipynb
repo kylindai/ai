{
 "cells": [
  {
   "cell_type": "markdown",
   "metadata": {},
   "source": [
    "## Overfit and Underfit"
   ]
  },
  {
   "cell_type": "markdown",
   "metadata": {},
   "source": [
    "Table of contents:\n",
    "* Setup\n",
    "* The Higgs Dataset\n",
    "* Demonstrate overfitting\n",
    "  * Training procedure\n",
    "  * Tiny model\n",
    "  * Small model\n",
    "  * Medium model\n",
    "  * large model\n",
    "  * Plot the training and validation losses\n",
    "  * View in TensorBoard\n",
    "* Strategies to prevent overfitting\n",
    "  * Add weight regularization\n",
    "  * Add dropout\n",
    "  * Combined L2 + dropout\n",
    "  * View in TensorBoard\n",
    "* Conclusions"
   ]
  },
  {
   "cell_type": "code",
   "execution_count": 1,
   "metadata": {},
   "outputs": [
    {
     "name": "stdout",
     "output_type": "stream",
     "text": [
      "2.3.1\n"
     ]
    }
   ],
   "source": [
    "import tensorflow as tf\n",
    "\n",
    "from tensorflow.keras import layers\n",
    "from tensorflow.keras import regularizers\n",
    "\n",
    "print(tf.__version__)"
   ]
  },
  {
   "cell_type": "code",
   "execution_count": null,
   "metadata": {},
   "outputs": [],
   "source": []
  }
 ],
 "metadata": {
  "kernelspec": {
   "display_name": "Python 3",
   "language": "python",
   "name": "python3"
  },
  "language_info": {
   "codemirror_mode": {
    "name": "ipython",
    "version": 3
   },
   "file_extension": ".py",
   "mimetype": "text/x-python",
   "name": "python",
   "nbconvert_exporter": "python",
   "pygments_lexer": "ipython3",
   "version": "3.7.7"
  }
 },
 "nbformat": 4,
 "nbformat_minor": 4
}
