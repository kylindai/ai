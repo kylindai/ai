{
 "cells": [
  {
   "cell_type": "markdown",
   "metadata": {},
   "source": [
    "## Premade estimator"
   ]
  },
  {
   "cell_type": "code",
   "execution_count": 1,
   "metadata": {},
   "outputs": [],
   "source": [
    "import tensorflow as tf\n",
    "import pandas as pd"
   ]
  },
  {
   "cell_type": "code",
   "execution_count": 2,
   "metadata": {},
   "outputs": [
    {
     "name": "stdout",
     "output_type": "stream",
     "text": [
      "tensorflow 2.3.1\n",
      "pandas 1.1.3\n"
     ]
    }
   ],
   "source": [
    "for module in tf, pd:\n",
    "    print(module.__name__, module.__version__)"
   ]
  },
  {
   "cell_type": "code",
   "execution_count": 3,
   "metadata": {},
   "outputs": [],
   "source": [
    "CSV_COLUMN_NAMES = ['SepalLength', 'SepalWidth',\n",
    "                   'PetalLength', 'PetalWidth',\n",
    "                   'Species']\n",
    "SPECIES = ['Setosa', 'Versicolor', 'Virginica']"
   ]
  },
  {
   "cell_type": "code",
   "execution_count": 4,
   "metadata": {},
   "outputs": [],
   "source": [
    "train_path = '../../../data/iris_training.csv'\n",
    "test_path = '../../../data/iris_test.csv'\n",
    "\n",
    "train = pd.read_csv(train_path, names=CSV_COLUMN_NAMES, header=0)\n",
    "test = pd.read_csv(test_path, names=CSV_COLUMN_NAMES, header=0)"
   ]
  },
  {
   "cell_type": "code",
   "execution_count": 5,
   "metadata": {},
   "outputs": [
    {
     "data": {
      "text/html": [
       "<div>\n",
       "<style scoped>\n",
       "    .dataframe tbody tr th:only-of-type {\n",
       "        vertical-align: middle;\n",
       "    }\n",
       "\n",
       "    .dataframe tbody tr th {\n",
       "        vertical-align: top;\n",
       "    }\n",
       "\n",
       "    .dataframe thead th {\n",
       "        text-align: right;\n",
       "    }\n",
       "</style>\n",
       "<table border=\"1\" class=\"dataframe\">\n",
       "  <thead>\n",
       "    <tr style=\"text-align: right;\">\n",
       "      <th></th>\n",
       "      <th>SepalLength</th>\n",
       "      <th>SepalWidth</th>\n",
       "      <th>PetalLength</th>\n",
       "      <th>PetalWidth</th>\n",
       "      <th>Species</th>\n",
       "    </tr>\n",
       "  </thead>\n",
       "  <tbody>\n",
       "    <tr>\n",
       "      <th>0</th>\n",
       "      <td>6.4</td>\n",
       "      <td>2.8</td>\n",
       "      <td>5.6</td>\n",
       "      <td>2.2</td>\n",
       "      <td>2</td>\n",
       "    </tr>\n",
       "    <tr>\n",
       "      <th>1</th>\n",
       "      <td>5.0</td>\n",
       "      <td>2.3</td>\n",
       "      <td>3.3</td>\n",
       "      <td>1.0</td>\n",
       "      <td>1</td>\n",
       "    </tr>\n",
       "    <tr>\n",
       "      <th>2</th>\n",
       "      <td>4.9</td>\n",
       "      <td>2.5</td>\n",
       "      <td>4.5</td>\n",
       "      <td>1.7</td>\n",
       "      <td>2</td>\n",
       "    </tr>\n",
       "    <tr>\n",
       "      <th>3</th>\n",
       "      <td>4.9</td>\n",
       "      <td>3.1</td>\n",
       "      <td>1.5</td>\n",
       "      <td>0.1</td>\n",
       "      <td>0</td>\n",
       "    </tr>\n",
       "    <tr>\n",
       "      <th>4</th>\n",
       "      <td>5.7</td>\n",
       "      <td>3.8</td>\n",
       "      <td>1.7</td>\n",
       "      <td>0.3</td>\n",
       "      <td>0</td>\n",
       "    </tr>\n",
       "  </tbody>\n",
       "</table>\n",
       "</div>"
      ],
      "text/plain": [
       "   SepalLength  SepalWidth  PetalLength  PetalWidth  Species\n",
       "0          6.4         2.8          5.6         2.2        2\n",
       "1          5.0         2.3          3.3         1.0        1\n",
       "2          4.9         2.5          4.5         1.7        2\n",
       "3          4.9         3.1          1.5         0.1        0\n",
       "4          5.7         3.8          1.7         0.3        0"
      ]
     },
     "execution_count": 5,
     "metadata": {},
     "output_type": "execute_result"
    }
   ],
   "source": [
    "train.head()"
   ]
  },
  {
   "cell_type": "code",
   "execution_count": 6,
   "metadata": {},
   "outputs": [
    {
     "data": {
      "text/html": [
       "<div>\n",
       "<style scoped>\n",
       "    .dataframe tbody tr th:only-of-type {\n",
       "        vertical-align: middle;\n",
       "    }\n",
       "\n",
       "    .dataframe tbody tr th {\n",
       "        vertical-align: top;\n",
       "    }\n",
       "\n",
       "    .dataframe thead th {\n",
       "        text-align: right;\n",
       "    }\n",
       "</style>\n",
       "<table border=\"1\" class=\"dataframe\">\n",
       "  <thead>\n",
       "    <tr style=\"text-align: right;\">\n",
       "      <th></th>\n",
       "      <th>SepalLength</th>\n",
       "      <th>SepalWidth</th>\n",
       "      <th>PetalLength</th>\n",
       "      <th>PetalWidth</th>\n",
       "    </tr>\n",
       "  </thead>\n",
       "  <tbody>\n",
       "    <tr>\n",
       "      <th>0</th>\n",
       "      <td>6.4</td>\n",
       "      <td>2.8</td>\n",
       "      <td>5.6</td>\n",
       "      <td>2.2</td>\n",
       "    </tr>\n",
       "    <tr>\n",
       "      <th>1</th>\n",
       "      <td>5.0</td>\n",
       "      <td>2.3</td>\n",
       "      <td>3.3</td>\n",
       "      <td>1.0</td>\n",
       "    </tr>\n",
       "    <tr>\n",
       "      <th>2</th>\n",
       "      <td>4.9</td>\n",
       "      <td>2.5</td>\n",
       "      <td>4.5</td>\n",
       "      <td>1.7</td>\n",
       "    </tr>\n",
       "    <tr>\n",
       "      <th>3</th>\n",
       "      <td>4.9</td>\n",
       "      <td>3.1</td>\n",
       "      <td>1.5</td>\n",
       "      <td>0.1</td>\n",
       "    </tr>\n",
       "    <tr>\n",
       "      <th>4</th>\n",
       "      <td>5.7</td>\n",
       "      <td>3.8</td>\n",
       "      <td>1.7</td>\n",
       "      <td>0.3</td>\n",
       "    </tr>\n",
       "  </tbody>\n",
       "</table>\n",
       "</div>"
      ],
      "text/plain": [
       "   SepalLength  SepalWidth  PetalLength  PetalWidth\n",
       "0          6.4         2.8          5.6         2.2\n",
       "1          5.0         2.3          3.3         1.0\n",
       "2          4.9         2.5          4.5         1.7\n",
       "3          4.9         3.1          1.5         0.1\n",
       "4          5.7         3.8          1.7         0.3"
      ]
     },
     "execution_count": 6,
     "metadata": {},
     "output_type": "execute_result"
    }
   ],
   "source": [
    "train_y = train.pop('Species')\n",
    "test_y = test.pop('Species')\n",
    "\n",
    "train.head()"
   ]
  },
  {
   "cell_type": "markdown",
   "metadata": {},
   "source": [
    "To write a Tensorflow program based on pre-made Estimators, you must perform the following tasks:\n",
    "* create one or more input functions.\n",
    "* define the model's feature columns.\n",
    "* instantiate an Estimator, specifiying the feature columns and various hyperparameters.\n",
    "* call one or more methods on the Estimator object, passing the appropriate input function as the source of the data."
   ]
  },
  {
   "cell_type": "markdown",
   "metadata": {},
   "source": [
    "### Create input functions"
   ]
  },
  {
   "cell_type": "code",
   "execution_count": 7,
   "metadata": {},
   "outputs": [],
   "source": [
    "def input_evalution_set():\n",
    "    features = {'SepalLength': np.array([6.4, 5.0]),\n",
    "                'SepalWidth':  np.array([2.8, 3.3]),\n",
    "                'PetalLenght': np.array([5.6, 3.3]),\n",
    "                'PetalWidth':  np.array([2.2, 1.0]),\n",
    "               }\n",
    "    labels = np.array([2, 1])\n",
    "    return features, labels"
   ]
  },
  {
   "cell_type": "code",
   "execution_count": 8,
   "metadata": {},
   "outputs": [],
   "source": [
    "def input_fn(features, labels, training=True, batch_size=256):\n",
    "    dataset = tf.data.Dataset.from_tensor_slices((dict(features), labels))\n",
    "    if training:\n",
    "        dataset = dataset.shuffle(1000).repeat()\n",
    "    return dataset.batch(batch_size)"
   ]
  },
  {
   "cell_type": "markdown",
   "metadata": {},
   "source": [
    "### Define the feature columns"
   ]
  },
  {
   "cell_type": "code",
   "execution_count": 9,
   "metadata": {},
   "outputs": [
    {
     "name": "stdout",
     "output_type": "stream",
     "text": [
      "SepalLength\n",
      "SepalWidth\n",
      "PetalLength\n",
      "PetalWidth\n"
     ]
    },
    {
     "data": {
      "text/plain": [
       "[NumericColumn(key='SepalLength', shape=(1,), default_value=None, dtype=tf.float32, normalizer_fn=None),\n",
       " NumericColumn(key='SepalWidth', shape=(1,), default_value=None, dtype=tf.float32, normalizer_fn=None),\n",
       " NumericColumn(key='PetalLength', shape=(1,), default_value=None, dtype=tf.float32, normalizer_fn=None),\n",
       " NumericColumn(key='PetalWidth', shape=(1,), default_value=None, dtype=tf.float32, normalizer_fn=None)]"
      ]
     },
     "execution_count": 9,
     "metadata": {},
     "output_type": "execute_result"
    }
   ],
   "source": [
    "my_feature_columns = []\n",
    "for key in train.keys():\n",
    "    print(key)\n",
    "    my_feature_columns.append(tf.feature_column.numeric_column(key=key))\n",
    "\n",
    "my_feature_columns"
   ]
  },
  {
   "cell_type": "markdown",
   "metadata": {},
   "source": [
    "### Instantiate an estimator"
   ]
  },
  {
   "cell_type": "code",
   "execution_count": 10,
   "metadata": {},
   "outputs": [
    {
     "name": "stdout",
     "output_type": "stream",
     "text": [
      "INFO:tensorflow:Using default config.\n",
      "WARNING:tensorflow:Using temporary folder as model directory: /var/folders/ny/5y0c96yx5dq08xbnrxxbnhhc0000gp/T/tmp4hvy270h\n",
      "INFO:tensorflow:Using config: {'_model_dir': '/var/folders/ny/5y0c96yx5dq08xbnrxxbnhhc0000gp/T/tmp4hvy270h', '_tf_random_seed': None, '_save_summary_steps': 100, '_save_checkpoints_steps': None, '_save_checkpoints_secs': 600, '_session_config': allow_soft_placement: true\n",
      "graph_options {\n",
      "  rewrite_options {\n",
      "    meta_optimizer_iterations: ONE\n",
      "  }\n",
      "}\n",
      ", '_keep_checkpoint_max': 5, '_keep_checkpoint_every_n_hours': 10000, '_log_step_count_steps': 100, '_train_distribute': None, '_device_fn': None, '_protocol': None, '_eval_distribute': None, '_experimental_distribute': None, '_experimental_max_worker_delay_secs': None, '_session_creation_timeout_secs': 7200, '_service': None, '_cluster_spec': ClusterSpec({}), '_task_type': 'worker', '_task_id': 0, '_global_id_in_cluster': 0, '_master': '', '_evaluation_master': '', '_is_chief': True, '_num_ps_replicas': 0, '_num_worker_replicas': 1}\n"
     ]
    }
   ],
   "source": [
    "classifier = tf.estimator.DNNClassifier(\n",
    "    feature_columns=my_feature_columns,\n",
    "    hidden_units=[30, 10],\n",
    "    n_classes=3)"
   ]
  },
  {
   "cell_type": "markdown",
   "metadata": {},
   "source": [
    "### Train, Evalate, and Predict"
   ]
  },
  {
   "cell_type": "code",
   "execution_count": 11,
   "metadata": {},
   "outputs": [
    {
     "name": "stdout",
     "output_type": "stream",
     "text": [
      "WARNING:tensorflow:From /Library/Frameworks/Python.framework/Versions/3.7/lib/python3.7/site-packages/tensorflow/python/training/training_util.py:236: Variable.initialized_value (from tensorflow.python.ops.variables) is deprecated and will be removed in a future version.\n",
      "Instructions for updating:\n",
      "Use Variable.read_value. Variables in 2.X are initialized automatically both in eager and graph (inside tf.defun) contexts.\n",
      "INFO:tensorflow:Calling model_fn.\n",
      "WARNING:tensorflow:Layer dnn is casting an input tensor from dtype float64 to the layer's dtype of float32, which is new behavior in TensorFlow 2.  The layer has dtype float32 because its dtype defaults to floatx.\n",
      "\n",
      "If you intended to run this layer in float32, you can safely ignore this warning. If in doubt, this warning is likely only an issue if you are porting a TensorFlow 1.X model to TensorFlow 2.\n",
      "\n",
      "To change all layers to have dtype float64 by default, call `tf.keras.backend.set_floatx('float64')`. To change just this layer, pass dtype='float64' to the layer constructor. If you are the author of this layer, you can disable autocasting by passing autocast=False to the base Layer constructor.\n",
      "\n",
      "WARNING:tensorflow:From /Library/Frameworks/Python.framework/Versions/3.7/lib/python3.7/site-packages/tensorflow/python/keras/optimizer_v2/adagrad.py:83: calling Constant.__init__ (from tensorflow.python.ops.init_ops) with dtype is deprecated and will be removed in a future version.\n",
      "Instructions for updating:\n",
      "Call initializer instance with the dtype argument instead of passing it to the constructor\n",
      "INFO:tensorflow:Done calling model_fn.\n",
      "INFO:tensorflow:Create CheckpointSaverHook.\n",
      "INFO:tensorflow:Graph was finalized.\n",
      "INFO:tensorflow:Running local_init_op.\n",
      "INFO:tensorflow:Done running local_init_op.\n",
      "INFO:tensorflow:Calling checkpoint listeners before saving checkpoint 0...\n",
      "INFO:tensorflow:Saving checkpoints for 0 into /var/folders/ny/5y0c96yx5dq08xbnrxxbnhhc0000gp/T/tmp4hvy270h/model.ckpt.\n",
      "INFO:tensorflow:Calling checkpoint listeners after saving checkpoint 0...\n",
      "INFO:tensorflow:loss = 1.957072, step = 0\n",
      "INFO:tensorflow:global_step/sec: 436.674\n",
      "INFO:tensorflow:loss = 1.1391959, step = 100 (0.230 sec)\n",
      "INFO:tensorflow:global_step/sec: 572.848\n",
      "INFO:tensorflow:loss = 1.0131142, step = 200 (0.175 sec)\n",
      "INFO:tensorflow:global_step/sec: 573.589\n",
      "INFO:tensorflow:loss = 0.9452911, step = 300 (0.174 sec)\n",
      "INFO:tensorflow:global_step/sec: 575.006\n",
      "INFO:tensorflow:loss = 0.88833296, step = 400 (0.174 sec)\n",
      "INFO:tensorflow:global_step/sec: 537.372\n",
      "INFO:tensorflow:loss = 0.86113286, step = 500 (0.186 sec)\n",
      "INFO:tensorflow:global_step/sec: 544.65\n",
      "INFO:tensorflow:loss = 0.85701185, step = 600 (0.184 sec)\n",
      "INFO:tensorflow:global_step/sec: 576.678\n",
      "INFO:tensorflow:loss = 0.8538453, step = 700 (0.173 sec)\n",
      "INFO:tensorflow:global_step/sec: 567.617\n",
      "INFO:tensorflow:loss = 0.82715005, step = 800 (0.176 sec)\n",
      "INFO:tensorflow:global_step/sec: 554.613\n",
      "INFO:tensorflow:loss = 0.80221367, step = 900 (0.180 sec)\n",
      "INFO:tensorflow:global_step/sec: 535.209\n",
      "INFO:tensorflow:loss = 0.7826621, step = 1000 (0.187 sec)\n",
      "INFO:tensorflow:global_step/sec: 566.12\n",
      "INFO:tensorflow:loss = 0.78230506, step = 1100 (0.177 sec)\n",
      "INFO:tensorflow:global_step/sec: 571.526\n",
      "INFO:tensorflow:loss = 0.77082485, step = 1200 (0.175 sec)\n",
      "INFO:tensorflow:global_step/sec: 555.624\n",
      "INFO:tensorflow:loss = 0.742447, step = 1300 (0.180 sec)\n",
      "INFO:tensorflow:global_step/sec: 566.136\n",
      "INFO:tensorflow:loss = 0.7467648, step = 1400 (0.177 sec)\n",
      "INFO:tensorflow:global_step/sec: 555.229\n",
      "INFO:tensorflow:loss = 0.7351247, step = 1500 (0.180 sec)\n",
      "INFO:tensorflow:global_step/sec: 555.343\n",
      "INFO:tensorflow:loss = 0.7247796, step = 1600 (0.180 sec)\n",
      "INFO:tensorflow:global_step/sec: 560.076\n",
      "INFO:tensorflow:loss = 0.7071097, step = 1700 (0.178 sec)\n",
      "INFO:tensorflow:global_step/sec: 570.035\n",
      "INFO:tensorflow:loss = 0.7066579, step = 1800 (0.176 sec)\n",
      "INFO:tensorflow:global_step/sec: 572.128\n",
      "INFO:tensorflow:loss = 0.6954865, step = 1900 (0.175 sec)\n",
      "INFO:tensorflow:global_step/sec: 553.707\n",
      "INFO:tensorflow:loss = 0.69023514, step = 2000 (0.181 sec)\n",
      "INFO:tensorflow:global_step/sec: 550.752\n",
      "INFO:tensorflow:loss = 0.67687786, step = 2100 (0.181 sec)\n",
      "INFO:tensorflow:global_step/sec: 529.025\n",
      "INFO:tensorflow:loss = 0.66804403, step = 2200 (0.189 sec)\n",
      "INFO:tensorflow:global_step/sec: 543.529\n",
      "INFO:tensorflow:loss = 0.6610254, step = 2300 (0.184 sec)\n",
      "INFO:tensorflow:global_step/sec: 550.213\n",
      "INFO:tensorflow:loss = 0.65110195, step = 2400 (0.182 sec)\n",
      "INFO:tensorflow:global_step/sec: 533.063\n",
      "INFO:tensorflow:loss = 0.6491593, step = 2500 (0.188 sec)\n",
      "INFO:tensorflow:global_step/sec: 574.95\n",
      "INFO:tensorflow:loss = 0.64507073, step = 2600 (0.174 sec)\n",
      "INFO:tensorflow:global_step/sec: 560.322\n",
      "INFO:tensorflow:loss = 0.63281274, step = 2700 (0.179 sec)\n",
      "INFO:tensorflow:global_step/sec: 572.255\n",
      "INFO:tensorflow:loss = 0.6185987, step = 2800 (0.175 sec)\n",
      "INFO:tensorflow:global_step/sec: 567.599\n",
      "INFO:tensorflow:loss = 0.6179314, step = 2900 (0.176 sec)\n",
      "INFO:tensorflow:global_step/sec: 550.724\n",
      "INFO:tensorflow:loss = 0.6122111, step = 3000 (0.181 sec)\n",
      "INFO:tensorflow:global_step/sec: 550.87\n",
      "INFO:tensorflow:loss = 0.61368686, step = 3100 (0.182 sec)\n",
      "INFO:tensorflow:global_step/sec: 546.373\n",
      "INFO:tensorflow:loss = 0.59614825, step = 3200 (0.183 sec)\n",
      "INFO:tensorflow:global_step/sec: 531.437\n",
      "INFO:tensorflow:loss = 0.59015787, step = 3300 (0.188 sec)\n",
      "INFO:tensorflow:global_step/sec: 545.257\n",
      "INFO:tensorflow:loss = 0.5803983, step = 3400 (0.183 sec)\n",
      "INFO:tensorflow:global_step/sec: 568.03\n",
      "INFO:tensorflow:loss = 0.5865871, step = 3500 (0.176 sec)\n",
      "INFO:tensorflow:global_step/sec: 549.532\n",
      "INFO:tensorflow:loss = 0.58161956, step = 3600 (0.182 sec)\n",
      "INFO:tensorflow:global_step/sec: 572.929\n",
      "INFO:tensorflow:loss = 0.56819785, step = 3700 (0.174 sec)\n",
      "INFO:tensorflow:global_step/sec: 557.764\n",
      "INFO:tensorflow:loss = 0.5690036, step = 3800 (0.179 sec)\n",
      "INFO:tensorflow:global_step/sec: 561.265\n",
      "INFO:tensorflow:loss = 0.5544826, step = 3900 (0.178 sec)\n",
      "INFO:tensorflow:global_step/sec: 554.729\n",
      "INFO:tensorflow:loss = 0.55800384, step = 4000 (0.180 sec)\n",
      "INFO:tensorflow:global_step/sec: 562.462\n",
      "INFO:tensorflow:loss = 0.56034446, step = 4100 (0.178 sec)\n",
      "INFO:tensorflow:global_step/sec: 552.596\n",
      "INFO:tensorflow:loss = 0.54193604, step = 4200 (0.181 sec)\n",
      "INFO:tensorflow:global_step/sec: 557.581\n",
      "INFO:tensorflow:loss = 0.53353906, step = 4300 (0.179 sec)\n",
      "INFO:tensorflow:global_step/sec: 560.41\n",
      "INFO:tensorflow:loss = 0.5406689, step = 4400 (0.178 sec)\n",
      "INFO:tensorflow:global_step/sec: 578.057\n",
      "INFO:tensorflow:loss = 0.53601, step = 4500 (0.173 sec)\n",
      "INFO:tensorflow:global_step/sec: 569.026\n",
      "INFO:tensorflow:loss = 0.5311279, step = 4600 (0.176 sec)\n",
      "INFO:tensorflow:global_step/sec: 536.921\n",
      "INFO:tensorflow:loss = 0.52550477, step = 4700 (0.186 sec)\n",
      "INFO:tensorflow:global_step/sec: 543.121\n",
      "INFO:tensorflow:loss = 0.5223035, step = 4800 (0.184 sec)\n",
      "INFO:tensorflow:global_step/sec: 538.673\n",
      "INFO:tensorflow:loss = 0.5197103, step = 4900 (0.186 sec)\n",
      "INFO:tensorflow:Calling checkpoint listeners before saving checkpoint 5000...\n",
      "INFO:tensorflow:Saving checkpoints for 5000 into /var/folders/ny/5y0c96yx5dq08xbnrxxbnhhc0000gp/T/tmp4hvy270h/model.ckpt.\n",
      "INFO:tensorflow:Calling checkpoint listeners after saving checkpoint 5000...\n",
      "INFO:tensorflow:Loss for final step: 0.5005268.\n"
     ]
    },
    {
     "data": {
      "text/plain": [
       "<tensorflow_estimator.python.estimator.canned.dnn.DNNClassifierV2 at 0x7fda80a00850>"
      ]
     },
     "execution_count": 11,
     "metadata": {},
     "output_type": "execute_result"
    }
   ],
   "source": [
    "# train model\n",
    "classifier.train(\n",
    "    input_fn=lambda: input_fn(train, train_y, training=True),\n",
    "    steps=5000\n",
    ")"
   ]
  },
  {
   "cell_type": "code",
   "execution_count": 12,
   "metadata": {},
   "outputs": [
    {
     "name": "stdout",
     "output_type": "stream",
     "text": [
      "INFO:tensorflow:Calling model_fn.\n",
      "WARNING:tensorflow:Layer dnn is casting an input tensor from dtype float64 to the layer's dtype of float32, which is new behavior in TensorFlow 2.  The layer has dtype float32 because its dtype defaults to floatx.\n",
      "\n",
      "If you intended to run this layer in float32, you can safely ignore this warning. If in doubt, this warning is likely only an issue if you are porting a TensorFlow 1.X model to TensorFlow 2.\n",
      "\n",
      "To change all layers to have dtype float64 by default, call `tf.keras.backend.set_floatx('float64')`. To change just this layer, pass dtype='float64' to the layer constructor. If you are the author of this layer, you can disable autocasting by passing autocast=False to the base Layer constructor.\n",
      "\n",
      "INFO:tensorflow:Done calling model_fn.\n",
      "INFO:tensorflow:Starting evaluation at 2021-01-12T14:48:00Z\n",
      "INFO:tensorflow:Graph was finalized.\n",
      "INFO:tensorflow:Restoring parameters from /var/folders/ny/5y0c96yx5dq08xbnrxxbnhhc0000gp/T/tmp4hvy270h/model.ckpt-5000\n",
      "INFO:tensorflow:Running local_init_op.\n",
      "INFO:tensorflow:Done running local_init_op.\n",
      "INFO:tensorflow:Inference Time : 0.24953s\n",
      "INFO:tensorflow:Finished evaluation at 2021-01-12-14:48:00\n",
      "INFO:tensorflow:Saving dict for global step 5000: accuracy = 0.7, average_loss = 0.60094273, global_step = 5000, loss = 0.60094273\n",
      "INFO:tensorflow:Saving 'checkpoint_path' summary for global step 5000: /var/folders/ny/5y0c96yx5dq08xbnrxxbnhhc0000gp/T/tmp4hvy270h/model.ckpt-5000\n",
      "\n",
      "Test set accuracy:  0.700\n",
      "\n"
     ]
    }
   ],
   "source": [
    "# evaluate the trained model\n",
    "eval_result = classifier.evaluate(\n",
    "    input_fn=lambda: input_fn(test, test_y, training=False))\n",
    "print('\\nTest set accuracy: {accuracy: 0.3f}\\n'.format(**eval_result))"
   ]
  },
  {
   "cell_type": "markdown",
   "metadata": {},
   "source": [
    "### Making predictions(inferring) from the trained model"
   ]
  },
  {
   "cell_type": "code",
   "execution_count": 13,
   "metadata": {},
   "outputs": [],
   "source": [
    "expected = ['Setosa', 'Versicolor', 'Virginica']\n",
    "predict_x = {\n",
    "    'SepalLength': [5.1, 5.9, 6.9],\n",
    "    'SepalWidth':  [3.3, 3.0, 3.1],\n",
    "    'PetalLength': [1.7, 4.2, 5.4],\n",
    "    'PetalWidth':  [0.5, 1.5, 2.1],\n",
    "}\n",
    "\n",
    "def input_fn(features, batch_size=256):\n",
    "    return tf.data.Dataset.from_tensor_slices(dict(features)).batch(batch_size)\n",
    "\n",
    "predictions = classifier.predict(\n",
    "    input_fn=lambda: input_fn(predict_x))"
   ]
  },
  {
   "cell_type": "code",
   "execution_count": 14,
   "metadata": {},
   "outputs": [
    {
     "name": "stdout",
     "output_type": "stream",
     "text": [
      "INFO:tensorflow:Calling model_fn.\n",
      "INFO:tensorflow:Done calling model_fn.\n",
      "INFO:tensorflow:Graph was finalized.\n",
      "INFO:tensorflow:Restoring parameters from /var/folders/ny/5y0c96yx5dq08xbnrxxbnhhc0000gp/T/tmp4hvy270h/model.ckpt-5000\n",
      "INFO:tensorflow:Running local_init_op.\n",
      "INFO:tensorflow:Done running local_init_op.\n",
      "Prediction is \"Setosa\" (69.0%), expected \"Setosa\"\n",
      "Prediction is \"Virginica\" (44.0%), expected \"Versicolor\"\n",
      "Prediction is \"Virginica\" (61.8%), expected \"Virginica\"\n"
     ]
    }
   ],
   "source": [
    "for pred_dict, expec in zip(predictions, expected):\n",
    "    class_id = pred_dict['class_ids'][0]\n",
    "    probability = pred_dict['probabilities'][class_id]\n",
    "    \n",
    "    print('Prediction is \"{}\" ({:.1f}%), expected \"{}\"'.format(\n",
    "        SPECIES[class_id], 100 * probability, expec))"
   ]
  },
  {
   "cell_type": "code",
   "execution_count": null,
   "metadata": {},
   "outputs": [],
   "source": []
  }
 ],
 "metadata": {
  "kernelspec": {
   "display_name": "Python 3",
   "language": "python",
   "name": "python3"
  },
  "language_info": {
   "codemirror_mode": {
    "name": "ipython",
    "version": 3
   },
   "file_extension": ".py",
   "mimetype": "text/x-python",
   "name": "python",
   "nbconvert_exporter": "python",
   "pygments_lexer": "ipython3",
   "version": "3.7.7"
  }
 },
 "nbformat": 4,
 "nbformat_minor": 4
}
