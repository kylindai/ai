{
 "cells": [
  {
   "cell_type": "code",
   "execution_count": 1,
   "metadata": {},
   "outputs": [],
   "source": [
    "import numpy as np"
   ]
  },
  {
   "cell_type": "code",
   "execution_count": 7,
   "metadata": {},
   "outputs": [
    {
     "name": "stdout",
     "output_type": "stream",
     "text": [
      "(2,) [0.86265914 0.07055705]\n",
      "(2, 3) [[0.41418177 0.84819412 0.39446697]\n",
      " [0.11157898 0.37116207 0.88790638]]\n",
      "(3,) [0.31705917 0.44045286 0.40781348]\n"
     ]
    }
   ],
   "source": [
    "X = np.random.rand(2)\n",
    "W = np.random.rand(2,3)\n",
    "B = np.random.rand(3)\n",
    "\n",
    "print(X.shape, X)\n",
    "print(W.shape, W)\n",
    "print(B.shape, B)"
   ]
  },
  {
   "cell_type": "code",
   "execution_count": 13,
   "metadata": {},
   "outputs": [
    {
     "name": "stdout",
     "output_type": "stream",
     "text": [
      "0.3651703731826868 0.7578905108433502 0.4029385919475848\n",
      "[0.36517038 0.75789051 0.40293859]\n",
      "[0.68222955 1.19834337 0.81075207]\n"
     ]
    }
   ],
   "source": [
    "# [x1, x2] * [[w11, w12, w13], [w21, w22, w23]] =\n",
    "# x1 * w11 + x2 * w21, x1 * w12 + x2 * w22, x1 * w13 + x2 * w23\n",
    "\n",
    "x1,x2 = 0.86265914,0.07055705\n",
    "w11,w12,w13 = 0.41418177,0.84819412,0.39446697\n",
    "w21,w22,w23 = 0.11157898,0.37116207,0.88790638\n",
    "\n",
    "print(x1*w11+x2*w21, x1*w12+x2*w22, x1*w13+x2*w23)\n",
    "print(np.dot(X, W))\n",
    "\n",
    "Y = np.dot(X, W) + B\n",
    "print(Y)"
   ]
  },
  {
   "cell_type": "markdown",
   "metadata": {},
   "source": [
    "正向传播的式子：<p/>\n",
    "$ X * W + B = Y $ <p/>\n",
    "L 相对 X 的导数为：<p/>\n",
    "$\n",
    "\\dfrac{\\delta L}{\\delta X} = \\dfrac{\\delta L}{\\delta Y} \\times W^{T} \n",
    "$ <p/>\n",
    "L 相对 W 的导数为：<p/>\n",
    "$\n",
    "\\dfrac{\\delta L}{\\delta W} = X^{T} \\times \\dfrac{\\delta L}{\\delta Y}\n",
    "$"
   ]
  },
  {
   "cell_type": "code",
   "execution_count": 15,
   "metadata": {},
   "outputs": [
    {
     "name": "stdout",
     "output_type": "stream",
     "text": [
      "[[1 2 3]\n",
      " [4 5 6]]\n",
      "[5 7 9]\n"
     ]
    }
   ],
   "source": [
    "dY = np.array([[1,2,3],[4,5,6]])\n",
    "print(dY)\n",
    "dB = np.sum(dY, axis=0)\n",
    "print(dB)"
   ]
  },
  {
   "cell_type": "code",
   "execution_count": null,
   "metadata": {},
   "outputs": [],
   "source": [
    "class Affine:\n",
    "    \n",
    "    def __init__(self, W, b):\n",
    "        self.W = W\n",
    "        self.b = b\n",
    "        self.X = None\n",
    "        self.dW = None\n",
    "        self.db = None\n",
    "        \n",
    "    def forward(self, X)\n",
    "        self.X = X\n",
    "        out = np.dot(X, self.W) + self.b\n",
    "        return out\n",
    "    \n",
    "    def backward(self, dout):\n",
    "        # y -> X = dout * self.W.T\n",
    "        dX = np.dot(dout, self.W.T)\n",
    "        # y -> W = self.X.T * dout\n",
    "        self.dW = np.dot(self.X.T, dout)\n",
    "        # y -> b = sum(dout)\n",
    "        self.db = np.sum(dout, axis=0)\n",
    "        return dX"
   ]
  }
 ],
 "metadata": {
  "kernelspec": {
   "display_name": "Python 3",
   "language": "python",
   "name": "python3"
  },
  "language_info": {
   "codemirror_mode": {
    "name": "ipython",
    "version": 3
   },
   "file_extension": ".py",
   "mimetype": "text/x-python",
   "name": "python",
   "nbconvert_exporter": "python",
   "pygments_lexer": "ipython3",
   "version": "3.6.7"
  }
 },
 "nbformat": 4,
 "nbformat_minor": 2
}
