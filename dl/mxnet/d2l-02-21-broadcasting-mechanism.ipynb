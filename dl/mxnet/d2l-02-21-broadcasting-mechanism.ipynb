{
 "cells": [
  {
   "cell_type": "code",
   "execution_count": 1,
   "id": "breeding-flight",
   "metadata": {},
   "outputs": [],
   "source": [
    "import mxnet as mx\n",
    "\n",
    "from mxnet import nd\n",
    "from mxnet import np, npx"
   ]
  },
  {
   "cell_type": "code",
   "execution_count": 3,
   "id": "searching-cisco",
   "metadata": {},
   "outputs": [],
   "source": [
    "# when using tensors, we almost always invoke the set_np()\n",
    "# this is for compatibility of tensor processing by other components of MXNet\n",
    "npx.set_np()"
   ]
  },
  {
   "cell_type": "code",
   "execution_count": 4,
   "id": "accepting-bulgarian",
   "metadata": {},
   "outputs": [
    {
     "data": {
      "text/plain": [
       "(array([[0.],\n",
       "        [1.],\n",
       "        [2.]]),\n",
       " array([[0., 1.]]))"
      ]
     },
     "execution_count": 4,
     "metadata": {},
     "output_type": "execute_result"
    }
   ],
   "source": [
    "# broadcast mechanism\n",
    "a = np.arange(3).reshape(3, 1)\n",
    "b = np.arange(2).reshape(1, 2)\n",
    "a, b"
   ]
  },
  {
   "cell_type": "code",
   "execution_count": 5,
   "id": "heated-boundary",
   "metadata": {},
   "outputs": [
    {
     "data": {
      "text/plain": [
       "array([[0., 1.],\n",
       "       [1., 2.],\n",
       "       [2., 3.]])"
      ]
     },
     "execution_count": 5,
     "metadata": {},
     "output_type": "execute_result"
    }
   ],
   "source": [
    "a + b"
   ]
  },
  {
   "cell_type": "code",
   "execution_count": 6,
   "id": "binding-linux",
   "metadata": {},
   "outputs": [
    {
     "data": {
      "text/plain": [
       "(array([3.5]), 3.5, 3.5, 3)"
      ]
     },
     "execution_count": 6,
     "metadata": {},
     "output_type": "execute_result"
    }
   ],
   "source": [
    "a = np.array([3.5])\n",
    "a, a.item(), float(a), int(a)"
   ]
  },
  {
   "cell_type": "code",
   "execution_count": 9,
   "id": "focused-tracy",
   "metadata": {},
   "outputs": [
    {
     "name": "stdout",
     "output_type": "stream",
     "text": [
      "id(Y) 140364917707904\n",
      "[[1. 2.]\n",
      " [3. 4.]]\n",
      "id(Z) 140364917710208\n",
      "[[0. 0.]\n",
      " [0. 0.]]\n",
      "id(Z) 140364917710208\n",
      "[[2. 3.]\n",
      " [4. 5.]]\n"
     ]
    }
   ],
   "source": [
    "# memory saving\n",
    "Y = np.array([[1, 2], [3, 4]])\n",
    "print('id(Y)', id(Y))\n",
    "print(Y)\n",
    "\n",
    "Z = np.zeros_like(Y)\n",
    "print('id(Z)', id(Z))\n",
    "print(Z)\n",
    "Z[:] = Y + 1\n",
    "print('id(Z)', id(Z))\n",
    "print(Z)"
   ]
  },
  {
   "cell_type": "code",
   "execution_count": null,
   "id": "guilty-orange",
   "metadata": {},
   "outputs": [],
   "source": []
  }
 ],
 "metadata": {
  "kernelspec": {
   "display_name": "Python 3",
   "language": "python",
   "name": "python3"
  },
  "language_info": {
   "codemirror_mode": {
    "name": "ipython",
    "version": 3
   },
   "file_extension": ".py",
   "mimetype": "text/x-python",
   "name": "python",
   "nbconvert_exporter": "python",
   "pygments_lexer": "ipython3",
   "version": "3.8.7"
  }
 },
 "nbformat": 4,
 "nbformat_minor": 5
}
