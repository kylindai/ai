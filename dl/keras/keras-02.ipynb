{
 "cells": [
  {
   "cell_type": "code",
   "execution_count": 2,
   "metadata": {},
   "outputs": [
    {
     "name": "stderr",
     "output_type": "stream",
     "text": [
      "Using TensorFlow backend.\n"
     ]
    }
   ],
   "source": [
    "import numpy as np\n",
    "import random\n",
    "import keras\n",
    "import matplotlib.pyplot as plt\n",
    "%matplotlib inline\n",
    "\n",
    "from keras.datasets import mnist\n",
    "from keras.models import Sequential, Model\n",
    "from keras.layers import Input, Dense, Dropout, Activation\n",
    "from keras.optimizers import RMSprop\n",
    "from keras.utils import np_utils"
   ]
  },
  {
   "cell_type": "code",
   "execution_count": 3,
   "metadata": {},
   "outputs": [
    {
     "name": "stdout",
     "output_type": "stream",
     "text": [
      "(60000, 28, 28) (60000,)\n",
      "(10000, 28, 28) (10000,)\n"
     ]
    }
   ],
   "source": [
    "(X_train, y_train), (X_test, y_test) = mnist.load_data('/temp/keras/mnist.npz')\n",
    "\n",
    "print(X_train.shape, y_train.shape)\n",
    "print(X_test.shape, y_test.shape)"
   ]
  },
  {
   "cell_type": "code",
   "execution_count": 4,
   "metadata": {},
   "outputs": [],
   "source": [
    "X_train = X_train.reshape(X_train.shape[0], -1)\n",
    "X_test = X_test.reshape(X_test.shape[0], -1)\n",
    "\n",
    "X_train = X_train.astype('float32')\n",
    "X_test = X_test.astype('float32')\n",
    "\n",
    "X_train /= 255\n",
    "X_test /= 255\n",
    "\n",
    "y_train = keras.utils.to_categorical(y_train, num_classes=10)\n",
    "y_test = keras.utils.to_categorical(y_test, num_classes=10)"
   ]
  },
  {
   "cell_type": "code",
   "execution_count": 5,
   "metadata": {},
   "outputs": [
    {
     "name": "stdout",
     "output_type": "stream",
     "text": [
      "_________________________________________________________________\n",
      "Layer (type)                 Output Shape              Param #   \n",
      "=================================================================\n",
      "dense_1 (Dense)              (None, 512)               401920    \n",
      "_________________________________________________________________\n",
      "activation_1 (Activation)    (None, 512)               0         \n",
      "_________________________________________________________________\n",
      "dropout_1 (Dropout)          (None, 512)               0         \n",
      "_________________________________________________________________\n",
      "dense_2 (Dense)              (None, 512)               262656    \n",
      "_________________________________________________________________\n",
      "activation_2 (Activation)    (None, 512)               0         \n",
      "_________________________________________________________________\n",
      "dropout_2 (Dropout)          (None, 512)               0         \n",
      "_________________________________________________________________\n",
      "dense_3 (Dense)              (None, 10)                5130      \n",
      "_________________________________________________________________\n",
      "activation_3 (Activation)    (None, 10)                0         \n",
      "=================================================================\n",
      "Total params: 669,706\n",
      "Trainable params: 669,706\n",
      "Non-trainable params: 0\n",
      "_________________________________________________________________\n"
     ]
    }
   ],
   "source": [
    "# build dnn network\n",
    "model = Sequential()\n",
    "\n",
    "# input layer\n",
    "model.add(Dense(512, input_shape=(784,)))\n",
    "model.add(Activation('relu'))\n",
    "model.add(Dropout(0.2))\n",
    "\n",
    "# hidden layer\n",
    "model.add(Dense(512))\n",
    "model.add(Activation('relu'))\n",
    "model.add(Dropout(0.2))\n",
    "\n",
    "# output layer\n",
    "model.add(Dense(10))  \n",
    "model.add(Activation('softmax'))\n",
    "\n",
    "model.summary()"
   ]
  },
  {
   "cell_type": "code",
   "execution_count": 12,
   "metadata": {},
   "outputs": [
    {
     "name": "stdout",
     "output_type": "stream",
     "text": [
      "_________________________________________________________________\n",
      "Layer (type)                 Output Shape              Param #   \n",
      "=================================================================\n",
      "input_1 (InputLayer)         (None, 784)               0         \n",
      "_________________________________________________________________\n",
      "dense_4 (Dense)              (None, 512)               401920    \n",
      "_________________________________________________________________\n",
      "dropout_3 (Dropout)          (None, 512)               0         \n",
      "_________________________________________________________________\n",
      "dense_5 (Dense)              (None, 512)               262656    \n",
      "_________________________________________________________________\n",
      "dropout_4 (Dropout)          (None, 512)               0         \n",
      "_________________________________________________________________\n",
      "dense_6 (Dense)              (None, 10)                5130      \n",
      "=================================================================\n",
      "Total params: 669,706\n",
      "Trainable params: 669,706\n",
      "Non-trainable params: 0\n",
      "_________________________________________________________________\n"
     ]
    }
   ],
   "source": [
    "# build the modle with functional API\n",
    "inputs = Input(shape=(784,))\n",
    "\n",
    "x = Dense(512, activation='relu')(inputs)\n",
    "x = Dropout(0.2)(x)\n",
    "x = Dense(512, activation='relu')(x)\n",
    "x = Dropout(0.2)(x)\n",
    "predictions = Dense(10, activation='softmax')(x)\n",
    "\n",
    "model2 = Model(inputs=inputs, outputs=predictions)\n",
    "model2.summary()"
   ]
  },
  {
   "cell_type": "code",
   "execution_count": 6,
   "metadata": {},
   "outputs": [],
   "source": [
    "rmsprop = RMSprop(lr=0.001, rho=0.9, epsilon=1e-08, decay=0.0)\n",
    "model.compile(loss='categorical_crossentropy',\n",
    "             optimizer=rmsprop,\n",
    "             metrics=['accuracy'])"
   ]
  },
  {
   "cell_type": "code",
   "execution_count": 7,
   "metadata": {},
   "outputs": [
    {
     "name": "stdout",
     "output_type": "stream",
     "text": [
      "Train on 60000 samples, validate on 10000 samples\n",
      "Epoch 1/10\n",
      "60000/60000 [==============================] - 4s 65us/step - loss: 0.2472 - acc: 0.9241 - val_loss: 0.1135 - val_acc: 0.9646\n",
      "Epoch 2/10\n",
      "60000/60000 [==============================] - 3s 57us/step - loss: 0.1044 - acc: 0.9684 - val_loss: 0.0916 - val_acc: 0.9741\n",
      "Epoch 3/10\n",
      "60000/60000 [==============================] - 3s 58us/step - loss: 0.0742 - acc: 0.9776 - val_loss: 0.0825 - val_acc: 0.9755\n",
      "Epoch 4/10\n",
      "60000/60000 [==============================] - 3s 58us/step - loss: 0.0619 - acc: 0.9810 - val_loss: 0.0780 - val_acc: 0.9790\n",
      "Epoch 5/10\n",
      "60000/60000 [==============================] - 3s 58us/step - loss: 0.0508 - acc: 0.9842 - val_loss: 0.0763 - val_acc: 0.9793\n",
      "Epoch 6/10\n",
      "60000/60000 [==============================] - 4s 59us/step - loss: 0.0448 - acc: 0.9869 - val_loss: 0.0812 - val_acc: 0.9805\n",
      "Epoch 7/10\n",
      "60000/60000 [==============================] - 4s 58us/step - loss: 0.0388 - acc: 0.9887 - val_loss: 0.0812 - val_acc: 0.9824\n",
      "Epoch 8/10\n",
      "60000/60000 [==============================] - 3s 58us/step - loss: 0.0349 - acc: 0.9900 - val_loss: 0.0849 - val_acc: 0.9823\n",
      "Epoch 9/10\n",
      "60000/60000 [==============================] - 4s 59us/step - loss: 0.0334 - acc: 0.9903 - val_loss: 0.0849 - val_acc: 0.9826\n",
      "Epoch 10/10\n",
      "60000/60000 [==============================] - 4s 61us/step - loss: 0.0286 - acc: 0.9915 - val_loss: 0.1039 - val_acc: 0.9800\n"
     ]
    }
   ],
   "source": [
    "history = model.fit(X_train, y_train, epochs=10, batch_size=128,\n",
    "                   verbose=1, validation_data=[X_test, y_test])"
   ]
  },
  {
   "cell_type": "code",
   "execution_count": 8,
   "metadata": {},
   "outputs": [
    {
     "data": {
      "text/plain": [
       "{'batch_size': 128,\n",
       " 'epochs': 10,\n",
       " 'steps': None,\n",
       " 'samples': 60000,\n",
       " 'verbose': 1,\n",
       " 'do_validation': True,\n",
       " 'metrics': ['loss', 'acc', 'val_loss', 'val_acc']}"
      ]
     },
     "execution_count": 8,
     "metadata": {},
     "output_type": "execute_result"
    }
   ],
   "source": [
    "history.params"
   ]
  },
  {
   "cell_type": "code",
   "execution_count": 9,
   "metadata": {},
   "outputs": [
    {
     "name": "stdout",
     "output_type": "stream",
     "text": [
      "Test loss: 0.10388158883148313\n",
      "Test accuracy: 0.98\n"
     ]
    }
   ],
   "source": [
    "loss, accuracy = model.evaluate(X_test, y_test, verbose=0)\n",
    "print('Test loss:', loss)\n",
    "print('Test accuracy:', accuracy)"
   ]
  },
  {
   "cell_type": "code",
   "execution_count": 10,
   "metadata": {},
   "outputs": [
    {
     "data": {
      "text/plain": [
       "<matplotlib.image.AxesImage at 0x13eb09b00>"
      ]
     },
     "execution_count": 10,
     "metadata": {},
     "output_type": "execute_result"
    },
    {
     "data": {
      "image/png": "[encoded data removed]",
      "text/plain": [
       "<Figure size 432x288 with 1 Axes>"
      ]
     },
     "metadata": {
      "needs_background": "light"
     },
     "output_type": "display_data"
    }
   ],
   "source": [
    "# for prediction test\n",
    "X_test_0 = X_test[0,:].reshape(1, 784)\n",
    "y_test_0 = y_test[0,:]\n",
    "\n",
    "plt.imshow(X_test_0.reshape([28, 28]))"
   ]
  },
  {
   "cell_type": "code",
   "execution_count": 11,
   "metadata": {},
   "outputs": [
    {
     "name": "stdout",
     "output_type": "stream",
     "text": [
      "[[1.30692202e-20 1.44059195e-17 1.24716372e-13 1.63948629e-11\n",
      "  3.77073245e-25 1.13426744e-17 2.17824332e-30 1.00000000e+00\n",
      "  2.22648587e-19 1.20320691e-14]]\n",
      "Label of testing sample: 7\n",
      "Output of the softmax layer: [1.30692202e-20 1.44059195e-17 1.24716372e-13 1.63948629e-11\n",
      " 3.77073245e-25 1.13426744e-17 2.17824332e-30 1.00000000e+00\n",
      " 2.22648587e-19 1.20320691e-14]\n",
      "Network prediction: 7\n"
     ]
    }
   ],
   "source": [
    "pred = model.predict(X_test_0[:])\n",
    "print(pred)\n",
    "print('Label of testing sample:', np.argmax(y_test_0))\n",
    "print('Output of the softmax layer:', pred[0])\n",
    "print('Network prediction:', np.argmax([pred[0]]))"
   ]
  },
  {
   "cell_type": "code",
   "execution_count": null,
   "metadata": {},
   "outputs": [],
   "source": []
  }
 ],
 "metadata": {
  "kernelspec": {
   "display_name": "Python 3",
   "language": "python",
   "name": "python3"
  },
  "language_info": {
   "codemirror_mode": {
    "name": "ipython",
    "version": 3
   },
   "file_extension": ".py",
   "mimetype": "text/x-python",
   "name": "python",
   "nbconvert_exporter": "python",
   "pygments_lexer": "ipython3",
   "version": "3.6.7"
  }
 },
 "nbformat": 4,
 "nbformat_minor": 2
}
