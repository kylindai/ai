{
 "cells": [
  {
   "cell_type": "code",
   "execution_count": 1,
   "metadata": {},
   "outputs": [
    {
     "name": "stderr",
     "output_type": "stream",
     "text": [
      "Using TensorFlow backend.\n"
     ]
    }
   ],
   "source": [
    "import math\n",
    "import numpy as np\n",
    "import pandas as pd\n",
    "\n",
    "import keras\n",
    "import tensorflow as tf\n",
    "\n",
    "from sklearn.preprocessing import LabelEncoder"
   ]
  },
  {
   "cell_type": "code",
   "execution_count": 2,
   "metadata": {},
   "outputs": [
    {
     "name": "stdout",
     "output_type": "stream",
     "text": [
      "(150929, 11)\n"
     ]
    },
    {
     "data": {
      "text/html": [
       "<div>\n",
       "<style scoped>\n",
       "    .dataframe tbody tr th:only-of-type {\n",
       "        vertical-align: middle;\n",
       "    }\n",
       "\n",
       "    .dataframe tbody tr th {\n",
       "        vertical-align: top;\n",
       "    }\n",
       "\n",
       "    .dataframe thead th {\n",
       "        text-align: right;\n",
       "    }\n",
       "</style>\n",
       "<table border=\"1\" class=\"dataframe\">\n",
       "  <thead>\n",
       "    <tr style=\"text-align: right;\">\n",
       "      <th></th>\n",
       "      <th>Unnamed: 0</th>\n",
       "      <th>country</th>\n",
       "      <th>description</th>\n",
       "      <th>designation</th>\n",
       "      <th>points</th>\n",
       "      <th>price</th>\n",
       "      <th>province</th>\n",
       "      <th>region_1</th>\n",
       "      <th>region_2</th>\n",
       "      <th>variety</th>\n",
       "      <th>winery</th>\n",
       "    </tr>\n",
       "  </thead>\n",
       "  <tbody>\n",
       "    <tr>\n",
       "      <th>138501</th>\n",
       "      <td>138501</td>\n",
       "      <td>Australia</td>\n",
       "      <td>Wide, smooth and dark on the palate, this blen...</td>\n",
       "      <td>Terra Rossa First Growth</td>\n",
       "      <td>90</td>\n",
       "      <td>70.0</td>\n",
       "      <td>South Australia</td>\n",
       "      <td>Coonawarra</td>\n",
       "      <td>NaN</td>\n",
       "      <td>Cabernet Sauvignon-Merlot</td>\n",
       "      <td>Parker</td>\n",
       "    </tr>\n",
       "    <tr>\n",
       "      <th>10427</th>\n",
       "      <td>10427</td>\n",
       "      <td>US</td>\n",
       "      <td>From a vineyard above Santa Paula, this bottli...</td>\n",
       "      <td>South Mountain Vineyard</td>\n",
       "      <td>88</td>\n",
       "      <td>24.0</td>\n",
       "      <td>California</td>\n",
       "      <td>Ventura County</td>\n",
       "      <td>Central Coast</td>\n",
       "      <td>Petit Verdot</td>\n",
       "      <td>Clos des Amis</td>\n",
       "    </tr>\n",
       "    <tr>\n",
       "      <th>29897</th>\n",
       "      <td>29897</td>\n",
       "      <td>Italy</td>\n",
       "      <td>This offers aromas of violet, rose, Marasca ch...</td>\n",
       "      <td>Bergeisa</td>\n",
       "      <td>90</td>\n",
       "      <td>NaN</td>\n",
       "      <td>Piedmont</td>\n",
       "      <td>Barolo</td>\n",
       "      <td>NaN</td>\n",
       "      <td>Nebbiolo</td>\n",
       "      <td>Le Strette</td>\n",
       "    </tr>\n",
       "    <tr>\n",
       "      <th>566</th>\n",
       "      <td>566</td>\n",
       "      <td>US</td>\n",
       "      <td>This full-bodied wine combines deep, ripe frui...</td>\n",
       "      <td>Made with Organically Grown Grapes</td>\n",
       "      <td>90</td>\n",
       "      <td>22.0</td>\n",
       "      <td>California</td>\n",
       "      <td>Sierra Foothills</td>\n",
       "      <td>Sierra Foothills</td>\n",
       "      <td>Merlot</td>\n",
       "      <td>Chacewater</td>\n",
       "    </tr>\n",
       "    <tr>\n",
       "      <th>29089</th>\n",
       "      <td>29089</td>\n",
       "      <td>US</td>\n",
       "      <td>This full and heady wine offers marshmallow oa...</td>\n",
       "      <td>NaN</td>\n",
       "      <td>88</td>\n",
       "      <td>36.0</td>\n",
       "      <td>California</td>\n",
       "      <td>Russian River Valley</td>\n",
       "      <td>Sonoma</td>\n",
       "      <td>Chardonnay</td>\n",
       "      <td>Ledson</td>\n",
       "    </tr>\n",
       "  </tbody>\n",
       "</table>\n",
       "</div>"
      ],
      "text/plain": [
       "        Unnamed: 0    country  \\\n",
       "138501      138501  Australia   \n",
       "10427        10427         US   \n",
       "29897        29897      Italy   \n",
       "566            566         US   \n",
       "29089        29089         US   \n",
       "\n",
       "                                              description  \\\n",
       "138501  Wide, smooth and dark on the palate, this blen...   \n",
       "10427   From a vineyard above Santa Paula, this bottli...   \n",
       "29897   This offers aromas of violet, rose, Marasca ch...   \n",
       "566     This full-bodied wine combines deep, ripe frui...   \n",
       "29089   This full and heady wine offers marshmallow oa...   \n",
       "\n",
       "                               designation  points  price         province  \\\n",
       "138501            Terra Rossa First Growth      90   70.0  South Australia   \n",
       "10427              South Mountain Vineyard      88   24.0       California   \n",
       "29897                             Bergeisa      90    NaN         Piedmont   \n",
       "566     Made with Organically Grown Grapes      90   22.0       California   \n",
       "29089                                  NaN      88   36.0       California   \n",
       "\n",
       "                    region_1          region_2                    variety  \\\n",
       "138501            Coonawarra               NaN  Cabernet Sauvignon-Merlot   \n",
       "10427         Ventura County     Central Coast               Petit Verdot   \n",
       "29897                 Barolo               NaN                   Nebbiolo   \n",
       "566         Sierra Foothills  Sierra Foothills                     Merlot   \n",
       "29089   Russian River Valley            Sonoma                 Chardonnay   \n",
       "\n",
       "               winery  \n",
       "138501         Parker  \n",
       "10427   Clos des Amis  \n",
       "29897      Le Strette  \n",
       "566        Chacewater  \n",
       "29089          Ledson  "
      ]
     },
     "execution_count": 2,
     "metadata": {},
     "output_type": "execute_result"
    }
   ],
   "source": [
    "data = pd.read_csv('../../data/wine_data.csv')\n",
    "print(data.shape)\n",
    "\n",
    "# shuffle the data\n",
    "data = data.sample(frac=1)\n",
    "\n",
    "data.head()"
   ]
  },
  {
   "cell_type": "code",
   "execution_count": 3,
   "metadata": {},
   "outputs": [
    {
     "name": "stdout",
     "output_type": "stream",
     "text": [
      "(137229, 10)\n"
     ]
    }
   ],
   "source": [
    "# do some preprocessing \n",
    "data = data[pd.notnull(data['country'])]\n",
    "data = data[pd.notnull(data['price'])]\n",
    "\n",
    "# drop the first column\n",
    "data = data.drop(data.columns[0], axis=1)\n",
    "print(data.shape)\n"
   ]
  },
  {
   "cell_type": "code",
   "execution_count": 4,
   "metadata": {},
   "outputs": [
    {
     "name": "stdout",
     "output_type": "stream",
     "text": [
      "Chardonnay                       13775\n",
      "Pinot Noir                       13625\n",
      "Cabernet Sauvignon               12671\n",
      "Red Blend                         9377\n",
      "Sauvignon Blanc                   6054\n",
      "Syrah                             5667\n",
      "Riesling                          5212\n",
      "Merlot                            4987\n",
      "Bordeaux-style Red Blend          4545\n",
      "Zinfandel                         3794\n",
      "Malbec                            3085\n",
      "Sangiovese                        2879\n",
      "White Blend                       2554\n",
      "Tempranillo                       2525\n",
      "Rosé                              2461\n",
      "Shiraz                            1945\n",
      "Sparkling Blend                   1820\n",
      "Portuguese Red                    1812\n",
      "Nebbiolo                          1529\n",
      "Rhône-style Red Blend             1455\n",
      "Cabernet Franc                    1310\n",
      "Corvina, Rondinella, Molinara     1292\n",
      "Pinot Gris                        1275\n",
      "Pinot Grigio                      1270\n",
      "Viognier                          1254\n",
      "Champagne Blend                   1003\n",
      "Barbera                            967\n",
      "Sangiovese Grosso                  938\n",
      "Petite Sirah                       897\n",
      "Gewürztraminer                     891\n",
      "                                 ...  \n",
      "Listán Negro                         1\n",
      "Catalanesca                          1\n",
      "Grenache Gris                        1\n",
      "Cabernet Pfeffer                     1\n",
      "Malbec-Petit Verdot                  1\n",
      "Syrah-Malbec                         1\n",
      "Baga-Touriga Nacional                1\n",
      "Altesse                              1\n",
      "Grolleau                             1\n",
      "Albarossa                            1\n",
      "Sercial                              1\n",
      "Freisa                               1\n",
      "Caprettone                           1\n",
      "Tinta Francisca                      1\n",
      "Jacquez                              1\n",
      "Vidadillo                            1\n",
      "Chardonelle                          1\n",
      "Macabeo-Gewürztraminer               1\n",
      "Malvoisie                            1\n",
      "Chardonnay-Pinot Gris                1\n",
      "White Port                           1\n",
      "Ansonica                             1\n",
      "Parraleta                            1\n",
      "Chardonnay-Pinot Grigio              1\n",
      "Moristel                             1\n",
      "Romorantin                           1\n",
      "Groppello                            1\n",
      "Huxelrebe                            1\n",
      "Moscatel Graúdo                      1\n",
      "Chardonel                            1\n",
      "Name: variety, Length: 619, dtype: int64\n",
      "Index(['Glera', 'Pinot Blanc', 'Rhône-style White Blend', 'Garnacha',\n",
      "       'Moscato', 'Nero d'Avola', 'Torrontés', 'Dolcetto', 'Meritage',\n",
      "       'Verdejo',\n",
      "       ...\n",
      "       'White Port', 'Ansonica', 'Parraleta', 'Chardonnay-Pinot Grigio',\n",
      "       'Moristel', 'Romorantin', 'Groppello', 'Huxelrebe', 'Moscatel Graúdo',\n",
      "       'Chardonel'],\n",
      "      dtype='object', length=579)\n",
      "(119558, 10)\n"
     ]
    }
   ],
   "source": [
    "# anything that occurs less than this will be removed\n",
    "variety_threshold = 500\n",
    "value_counts = data['variety'].value_counts()\n",
    "print(value_counts)\n",
    "\n",
    "# get variety index that need to be removed \n",
    "to_remove = value_counts[value_counts <= variety_threshold].index\n",
    "print(to_remove)\n",
    "\n",
    "# replace data with np.nan when variety equals the index\n",
    "data.replace(to_remove, np.nan, inplace=True)\n",
    "data = data[pd.notnull(data['variety'])]\n",
    "print(data.shape)"
   ]
  },
  {
   "cell_type": "code",
   "execution_count": 5,
   "metadata": {},
   "outputs": [
    {
     "name": "stdout",
     "output_type": "stream",
     "text": [
      "Train size: 95646\n",
      "Test size: 23912\n"
     ]
    }
   ],
   "source": [
    "# split data into train and test dataset\n",
    "train_size = int(len(data) * .8)\n",
    "print(\"Train size: %d\" % train_size)\n",
    "print(\"Test size: %d\" % (len(data) - train_size))"
   ]
  },
  {
   "cell_type": "code",
   "execution_count": 6,
   "metadata": {},
   "outputs": [],
   "source": [
    "# train features\n",
    "description_train = data['description'][:train_size]\n",
    "variety_train = data['variety'][:train_size]\n",
    "\n",
    "# train labels\n",
    "labels_train = data['price'][:train_size]\n",
    "\n",
    "# test features\n",
    "description_test = data['description'][train_size:]\n",
    "variety_test = data['variety'][train_size:]\n",
    "\n",
    "# test labels\n",
    "labels_test = data['price'][train_size:]"
   ]
  },
  {
   "cell_type": "code",
   "execution_count": 7,
   "metadata": {},
   "outputs": [],
   "source": [
    "# create a tokenizer to preprocess our text descriptions\n",
    "\n",
    "# this is a hyperparameter\n",
    "vocab_size = 12000\n",
    "tokenize = keras.preprocessing.text.Tokenizer(num_words=vocab_size, char_level=False)\n",
    "\n",
    "# on fit on train\n",
    "tokenize.fit_on_texts(description_train) "
   ]
  },
  {
   "cell_type": "code",
   "execution_count": 8,
   "metadata": {},
   "outputs": [
    {
     "name": "stdout",
     "output_type": "stream",
     "text": [
      "566       This full-bodied wine combines deep, ripe frui...\n",
      "29089     This full and heady wine offers marshmallow oa...\n",
      "122758    The nose delivers a mix of herbal berry, cola ...\n",
      "144620    The most depth and weight of the lineup; black...\n",
      "129541    Very concentrated and closed up, like a coil. ...\n",
      "Name: description, dtype: object\n",
      "[[0. 1. 1. ... 0. 0. 0.]\n",
      " [0. 1. 1. ... 0. 0. 0.]\n",
      " [0. 1. 1. ... 0. 0. 0.]\n",
      " ...\n",
      " [0. 1. 1. ... 0. 0. 0.]\n",
      " [0. 1. 0. ... 0. 0. 0.]\n",
      " [0. 1. 1. ... 0. 0. 0.]]\n",
      "(95646, 12000)\n"
     ]
    }
   ],
   "source": [
    "# wide feature 1: sparse bag of words (bow) vocab_size vector\n",
    "description_bow_train = tokenize.texts_to_matrix(description_train)\n",
    "description_bow_test = tokenize.texts_to_matrix(description_test)\n",
    "\n",
    "print(description_train.head())\n",
    "print(description_bow_train)\n",
    "print(description_bow_train.shape)"
   ]
  },
  {
   "cell_type": "code",
   "execution_count": 9,
   "metadata": {},
   "outputs": [
    {
     "name": "stdout",
     "output_type": "stream",
     "text": [
      "566                         Merlot\n",
      "29089                   Chardonnay\n",
      "122758                   Red Blend\n",
      "144620                  Pinot Noir\n",
      "129541                  Chardonnay\n",
      "49091                     Riesling\n",
      "38138                         Rosé\n",
      "118798    Bordeaux-style Red Blend\n",
      "36060                    Red Blend\n",
      "100491                   Carmenère\n",
      "43098                       Malbec\n",
      "128299                 White Blend\n",
      "121720                   Zinfandel\n",
      "139564                    Viognier\n",
      "120306                      Merlot\n",
      "18794     Bordeaux-style Red Blend\n",
      "82820                   Pinot Noir\n",
      "119777          Cabernet Sauvignon\n",
      "150030          Cabernet Sauvignon\n",
      "42109           Cabernet Sauvignon\n",
      "93304                   Pinot Noir\n",
      "6783                    Sangiovese\n",
      "5216            Cabernet Sauvignon\n",
      "74338              Sauvignon Blanc\n",
      "20464               Portuguese Red\n",
      "135583          Cabernet Sauvignon\n",
      "9434               Sparkling Blend\n",
      "11954                   Chardonnay\n",
      "124380                      Merlot\n",
      "125378             Sauvignon Blanc\n",
      "                    ...           \n",
      "3716      Bordeaux-style Red Blend\n",
      "8303                         Syrah\n",
      "24275                       Malbec\n",
      "47683                   Pinot Noir\n",
      "113270             Sauvignon Blanc\n",
      "65226                    Red Blend\n",
      "149037                      Malbec\n",
      "89740           Cabernet Sauvignon\n",
      "79375              Sparkling Blend\n",
      "95878                  Tempranillo\n",
      "136145                   Red Blend\n",
      "31878                   Chardonnay\n",
      "126124             Sauvignon Blanc\n",
      "72611           Cabernet Sauvignon\n",
      "138687             Sauvignon Blanc\n",
      "40986                    Red Blend\n",
      "53446              Sparkling Blend\n",
      "6354                Portuguese Red\n",
      "10166                       Malbec\n",
      "104259          Cabernet Sauvignon\n",
      "45215                       Shiraz\n",
      "89527             Grüner Veltliner\n",
      "70481               Cabernet Franc\n",
      "71848           Cabernet Sauvignon\n",
      "70761              Sauvignon Blanc\n",
      "75111                    Red Blend\n",
      "50786                 Chenin Blanc\n",
      "15196                        Syrah\n",
      "147221             Sauvignon Blanc\n",
      "5907                    Pinot Gris\n",
      "Name: variety, Length: 95646, dtype: object\n",
      "[15  8 25 ... 34 31 19]\n",
      "40\n",
      "[[0. 0. 0. ... 0. 0. 0.]\n",
      " [0. 0. 0. ... 0. 0. 0.]\n",
      " [0. 0. 0. ... 0. 0. 0.]\n",
      " ...\n",
      " [0. 0. 0. ... 0. 0. 0.]\n",
      " [0. 0. 0. ... 0. 0. 0.]\n",
      " [0. 0. 0. ... 0. 0. 0.]]\n"
     ]
    }
   ],
   "source": [
    "# wide feature 2: one-hot vector of variety categories\n",
    "print(variety_train)\n",
    "\n",
    "encoder = LabelEncoder()\n",
    "encoder.fit(variety_train)\n",
    "\n",
    "variety_train = encoder.transform(variety_train)\n",
    "variety_test = encoder.transform(variety_test)\n",
    "\n",
    "num_classes = np.max(variety_train) + 1\n",
    "print(variety_train)\n",
    "print(num_classes)\n",
    "\n",
    "# convert labels to one-hot\n",
    "variety_train = keras.utils.to_categorical(variety_train, num_classes)\n",
    "variety_test = keras.utils.to_categorical(variety_test, num_classes)\n",
    "print(variety_train)\n"
   ]
  },
  {
   "cell_type": "code",
   "execution_count": 10,
   "metadata": {},
   "outputs": [
    {
     "name": "stdout",
     "output_type": "stream",
     "text": [
      "__________________________________________________________________________________________________\n",
      "Layer (type)                    Output Shape         Param #     Connected to                     \n",
      "==================================================================================================\n",
      "input_1 (InputLayer)            (None, 12000)        0                                            \n",
      "__________________________________________________________________________________________________\n",
      "input_2 (InputLayer)            (None, 40)           0                                            \n",
      "__________________________________________________________________________________________________\n",
      "concatenate_1 (Concatenate)     (None, 12040)        0           input_1[0][0]                    \n",
      "                                                                 input_2[0][0]                    \n",
      "__________________________________________________________________________________________________\n",
      "dense_1 (Dense)                 (None, 256)          3082496     concatenate_1[0][0]              \n",
      "__________________________________________________________________________________________________\n",
      "dense_2 (Dense)                 (None, 1)            257         dense_1[0][0]                    \n",
      "==================================================================================================\n",
      "Total params: 3,082,753\n",
      "Trainable params: 3,082,753\n",
      "Non-trainable params: 0\n",
      "__________________________________________________________________________________________________\n",
      "None\n"
     ]
    }
   ],
   "source": [
    "# define the wide model with the functinoal API\n",
    "layers = keras.layers\n",
    "\n",
    "bow_inputs = layers.Input(shape=(vocab_size,))\n",
    "variety_inputs = layers.Input(shape=(num_classes,))\n",
    "merged_layer = layers.concatenate([bow_inputs, variety_inputs])\n",
    "merged_layer = layers.Dense(256, activation='relu')(merged_layer)\n",
    "predictions = layers.Dense(1)(merged_layer)\n",
    "\n",
    "wide_model = keras.Model(inputs=[bow_inputs, variety_inputs], \n",
    "                         outputs=predictions)\n",
    "\n",
    "wide_model.compile(loss='mse', optimizer='adam', metrics=['accuracy'])\n",
    "print(wide_model.summary())"
   ]
  },
  {
   "cell_type": "code",
   "execution_count": 11,
   "metadata": {},
   "outputs": [
    {
     "name": "stdout",
     "output_type": "stream",
     "text": [
      "[6, 54, 82, 9, 1138, 250, 30, 13, 8, 74, 93, 388, 1, 3, 49, 102, 123, 16, 5058, 22, 3, 690, 4, 3, 346, 1508, 887, 3778, 2, 9, 1919, 2, 4, 5365, 107, 116, 4, 2, 267, 1, 347, 12, 5, 13, 313, 308, 121, 1165, 33, 32, 80, 901]\n"
     ]
    }
   ],
   "source": [
    "# deep model features: word enbedding of wine descriptions\n",
    "train_embed = tokenize.texts_to_sequences(description_train)\n",
    "test_embed = tokenize.texts_to_sequences(description_test)\n",
    "print(train_embed[0])"
   ]
  },
  {
   "cell_type": "code",
   "execution_count": 12,
   "metadata": {},
   "outputs": [],
   "source": [
    "max_seq_length = 170\n",
    "train_embed = keras.preprocessing.sequence.pad_sequences(\n",
    "    train_embed, maxlen=max_seq_length, padding='post')\n",
    "test_embed = keras.preprocessing.sequence.pad_sequences(\n",
    "    test_embed, maxlen=max_seq_length, padding='post')"
   ]
  },
  {
   "cell_type": "code",
   "execution_count": 13,
   "metadata": {},
   "outputs": [
    {
     "name": "stdout",
     "output_type": "stream",
     "text": [
      "_________________________________________________________________\n",
      "Layer (type)                 Output Shape              Param #   \n",
      "=================================================================\n",
      "input_3 (InputLayer)         (None, 170)               0         \n",
      "_________________________________________________________________\n",
      "embedding_1 (Embedding)      (None, 170, 8)            96000     \n",
      "_________________________________________________________________\n",
      "flatten_1 (Flatten)          (None, 1360)              0         \n",
      "_________________________________________________________________\n",
      "dense_3 (Dense)              (None, 1)                 1361      \n",
      "=================================================================\n",
      "Total params: 97,361\n",
      "Trainable params: 97,361\n",
      "Non-trainable params: 0\n",
      "_________________________________________________________________\n",
      "None\n"
     ]
    }
   ],
   "source": [
    "# define the deep model with the functional API\n",
    "deep_inputs = layers.Input(shape=(max_seq_length,))\n",
    "embedding = layers.Embedding(vocab_size, 8, input_length=max_seq_length)(deep_inputs)\n",
    "embedding = layers.Flatten()(embedding)\n",
    "embed_out = layers.Dense(1)(embedding)\n",
    "\n",
    "deep_model = keras.Model(inputs=deep_inputs, outputs=embed_out)\n",
    "print(deep_model.summary())"
   ]
  },
  {
   "cell_type": "code",
   "execution_count": 14,
   "metadata": {},
   "outputs": [],
   "source": [
    "deep_model.compile(loss='mse',\n",
    "                  optimizer='adam',\n",
    "                  metrics=['accuracy'])"
   ]
  },
  {
   "cell_type": "code",
   "execution_count": 15,
   "metadata": {},
   "outputs": [
    {
     "name": "stdout",
     "output_type": "stream",
     "text": [
      "__________________________________________________________________________________________________\n",
      "Layer (type)                    Output Shape         Param #     Connected to                     \n",
      "==================================================================================================\n",
      "input_1 (InputLayer)            (None, 12000)        0                                            \n",
      "__________________________________________________________________________________________________\n",
      "input_2 (InputLayer)            (None, 40)           0                                            \n",
      "__________________________________________________________________________________________________\n",
      "input_3 (InputLayer)            (None, 170)          0                                            \n",
      "__________________________________________________________________________________________________\n",
      "concatenate_1 (Concatenate)     (None, 12040)        0           input_1[0][0]                    \n",
      "                                                                 input_2[0][0]                    \n",
      "__________________________________________________________________________________________________\n",
      "embedding_1 (Embedding)         (None, 170, 8)       96000       input_3[0][0]                    \n",
      "__________________________________________________________________________________________________\n",
      "dense_1 (Dense)                 (None, 256)          3082496     concatenate_1[0][0]              \n",
      "__________________________________________________________________________________________________\n",
      "flatten_1 (Flatten)             (None, 1360)         0           embedding_1[0][0]                \n",
      "__________________________________________________________________________________________________\n",
      "dense_2 (Dense)                 (None, 1)            257         dense_1[0][0]                    \n",
      "__________________________________________________________________________________________________\n",
      "dense_3 (Dense)                 (None, 1)            1361        flatten_1[0][0]                  \n",
      "__________________________________________________________________________________________________\n",
      "concatenate_2 (Concatenate)     (None, 2)            0           dense_2[0][0]                    \n",
      "                                                                 dense_3[0][0]                    \n",
      "__________________________________________________________________________________________________\n",
      "dense_4 (Dense)                 (None, 1)            3           concatenate_2[0][0]              \n",
      "==================================================================================================\n",
      "Total params: 3,180,117\n",
      "Trainable params: 3,180,117\n",
      "Non-trainable params: 0\n",
      "__________________________________________________________________________________________________\n",
      "None\n"
     ]
    }
   ],
   "source": [
    "# combine wide and deep into one model\n",
    "merged_out = layers.concatenate([wide_model.output, deep_model.output])\n",
    "merged_out = layers.Dense(1)(merged_out)\n",
    "\n",
    "combined_model = keras.Model(wide_model.input + [deep_model.input], merged_out)\n",
    "print(combined_model.summary())\n",
    "\n",
    "combined_model.compile(loss='mse',\n",
    "                      optimizer='adam',\n",
    "                      metrics=['accuracy'])"
   ]
  },
  {
   "cell_type": "code",
   "execution_count": 16,
   "metadata": {},
   "outputs": [
    {
     "name": "stdout",
     "output_type": "stream",
     "text": [
      "Epoch 1/10\n",
      "95646/95646 [==============================] - 38s 393us/step - loss: 1179.5658 - acc: 0.0263\n",
      "Epoch 2/10\n",
      "95646/95646 [==============================] - 37s 390us/step - loss: 924.5369 - acc: 0.0378\n",
      "Epoch 3/10\n",
      "95646/95646 [==============================] - 34s 353us/step - loss: 804.8553 - acc: 0.0403\n",
      "Epoch 4/10\n",
      "95646/95646 [==============================] - 34s 352us/step - loss: 695.8181 - acc: 0.0432\n",
      "Epoch 5/10\n",
      "95646/95646 [==============================] - 33s 345us/step - loss: 588.9723 - acc: 0.0487\n",
      "Epoch 6/10\n",
      "95646/95646 [==============================] - 35s 362us/step - loss: 483.9209 - acc: 0.0552\n",
      "Epoch 7/10\n",
      "95646/95646 [==============================] - 33s 349us/step - loss: 385.5596 - acc: 0.0626\n",
      "Epoch 8/10\n",
      "95646/95646 [==============================] - 34s 356us/step - loss: 299.0808 - acc: 0.0730\n",
      "Epoch 9/10\n",
      "95646/95646 [==============================] - 34s 354us/step - loss: 232.6418 - acc: 0.0823\n",
      "Epoch 10/10\n",
      "95646/95646 [==============================] - 33s 341us/step - loss: 180.2722 - acc: 0.0919\n"
     ]
    },
    {
     "data": {
      "text/plain": [
       "<keras.callbacks.History at 0x136b10860>"
      ]
     },
     "execution_count": 16,
     "metadata": {},
     "output_type": "execute_result"
    }
   ],
   "source": [
    "# run training\n",
    "combined_model.fit([description_bow_train, variety_train] + [train_embed],\n",
    "                  labels_train, epochs=10, batch_size=128)"
   ]
  },
  {
   "cell_type": "code",
   "execution_count": 17,
   "metadata": {},
   "outputs": [
    {
     "name": "stdout",
     "output_type": "stream",
     "text": [
      "23912/23912 [==============================] - 5s 213us/step\n"
     ]
    },
    {
     "data": {
      "text/plain": [
       "[539.6331252311536, 0.0674138507924478]"
      ]
     },
     "execution_count": 17,
     "metadata": {},
     "output_type": "execute_result"
    }
   ],
   "source": [
    "combined_model.evaluate([description_bow_test, variety_test] + [test_embed],\n",
    "                       labels_test, batch_size=128)"
   ]
  },
  {
   "cell_type": "code",
   "execution_count": 18,
   "metadata": {},
   "outputs": [
    {
     "name": "stdout",
     "output_type": "stream",
     "text": [
      "[[45.651146 ]\n",
      " [15.525355 ]\n",
      " [49.130028 ]\n",
      " ...\n",
      " [34.249504 ]\n",
      " [19.732634 ]\n",
      " [ 4.6762514]]\n"
     ]
    }
   ],
   "source": [
    "# generate predictions\n",
    "predictions = combined_model.predict([description_bow_test, variety_test] + [test_embed])\n",
    "print(predictions)"
   ]
  },
  {
   "cell_type": "code",
   "execution_count": 19,
   "metadata": {},
   "outputs": [
    {
     "name": "stdout",
     "output_type": "stream",
     "text": [
      "A timid wine, with cheese, strawberry and lime scents followed by a crisp palate of nectarines, petroleum and white flowers. The medium, peachy finish is slightly off-dry. Drink now or hold several years for more aromatic development.\n",
      "Predicted:  45.651146 Actual:  45.0 \n",
      "\n",
      "Opens sweet and borderline syrupy, but also dark, earthy and candied, with nothing offensive or too herbal. The palate is jammy and rich, with soft tannins, saturation, black-fruit flavors, chocolate and herbal flavors. Finishes sweet and sticky, with coffee and some mint. Very nice wine but also so ripe that the varietal character is vague.\n",
      "Predicted:  15.525355 Actual:  24.0 \n",
      "\n",
      "A blend of grapes including traditional Corvina and Rondinella undergoes air-drying for extra-rich concentration and intensity. That, with careful oak aging, has shaped a richly textured, dense wine that would pair with game meat or bean soup with smoked bacon. It shows raw, slightly chewy tannins on the close.\n",
      "Predicted:  49.130028 Actual:  20.0 \n",
      "\n",
      "A full, rounded wine, this vineyard designate exudes a richness of juicy black cherry with savory pepper and meat aromas. The robust tannic structure contributes additional girth and depth, accentuating the darker, more brooding elements of the whole.\n",
      "Predicted:  29.64073 Actual:  27.0 \n",
      "\n",
      "An apple aroma comes with a tinge of mild oak, turning fleshy and less fresh with airing. The palate includes flavors of melon, apple and green herb, while the finish is pithy and citrusy, revealing a touch of green onion.\n",
      "Predicted:  10.341762 Actual:  15.0 \n",
      "\n",
      "This shows beautifully elegant aromas of spice, black pepper, crushed granite, dried spice and fresh forest berry. There is are recognizable notes of jammy red fruit and marmalade, but the bouquet remains tightly pulled together and balanced nonetheless. It imparts a crisp, clean sensation on the palate, with a long, polished finish.\n",
      "Predicted:  44.667133 Actual:  61.0 \n",
      "\n",
      "This concentrated wine leads with citrus and stone fruits, and a lightly peppery mouthfeel. Leesy and creamy and textural, it's generously loaded with flavors of lime and grapefruit, stone and fresh herb. This is a subtle and very refreshing Viognier.\n",
      "Predicted:  26.817982 Actual:  28.0 \n",
      "\n",
      "Erick de Sousa chose the name Caudalies, because it is a measure of how long the taste of a wine stays in the mouth, measured in seconds. This wine certainly lasts for many caudalies in the mouth. Packed with deep ripe-fruit flavors, powerful but also elegant, this is so rich, it almost has a tropical character.\n",
      "Predicted:  261.0909 Actual:  70.0 \n",
      "\n",
      "Earthquake wines often hit you quite deliberately over the head with oak and tannin, but this is nicely done. It's big and very fruity, with cranberry and cassis notes intermingled with a blackberry flavor. Smooth throughout, the wine finishes with a delicious hit of toffee and vanilla.\n",
      "Predicted:  44.90302 Actual:  26.0 \n",
      "\n",
      "A faint coppery-pink rosé, Taltarni's 2008 Taché is a blend of 58% Chardonnay, 37% Pinot Noir and 5% Pinot Meunier. It's lean and crisp, with a zesty, citrusy feel to the modest toast and mushroom flavors.\n",
      "Predicted:  25.109663 Actual:  25.0 \n",
      "\n",
      "Ripe and expressive, with a gentle, velvety mouthfeel, this is marked by some firm, dry tannins that suggest moderate aging. There's some good spicy cherry and blackberry flavor, along with the sweet vanilla and cedar from considerable new oak.\n",
      "Predicted:  53.929363 Actual:  80.0 \n",
      "\n",
      "Light and crisp, it offers layers of lemon chiffon and spicy pear. The at-first luxurious mouthfeel evolves smoothly into crisper, citrus-wrapped acidity. This is a sippable, ideal summer wine.\n",
      "Predicted:  21.038197 Actual:  20.0 \n",
      "\n",
      "Since he created his company in 1981, Bruno Paillard has become an important force in Champagne, owning a number of other brands. But his top wines are made under his own name; they go for finesse and elegance. This bottling also has a touch of mature, toasty acid flavors. The bottles carry the year of disgorgement—an excellent idea. Imported by Vintus LLC.\n",
      "Predicted:  166.56581 Actual:  44.0 \n",
      "\n",
      "Lightly floral on the nose, this medium-bodied Riesling (12.5% alcohol) picks up notes of fresh greens and apples on the palate alongside plenty of bright citrus flavors. Despite over 6g/L residual sugar, crisp acidity keeps the finish fresh. Imported by Via Pacifica Imports.\n",
      "Predicted:  13.087544 Actual:  17.0 \n",
      "\n",
      "Light in color, this rejoices in its perfumed character as much as its fruit. There is a heady smoky aroma, while the palate shows a leaner character. The fruit flavors of red berries are given an extra dimension by the smoky wood and the meaty edge.\n",
      "Predicted:  52.024086 Actual:  90.0 \n",
      "\n",
      "Drink with everyday fare. Dry and tannic, with earthy, blackberry and coffee   flavors.\n",
      "Predicted:  15.553264 Actual:  15.0 \n",
      "\n",
      "Intensely ripe aromas of blackberries and cherries are touched with granite and bramble wood on this plush, somewhat sultry Merlot. The palate balances ripeness with crisp sour-cherry acidity and swathes of fresh, green herbs. Medium-bodied in style, it wraps up tightly with a coating of chalky, soft tannins.\n",
      "Predicted:  22.071434 Actual:  20.0 \n",
      "\n",
      "Made solidly in the Californian style, a ripe, soft, direct wine that attempts to seduce the palate with big fruit and oak and a velvety smooth mouthfeel. The blackberry jam, cherry cola and toasty flavors are tasty. Drink now.\n",
      "Predicted:  38.51692 Actual:  40.0 \n",
      "\n",
      "Starts off well, featuring scents of green apples and honey. But the flavors are simple and it's a bit on the weighty side, with ample (12%) alcohol and some residual sugar as well.\n",
      "Predicted:  17.885317 Actual:  13.0 \n",
      "\n",
      "Still in the flush of youth, this creamy-textured vintage Port strikes all the right notes, from complex aromas to powerful flavors. Blackberry, plum and earth notes finish long, buttressed by supple tannins. Based on the rapid maturation of the 2001 and 2002, drink this one from 2010-2020.\n",
      "Predicted:  59.54732 Actual:  60.0 \n",
      "\n",
      "Aromas of latex, tire rubber, spice, cured meat and berry fruits are rugged and require patience to sift through. This Cabernet Sauvignon-led blend is big and grabby, but not precise, with loud, herbal, muscular flavors of stewed plum, licorice and peppercorn.\n",
      "Predicted:  28.000532 Actual:  61.0 \n",
      "\n",
      "This is a lovely Syrah. It has a medium-bodied lightness that feels velvety in the mouth, and is packed with sweet blackberry, plum, mocha and bacon flavors, accented with smoky sandalwood. Nice to drink now, and will gain traction over the next 6–8 years.\n",
      "Predicted:  38.49264 Actual:  28.0 \n",
      "\n",
      "Grown in the very cool central-southwestern part of the appellation, by Sebastopol, this Pinot features crisp, mouthwatering acidity. And, in this wonderfully long hangtime vintage, its flavors are extraordinarily rich and pure, brimming with cherries and raspberries. It shows layers of complexity, yet is too young, with the parts unintegrated. Give it 4–5 years in a cool cellar.\n",
      "Predicted:  65.878525 Actual:  70.0 \n",
      "\n",
      "Roundly fruity, loaded with bright berries, and nicely spiced with herbal (tobacco) highlights.  Immediately approachable and nicely structured, this open and generous effort glides into a smooth and chocolaty finish. The tannins have been especially well ripened and polished, so the bright fruit has no sharp edges.\n",
      "Predicted:  35.09262 Actual:  35.0 \n",
      "\n",
      "Nice tropical fruit and citrus aromas waft from the glass, picking up pine along the way. Strong acids put this wine firmly on the tart side, and flavors of lemon/lime gatorade will have your mouth puckering.\n",
      "Predicted:  20.883654 Actual:  16.0 \n",
      "\n",
      "Zesty on the nose, with whiffs of orange rind, lemon and pineapple, this bright, zippy beerenauslese counters laser-focused acidity with creamy honey and marmalade flavors. Pleasantly astringent, it finishes on a bracing pink-grapefruit note. It's delicious now, but its honeyed citrus palate should gain complexity and dimension over the next 5–10 years.\n",
      "Predicted:  80.89031 Actual:  510.0 \n",
      "\n",
      "This is a subtle and intriguing bottle, crafted from a range of sources, offered in significant quantities (16,300 cases) and showing varietal fruit, spice and a deft touch with the barrels. Not a big wine, but balanced and quite flavorful, with more depth than you expect at this price point. Lots of chocolate and spicy burnt coffee in the finish.\n",
      "Predicted:  53.125153 Actual:  26.0 \n",
      "\n",
      "There's no question about the huge richness of this wine—it is there from the initial aroma. It is smooth, totally voluptuous, immediately appealing. The flavors are of the sweetest runny honey, matched with acidity to emphasize the ripe peach and dried apricot flavors.\n",
      "Predicted:  39.990078 Actual:  30.0 \n",
      "\n",
      "A delicious, smooth wine, all rounded fruit and sweetness to go with the more determined tannins that lie beneath. With great concentration, the wine has a feeling of power while preserving a core of juicy acidity and sweet red plum juice.\n",
      "Predicted:  3.9961705 Actual:  75.0 \n",
      "\n",
      "This wine hails from six Napa Valley vineyards, including the producer's Calistoga-based estate Bone Ash, as well as Beck stoffer Georges III in Rutherford. It opens in mouthfilling black licorice and blackberry, juicy and soft with the backbone to age. Dried herb provides a savory component, while a fresh vibrancy offsets the wine's denseness. Cellar this concentrated wine through 2022.\n",
      "Predicted:  78.75844 Actual:  55.0 \n",
      "\n",
      "Round, smooth and supple; this soft, easy red has flavors of blackberries, roast coffee, grilled meat and mushroom. It's very dry, with gentle tannins.\n",
      "Predicted:  23.636967 Actual:  12.0 \n",
      "\n",
      "Always a good red blend; this vintage offers smooth, saucy aromas of soy, tree bark and berry fruit. Flavors of raspberry and black cherry are straight-ahead pure and tasty, while the mouthfeel is bulky yet firm. Affordable and ripe; just what most folks are looking for.\n",
      "Predicted:  18.347178 Actual:  19.0 \n",
      "\n",
      "Fragrant and fruity, this is an attractive, full rosé. It has just the right amount of red currant acidity to go with the ripe strawberry note. Ready to drink.\n",
      "Predicted:  6.667849 Actual:  10.0 \n",
      "\n",
      "This ripe but fresh blend of 34% Cabernet Sauvignon, 34% Syrah and 32% Petite Sirah shows blackberry-blueberry syrup as well as cedar and smoked pork on the nose. The palate offers rich and tasty flavors of olallieberry pie cut by a graphite-driven minerality.\n",
      "Predicted:  56.765163 Actual:  40.0 \n",
      "\n",
      "Laurent and Danielle Montalieu acquired this high-profile vineyard in 2007; this is the first Hyland release under their Soléna label. It's a beautiful Pinot, with the elegance of Burgundy and the freshness of New World grapes. Fermentation in rotary barrels (for color extraction and tannin management) yields a silky, perfumed, feminine wine that penetrates subtly and lingers gracefully.\n",
      "Predicted:  37.775875 Actual:  45.0 \n",
      "\n",
      "A deliciously smooth, creamy wine, packed with concentrated, ripe yellow fruits with touches of fresh apricots, but balanced by a very crisp texture. A single-vineyard wine, this deals immediate pleasure and likely a few years' aging. Screwcap. Imported by Michael Skurnik Wines.\n",
      "Predicted:  16.53063 Actual:  21.0 \n",
      "\n",
      "Interesting Argentine Cabernet, with rooty, baked aromas that settle in and impress if given time. The palate is balanced by subtle red-fruit and earthy flavors, while the feel is stocky and grabby courtesy of strong tannins. A good wine with a lot of positives.\n",
      "Predicted:  22.27466 Actual:  17.0 \n",
      "\n",
      "The winery's 13th release of its flagship Tempranillo has notes of red fruit, savory spices and chocolaty oak accents (95% French, 20% new). The fruit flavors are soft with a velvety texture, surrounded by tightly coiled tannins and tart acidity.\n",
      "Predicted:  70.49313 Actual:  35.0 \n",
      "\n",
      "Very pleasant, relatively light, showing a pretty mix of citrus and tropical fruit, fresh cream, light toast and a hint of cinnamon. The alcohol rests at 14.1% but feels a bit lighter, and the wine has a pleasing ripeness without becoming fat or heavy.\n",
      "Predicted:  20.220146 Actual:  17.0 \n",
      "\n",
      "Notes of hay, pollen and beeswax add a savory, honeyed tone to this exquisitely dainty Riesling. The palate is intensely packed with sweet citrus fruit, but it's balanced with striking acidity and a shower of minerality on the finish.\n",
      "Predicted:  85.99082 Actual:  83.0 \n",
      "\n"
     ]
    }
   ],
   "source": [
    "# compare predictions with actual values for the first few items in our test dataset\n",
    "num_predictions = 40\n",
    "diff = 0\n",
    "\n",
    "for i in range(num_predictions):\n",
    "    val = predictions[i]\n",
    "    print(description_test.iloc[i])\n",
    "    print('Predicted: ', val[0], 'Actual: ', labels_test.iloc[i], '\\n')\n",
    "    diff += abs(val[0] - labels_test.iloc[i])"
   ]
  },
  {
   "cell_type": "code",
   "execution_count": 20,
   "metadata": {},
   "outputs": [
    {
     "name": "stdout",
     "output_type": "stream",
     "text": [
      "Average prediction difference:  29.47046148777008\n"
     ]
    }
   ],
   "source": [
    "# compare the average difference between actual price and the model's predicted price\n",
    "print('Average prediction difference: ', diff / num_predictions)"
   ]
  },
  {
   "cell_type": "code",
   "execution_count": null,
   "metadata": {},
   "outputs": [],
   "source": []
  }
 ],
 "metadata": {
  "kernelspec": {
   "display_name": "Python 3",
   "language": "python",
   "name": "python3"
  },
  "language_info": {
   "codemirror_mode": {
    "name": "ipython",
    "version": 3
   },
   "file_extension": ".py",
   "mimetype": "text/x-python",
   "name": "python",
   "nbconvert_exporter": "python",
   "pygments_lexer": "ipython3",
   "version": "3.6.7"
  }
 },
 "nbformat": 4,
 "nbformat_minor": 2
}
