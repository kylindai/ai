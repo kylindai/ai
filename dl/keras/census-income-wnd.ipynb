{
 "cells": [
  {
   "cell_type": "code",
   "execution_count": 1,
   "metadata": {},
   "outputs": [
    {
     "name": "stderr",
     "output_type": "stream",
     "text": [
      "Using TensorFlow backend.\n"
     ]
    }
   ],
   "source": [
    "import numpy as np\n",
    "import pandas as pd\n",
    "import keras\n",
    "\n",
    "from keras.models import Sequential, Model\n",
    "from keras.layers import Input, Dense, Concatenate\n",
    "\n",
    "from sklearn.preprocessing import MinMaxScaler"
   ]
  },
  {
   "cell_type": "code",
   "execution_count": 2,
   "metadata": {},
   "outputs": [],
   "source": [
    "# all columns\n",
    "COLUMNS = [\n",
    "    \"age\", \"workclass\", \"fnlwgt\", \"education\", \"education_num\",\n",
    "    \"marital_status\", \"occupation\", \"relationship\", \"race\", \"gender\",\n",
    "    \"capital_gain\", \"capital_loss\", \"hours_per_week\",\n",
    "    \"native_country\", \"income_bracket\"\n",
    "]\n",
    "\n",
    "# label column\n",
    "LABEL_COLUMN = \"label\"\n",
    "\n",
    "# categorical columns\n",
    "CATEGORICAL_COLUMNS = [\n",
    "    \"workclass\", \"education\", \"marital_status\", \"occupation\",\n",
    "    \"relationship\", \"race\", \"gender\", \"native_country\"\n",
    "]\n",
    "\n",
    "# continuous columns\n",
    "CONTINUOUS_COLUMNS = [\n",
    "    \"age\", \"education_num\", \"capital_gain\", \"capital_loss\", \"hours_per_week\"\n",
    "]\n"
   ]
  },
  {
   "cell_type": "code",
   "execution_count": 3,
   "metadata": {},
   "outputs": [],
   "source": [
    "# load file\n",
    "def load(filename):\n",
    "    with open(filename, 'r') as f:\n",
    "        skiprows = 1 if 'test' in filename else 0\n",
    "        df = pd.read_csv(f, names=COLUMNS,\n",
    "                        skipinitialspace=True,\n",
    "                        skiprows=skiprows, engine='python')\n",
    "        # drop null value\n",
    "        df = df.dropna(how='any', axis=0)\n",
    "    return df"
   ]
  },
  {
   "cell_type": "code",
   "execution_count": 4,
   "metadata": {},
   "outputs": [],
   "source": [
    "# preprocessing\n",
    "def preprocess(df):\n",
    "    \n",
    "    df[LABEL_COLUMN] = df['income_bracket'].apply(lambda x: \">50K\" in x).astype(int)\n",
    "    df.pop(\"income_bracket\")\n",
    "    \n",
    "    y = df[LABEL_COLUMN].values\n",
    "    df.pop(LABEL_COLUMN)\n",
    "    \n",
    "    df = pd.get_dummies(df, columns=[x for x in CATEGORICAL_COLUMNS])\n",
    "    \n",
    "    # TODO: select the samples\n",
    "    \n",
    "    # TODO: make cross features\n",
    "#     from sklearn.preprocessing import PolynomialFeatures\n",
    "#     X = PolynmialFeatures(degree=2, interaction_only=True, include_bias=False).fit_transform(X)\n",
    "    \n",
    "    df = pd.DataFrame(MinMaxScaler().fit_transform(df.astype('float64')), columns=df.columns)\n",
    "\n",
    "    X = df.values\n",
    "    \n",
    "    return X, y"
   ]
  },
  {
   "cell_type": "code",
   "execution_count": 5,
   "metadata": {},
   "outputs": [
    {
     "name": "stdout",
     "output_type": "stream",
     "text": [
      "   age         workclass  fnlwgt  education  education_num  \\\n",
      "0   39         State-gov   77516  Bachelors             13   \n",
      "1   50  Self-emp-not-inc   83311  Bachelors             13   \n",
      "2   38           Private  215646    HS-grad              9   \n",
      "3   53           Private  234721       11th              7   \n",
      "4   28           Private  338409  Bachelors             13   \n",
      "\n",
      "       marital_status         occupation   relationship   race  gender  \\\n",
      "0       Never-married       Adm-clerical  Not-in-family  White    Male   \n",
      "1  Married-civ-spouse    Exec-managerial        Husband  White    Male   \n",
      "2            Divorced  Handlers-cleaners  Not-in-family  White    Male   \n",
      "3  Married-civ-spouse  Handlers-cleaners        Husband  Black    Male   \n",
      "4  Married-civ-spouse     Prof-specialty           Wife  Black  Female   \n",
      "\n",
      "   capital_gain  capital_loss  hours_per_week native_country income_bracket  \n",
      "0          2174             0              40  United-States          <=50K  \n",
      "1             0             0              13  United-States          <=50K  \n",
      "2             0             0              40  United-States          <=50K  \n",
      "3             0             0              40  United-States          <=50K  \n",
      "4             0             0              40           Cuba          <=50K  \n",
      "[[0.30136986 0.04413121 0.8        ... 1.         0.         0.        ]\n",
      " [0.45205479 0.04805174 0.8        ... 1.         0.         0.        ]\n",
      " [0.28767123 0.13758131 0.53333333 ... 1.         0.         0.        ]\n",
      " ...\n",
      " [0.56164384 0.09446153 0.53333333 ... 1.         0.         0.        ]\n",
      " [0.06849315 0.12800425 0.53333333 ... 1.         0.         0.        ]\n",
      " [0.47945205 0.18648211 0.53333333 ... 1.         0.         0.        ]]\n",
      "[0 0 0 ... 0 0 1]\n"
     ]
    }
   ],
   "source": [
    "# main function\n",
    "    \n",
    "df_train = load('../../data/adult.data')\n",
    "df_test = load('../../data/adult.test')\n",
    "    \n",
    "df = pd.concat([df_train, df_test])\n",
    "print(df.head())\n",
    "\n",
    "train_len = len(df_train)\n",
    "\n",
    "X, y = preprocess(df)\n",
    "\n",
    "X_train = X[:train_len]\n",
    "y_train = y[:train_len]\n",
    "X_test = X[train_len:]\n",
    "y_test = y[train_len:]\n",
    "\n",
    "print(X_train)  \n",
    "print(y_train)"
   ]
  },
  {
   "cell_type": "code",
   "execution_count": 6,
   "metadata": {},
   "outputs": [
    {
     "name": "stdout",
     "output_type": "stream",
     "text": [
      "(32561, 108)\n",
      "_________________________________________________________________\n",
      "Layer (type)                 Output Shape              Param #   \n",
      "=================================================================\n",
      "dense_1 (Dense)              (None, 1)                 109       \n",
      "=================================================================\n",
      "Total params: 109\n",
      "Trainable params: 109\n",
      "Non-trainable params: 0\n",
      "_________________________________________________________________\n",
      "None\n",
      "_________________________________________________________________\n",
      "Layer (type)                 Output Shape              Param #   \n",
      "=================================================================\n",
      "input_1 (InputLayer)         (None, 32561, 108)        0         \n",
      "_________________________________________________________________\n",
      "dense_2 (Dense)              (None, 32561, 1)          109       \n",
      "=================================================================\n",
      "Total params: 109\n",
      "Trainable params: 109\n",
      "Non-trainable params: 0\n",
      "_________________________________________________________________\n",
      "None\n"
     ]
    }
   ],
   "source": [
    "# wide model\n",
    "wide = Sequential()\n",
    "wide.add(Dense(1, input_dim=X_train.shape[1]))\n",
    "print(X_train.shape)\n",
    "print(wide.summary())\n",
    "\n",
    "wide_input = Input(shape=X_train.shape)\n",
    "wide_output = Dense(1)(wide_input)\n",
    "wide_model = Model(inputs=wide_input, outputs=wide_output)\n",
    "print(wide_model.summary())"
   ]
  },
  {
   "cell_type": "code",
   "execution_count": 7,
   "metadata": {},
   "outputs": [
    {
     "name": "stdout",
     "output_type": "stream",
     "text": [
      "_________________________________________________________________\n",
      "Layer (type)                 Output Shape              Param #   \n",
      "=================================================================\n",
      "dense_3 (Dense)              (None, 1)                 109       \n",
      "_________________________________________________________________\n",
      "dense_4 (Dense)              (None, 100)               200       \n",
      "_________________________________________________________________\n",
      "dense_5 (Dense)              (None, 32)                3232      \n",
      "_________________________________________________________________\n",
      "dense_6 (Dense)              (None, 1)                 33        \n",
      "=================================================================\n",
      "Total params: 3,574\n",
      "Trainable params: 3,574\n",
      "Non-trainable params: 0\n",
      "_________________________________________________________________\n",
      "None\n",
      "_________________________________________________________________\n",
      "Layer (type)                 Output Shape              Param #   \n",
      "=================================================================\n",
      "input_2 (InputLayer)         (None, 32561, 108)        0         \n",
      "_________________________________________________________________\n",
      "dense_7 (Dense)              (None, 32561, 1)          109       \n",
      "_________________________________________________________________\n",
      "dense_8 (Dense)              (None, 32561, 100)        200       \n",
      "_________________________________________________________________\n",
      "dense_9 (Dense)              (None, 32561, 32)         3232      \n",
      "_________________________________________________________________\n",
      "dense_10 (Dense)             (None, 32561, 1)          33        \n",
      "=================================================================\n",
      "Total params: 3,574\n",
      "Trainable params: 3,574\n",
      "Non-trainable params: 0\n",
      "_________________________________________________________________\n",
      "None\n"
     ]
    }
   ],
   "source": [
    "# deep part\n",
    "deep = Sequential()\n",
    "\n",
    "# input layer\n",
    "deep.add(Dense(1, input_dim=X_train.shape[1], activation='relu'))\n",
    "deep.add(Dense(100, activation='relu'))\n",
    "# deep.add(Dense(input_dim=100, output_dim=32, activation='relu'))\n",
    "deep.add(Dense(32, activation='relu'))\n",
    "# deep.add(Dense(input_dim=32, output_dim=8))\n",
    "deep.add(Dense(1, activation='sigmoid'))\n",
    "\n",
    "print(deep.summary())\n",
    "\n",
    "deep_input = Input(shape=X_train.shape)\n",
    "deep_output = Dense(1)(deep_input)\n",
    "deep_output = Dense(100, activation='relu')(deep_output)\n",
    "deep_output = Dense(32, activation='relu')(deep_output)\n",
    "deep_output = Dense(1, activation='sigmoid')(deep_output)\n",
    "\n",
    "deep_model = Model(inputs=deep_input, outputs=deep_output)\n",
    "\n",
    "print(deep_model.summary())"
   ]
  },
  {
   "cell_type": "code",
   "execution_count": null,
   "metadata": {},
   "outputs": [],
   "source": [
    "# combine wide and deep \n",
    "merged_input = Input(shape=wide_model.input.shape)\n",
    "merged_output = Concatenate()([wide_model.output, deep_model.output])\n",
    "merged_output = Dense(1, activation='sigmoid')(merged_output)\n",
    "\n",
    "model = Model(inputs=merged_input, outputs=merged_output)\n",
    "# model.summary()"
   ]
  },
  {
   "cell_type": "code",
   "execution_count": null,
   "metadata": {},
   "outputs": [],
   "source": [
    "# model compile\n",
    "model.compile(optimizer='rmsprop',\n",
    "             loss='binary_crossentropy',\n",
    "             metrics=['accuracy'])\n",
    "\n",
    "# model training\n",
    "history = model.fit([X_train, X_train], y_train, epochs=10, batch_size=32)\n",
    "\n",
    "# loss and accuracy\n",
    "loss, accuracy = model.evaluate([X_test, X_test], y_test)\n",
    "print('\\nTest accuracy:', accuracy)    "
   ]
  }
 ],
 "metadata": {
  "kernelspec": {
   "display_name": "Python 3",
   "language": "python",
   "name": "python3"
  },
  "language_info": {
   "codemirror_mode": {
    "name": "ipython",
    "version": 3
   },
   "file_extension": ".py",
   "mimetype": "text/x-python",
   "name": "python",
   "nbconvert_exporter": "python",
   "pygments_lexer": "ipython3",
   "version": "3.6.7"
  }
 },
 "nbformat": 4,
 "nbformat_minor": 2
}
