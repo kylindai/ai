{
 "cells": [
  {
   "cell_type": "code",
   "execution_count": null,
   "metadata": {},
   "outputs": [],
   "source": [
    "import math\n",
    "import numpy as np\n",
    "import pandas as pd\n",
    "\n",
    "import keras\n",
    "import tensorflow as tf\n",
    "\n",
    "from sklearn.preprocessing import LabelEncoder"
   ]
  },
  {
   "cell_type": "code",
   "execution_count": 2,
   "metadata": {},
   "outputs": [
    {
     "name": "stdout",
     "output_type": "stream",
     "text": [
      "(150929, 11)\n"
     ]
    },
    {
     "data": {
      "text/html": [
       "<div>\n",
       "<style scoped>\n",
       "    .dataframe tbody tr th:only-of-type {\n",
       "        vertical-align: middle;\n",
       "    }\n",
       "\n",
       "    .dataframe tbody tr th {\n",
       "        vertical-align: top;\n",
       "    }\n",
       "\n",
       "    .dataframe thead th {\n",
       "        text-align: right;\n",
       "    }\n",
       "</style>\n",
       "<table border=\"1\" class=\"dataframe\">\n",
       "  <thead>\n",
       "    <tr style=\"text-align: right;\">\n",
       "      <th></th>\n",
       "      <th>Unnamed: 0</th>\n",
       "      <th>country</th>\n",
       "      <th>description</th>\n",
       "      <th>designation</th>\n",
       "      <th>points</th>\n",
       "      <th>price</th>\n",
       "      <th>province</th>\n",
       "      <th>region_1</th>\n",
       "      <th>region_2</th>\n",
       "      <th>variety</th>\n",
       "      <th>winery</th>\n",
       "    </tr>\n",
       "  </thead>\n",
       "  <tbody>\n",
       "    <tr>\n",
       "      <th>7940</th>\n",
       "      <td>7940</td>\n",
       "      <td>Italy</td>\n",
       "      <td>This elegant, full-bodied red opens with a lov...</td>\n",
       "      <td>Musmeci Riserva</td>\n",
       "      <td>92</td>\n",
       "      <td>50.0</td>\n",
       "      <td>Sicily &amp; Sardinia</td>\n",
       "      <td>Etna</td>\n",
       "      <td>NaN</td>\n",
       "      <td>Red Blend</td>\n",
       "      <td>Tenuta di Fessina</td>\n",
       "    </tr>\n",
       "    <tr>\n",
       "      <th>77573</th>\n",
       "      <td>77573</td>\n",
       "      <td>Italy</td>\n",
       "      <td>This delivers excellent value, with dark fruit...</td>\n",
       "      <td>Grifalco</td>\n",
       "      <td>88</td>\n",
       "      <td>14.0</td>\n",
       "      <td>Southern Italy</td>\n",
       "      <td>Aglianico del Vulture</td>\n",
       "      <td>NaN</td>\n",
       "      <td>Aglianico</td>\n",
       "      <td>Lucania</td>\n",
       "    </tr>\n",
       "    <tr>\n",
       "      <th>16571</th>\n",
       "      <td>16571</td>\n",
       "      <td>US</td>\n",
       "      <td>Clean, balanced and smooth despite the tannins...</td>\n",
       "      <td>Big John's Vineyard</td>\n",
       "      <td>84</td>\n",
       "      <td>24.0</td>\n",
       "      <td>California</td>\n",
       "      <td>Calaveras County</td>\n",
       "      <td>Sierra Foothills</td>\n",
       "      <td>Zinfandel</td>\n",
       "      <td>Newsome-Harlow</td>\n",
       "    </tr>\n",
       "    <tr>\n",
       "      <th>38578</th>\n",
       "      <td>38578</td>\n",
       "      <td>France</td>\n",
       "      <td>Big, rich, almost velvet in texture, this is a...</td>\n",
       "      <td>NaN</td>\n",
       "      <td>93</td>\n",
       "      <td>105.0</td>\n",
       "      <td>Bordeaux</td>\n",
       "      <td>Margaux</td>\n",
       "      <td>NaN</td>\n",
       "      <td>Bordeaux-style Red Blend</td>\n",
       "      <td>Château Rauzan-Ségla</td>\n",
       "    </tr>\n",
       "    <tr>\n",
       "      <th>134070</th>\n",
       "      <td>134070</td>\n",
       "      <td>France</td>\n",
       "      <td>Very perfumed wine, from organic grapes, the b...</td>\n",
       "      <td>L de Lagarde</td>\n",
       "      <td>86</td>\n",
       "      <td>NaN</td>\n",
       "      <td>Bordeaux</td>\n",
       "      <td>Bordeaux</td>\n",
       "      <td>NaN</td>\n",
       "      <td>Bordeaux-style Red Blend</td>\n",
       "      <td>Château de Lagarde</td>\n",
       "    </tr>\n",
       "  </tbody>\n",
       "</table>\n",
       "</div>"
      ],
      "text/plain": [
       "        Unnamed: 0 country                                        description  \\\n",
       "7940          7940   Italy  This elegant, full-bodied red opens with a lov...   \n",
       "77573        77573   Italy  This delivers excellent value, with dark fruit...   \n",
       "16571        16571      US  Clean, balanced and smooth despite the tannins...   \n",
       "38578        38578  France  Big, rich, almost velvet in texture, this is a...   \n",
       "134070      134070  France  Very perfumed wine, from organic grapes, the b...   \n",
       "\n",
       "                designation  points  price           province  \\\n",
       "7940        Musmeci Riserva      92   50.0  Sicily & Sardinia   \n",
       "77573              Grifalco      88   14.0     Southern Italy   \n",
       "16571   Big John's Vineyard      84   24.0         California   \n",
       "38578                   NaN      93  105.0           Bordeaux   \n",
       "134070         L de Lagarde      86    NaN           Bordeaux   \n",
       "\n",
       "                     region_1          region_2                   variety  \\\n",
       "7940                     Etna               NaN                 Red Blend   \n",
       "77573   Aglianico del Vulture               NaN                 Aglianico   \n",
       "16571        Calaveras County  Sierra Foothills                 Zinfandel   \n",
       "38578                 Margaux               NaN  Bordeaux-style Red Blend   \n",
       "134070               Bordeaux               NaN  Bordeaux-style Red Blend   \n",
       "\n",
       "                      winery  \n",
       "7940       Tenuta di Fessina  \n",
       "77573                Lucania  \n",
       "16571         Newsome-Harlow  \n",
       "38578   Château Rauzan-Ségla  \n",
       "134070    Château de Lagarde  "
      ]
     },
     "execution_count": 2,
     "metadata": {},
     "output_type": "execute_result"
    }
   ],
   "source": [
    "data = pd.read_csv('../../data/wine_data.csv')\n",
    "print(data.shape)\n",
    "\n",
    "# shuffle the data\n",
    "data = data.sample(frac=1)\n",
    "\n",
    "data.head()"
   ]
  },
  {
   "cell_type": "code",
   "execution_count": 3,
   "metadata": {},
   "outputs": [
    {
     "name": "stdout",
     "output_type": "stream",
     "text": [
      "(137229, 10)\n"
     ]
    }
   ],
   "source": [
    "# do some preprocessing \n",
    "data = data[pd.notnull(data['country'])]\n",
    "data = data[pd.notnull(data['price'])]\n",
    "\n",
    "# drop the first column\n",
    "data = data.drop(data.columns[0], axis=1)\n",
    "print(data.shape)\n"
   ]
  },
  {
   "cell_type": "code",
   "execution_count": 4,
   "metadata": {},
   "outputs": [
    {
     "name": "stdout",
     "output_type": "stream",
     "text": [
      "Chardonnay                       13775\n",
      "Pinot Noir                       13625\n",
      "Cabernet Sauvignon               12671\n",
      "Red Blend                         9377\n",
      "Sauvignon Blanc                   6054\n",
      "Syrah                             5667\n",
      "Riesling                          5212\n",
      "Merlot                            4987\n",
      "Bordeaux-style Red Blend          4545\n",
      "Zinfandel                         3794\n",
      "Malbec                            3085\n",
      "Sangiovese                        2879\n",
      "White Blend                       2554\n",
      "Tempranillo                       2525\n",
      "Rosé                              2461\n",
      "Shiraz                            1945\n",
      "Sparkling Blend                   1820\n",
      "Portuguese Red                    1812\n",
      "Nebbiolo                          1529\n",
      "Rhône-style Red Blend             1455\n",
      "Cabernet Franc                    1310\n",
      "Corvina, Rondinella, Molinara     1292\n",
      "Pinot Gris                        1275\n",
      "Pinot Grigio                      1270\n",
      "Viognier                          1254\n",
      "Champagne Blend                   1003\n",
      "Barbera                            967\n",
      "Sangiovese Grosso                  938\n",
      "Petite Sirah                       897\n",
      "Gewürztraminer                     891\n",
      "                                 ...  \n",
      "Parraleta                            1\n",
      "Pied de Perdrix                      1\n",
      "Rebula                               1\n",
      "Sarba                                1\n",
      "Cabernet Moravia                     1\n",
      "Durello                              1\n",
      "Irsai Oliver                         1\n",
      "Carnelian                            1\n",
      "Chinuri                              1\n",
      "Orangetraube                         1\n",
      "Pardina                              1\n",
      "Premsal                              1\n",
      "Cococciola                           1\n",
      "Huxelrebe                            1\n",
      "Sideritis                            1\n",
      "Tinta Francisca                      1\n",
      "Grignolino                           1\n",
      "Albarín                              1\n",
      "Malvazija                            1\n",
      "Cabernet Franc-Malbec                1\n",
      "Pinotage-Merlot                      1\n",
      "Mavrotragano                         1\n",
      "Tocai                                1\n",
      "Albarossa                            1\n",
      "Erbaluce                             1\n",
      "Tempranillo-Malbec                   1\n",
      "Früburgunder                         1\n",
      "Vidadillo                            1\n",
      "Moscatel Graúdo                      1\n",
      "Viura-Verdejo                        1\n",
      "Name: variety, Length: 619, dtype: int64\n",
      "Index(['Glera', 'Pinot Blanc', 'Rhône-style White Blend', 'Garnacha',\n",
      "       'Moscato', 'Nero d'Avola', 'Torrontés', 'Dolcetto', 'Meritage',\n",
      "       'Verdejo',\n",
      "       ...\n",
      "       'Pinotage-Merlot', 'Mavrotragano', 'Tocai', 'Albarossa', 'Erbaluce',\n",
      "       'Tempranillo-Malbec', 'Früburgunder', 'Vidadillo', 'Moscatel Graúdo',\n",
      "       'Viura-Verdejo'],\n",
      "      dtype='object', length=579)\n",
      "(119558, 10)\n"
     ]
    }
   ],
   "source": [
    "# anything that occurs less than this will be removed\n",
    "variety_threshold = 500\n",
    "value_counts = data['variety'].value_counts()\n",
    "print(value_counts)\n",
    "\n",
    "# get variety index that need to be removed \n",
    "to_remove = value_counts[value_counts <= variety_threshold].index\n",
    "print(to_remove)\n",
    "\n",
    "# replace data with np.nan when variety equals the index\n",
    "data.replace(to_remove, np.nan, inplace=True)\n",
    "data = data[pd.notnull(data['variety'])]\n",
    "print(data.shape)"
   ]
  },
  {
   "cell_type": "code",
   "execution_count": 5,
   "metadata": {},
   "outputs": [
    {
     "name": "stdout",
     "output_type": "stream",
     "text": [
      "Train size: 95646\n",
      "Test size: 23912\n"
     ]
    }
   ],
   "source": [
    "# split data into train and test dataset\n",
    "train_size = int(len(data) * .8)\n",
    "print(\"Train size: %d\" % train_size)\n",
    "print(\"Test size: %d\" % (len(data) - train_size))"
   ]
  },
  {
   "cell_type": "code",
   "execution_count": 6,
   "metadata": {},
   "outputs": [],
   "source": [
    "# train features\n",
    "description_train = data['description'][:train_size]\n",
    "variety_train = data['variety'][:train_size]\n",
    "\n",
    "# train labels\n",
    "labels_train = data['price'][:train_size]\n",
    "\n",
    "# test features\n",
    "description_test = data['description'][train_size:]\n",
    "variety_test = data['variety'][train_size:]\n",
    "\n",
    "# test labels\n",
    "labels_test = data['price'][train_size:]"
   ]
  },
  {
   "cell_type": "code",
   "execution_count": 7,
   "metadata": {},
   "outputs": [],
   "source": [
    "# create a tokenizer to preprocess our text descriptions\n",
    "\n",
    "# this is a hyperparameter\n",
    "vocab_size = 12000\n",
    "tokenize = keras.preprocessing.text.Tokenizer(num_words=vocab_size, char_level=False)\n",
    "\n",
    "# on fit on train\n",
    "tokenize.fit_on_texts(description_train) "
   ]
  },
  {
   "cell_type": "code",
   "execution_count": 8,
   "metadata": {},
   "outputs": [
    {
     "name": "stdout",
     "output_type": "stream",
     "text": [
      "7940      This elegant, full-bodied red opens with a lov...\n",
      "16571     Clean, balanced and smooth despite the tannins...\n",
      "38578     Big, rich, almost velvet in texture, this is a...\n",
      "67627     Fruity but common on the nose, and acidic and ...\n",
      "113193    Like most of the wines from Neil Ellis, this S...\n",
      "Name: description, dtype: object\n",
      "[[0. 1. 1. ... 0. 0. 0.]\n",
      " [0. 1. 1. ... 0. 0. 0.]\n",
      " [0. 1. 0. ... 0. 0. 0.]\n",
      " ...\n",
      " [0. 1. 1. ... 0. 0. 0.]\n",
      " [0. 1. 1. ... 0. 0. 0.]\n",
      " [0. 1. 1. ... 0. 0. 0.]]\n",
      "(95646, 12000)\n"
     ]
    }
   ],
   "source": [
    "# wide feature 1: sparse bag of words (bow) vocab_size vector\n",
    "description_bow_train = tokenize.texts_to_matrix(description_train)\n",
    "description_bow_test = tokenize.texts_to_matrix(description_test)\n",
    "\n",
    "print(description_train.head())\n",
    "print(description_bow_train)\n",
    "print(description_bow_train.shape)"
   ]
  },
  {
   "cell_type": "code",
   "execution_count": 9,
   "metadata": {},
   "outputs": [
    {
     "name": "stdout",
     "output_type": "stream",
     "text": [
      "7940                          Red Blend\n",
      "16571                         Zinfandel\n",
      "38578          Bordeaux-style Red Blend\n",
      "67627                            Malbec\n",
      "113193                  Sauvignon Blanc\n",
      "107451                          Barbera\n",
      "111701                       Chardonnay\n",
      "112073                        Red Blend\n",
      "76840                          Riesling\n",
      "97578                        Chardonnay\n",
      "126955                        Red Blend\n",
      "29046                   Sauvignon Blanc\n",
      "93971                              Rosé\n",
      "114073                            Syrah\n",
      "53473                Cabernet Sauvignon\n",
      "89026                        Pinot Noir\n",
      "24177                   Sparkling Blend\n",
      "34661             Rhône-style Red Blend\n",
      "130314               Cabernet Sauvignon\n",
      "141494                       Pinot Gris\n",
      "55925                          Riesling\n",
      "116079                     Petite Sirah\n",
      "79082                            Merlot\n",
      "100975                     Pinot Grigio\n",
      "36743                    Portuguese Red\n",
      "39007                        Pinot Noir\n",
      "130326    Corvina, Rondinella, Molinara\n",
      "99551                             Syrah\n",
      "99830                Cabernet Sauvignon\n",
      "90420                        Chardonnay\n",
      "                      ...              \n",
      "31490                        Pinot Noir\n",
      "92524                            Malbec\n",
      "20642             Rhône-style Red Blend\n",
      "36464                            Shiraz\n",
      "96886                            Merlot\n",
      "43447                        Pinot Noir\n",
      "99140                   Sparkling Blend\n",
      "101444                           Malbec\n",
      "20182                         Zinfandel\n",
      "54433                   Sauvignon Blanc\n",
      "34075                        Pinot Noir\n",
      "149233                           Merlot\n",
      "102210                            Syrah\n",
      "88216                           Barbera\n",
      "16740                        Pinot Gris\n",
      "43741                        Pinot Noir\n",
      "133758                        Red Blend\n",
      "120971                            Syrah\n",
      "17467                    Gewürztraminer\n",
      "64129                          Riesling\n",
      "149791                       Pinot Noir\n",
      "31424                         Red Blend\n",
      "79841                            Merlot\n",
      "75299                        Chardonnay\n",
      "10134                   Sauvignon Blanc\n",
      "7166                       Pinot Grigio\n",
      "58044                            Merlot\n",
      "141747               Cabernet Sauvignon\n",
      "92978                        Pinot Noir\n",
      "60945                         Red Blend\n",
      "Name: variety, Length: 95646, dtype: object\n",
      "[25 39  2 ...  5 20 25]\n",
      "40\n",
      "[[0. 0. 0. ... 0. 0. 0.]\n",
      " [0. 0. 0. ... 0. 0. 1.]\n",
      " [0. 0. 1. ... 0. 0. 0.]\n",
      " ...\n",
      " [0. 0. 0. ... 0. 0. 0.]\n",
      " [0. 0. 0. ... 0. 0. 0.]\n",
      " [0. 0. 0. ... 0. 0. 0.]]\n"
     ]
    }
   ],
   "source": [
    "# wide feature 2: one-hot vector of variety categories\n",
    "print(variety_train)\n",
    "\n",
    "encoder = LabelEncoder()\n",
    "encoder.fit(variety_train)\n",
    "\n",
    "variety_train = encoder.transform(variety_train)\n",
    "variety_test = encoder.transform(variety_test)\n",
    "\n",
    "num_classes = np.max(variety_train) + 1\n",
    "print(variety_train)\n",
    "print(num_classes)\n",
    "\n",
    "# convert labels to one-hot\n",
    "variety_train = keras.utils.to_categorical(variety_train, num_classes)\n",
    "variety_test = keras.utils.to_categorical(variety_test, num_classes)\n",
    "print(variety_train)\n"
   ]
  },
  {
   "cell_type": "code",
   "execution_count": 10,
   "metadata": {},
   "outputs": [
    {
     "name": "stdout",
     "output_type": "stream",
     "text": [
      "__________________________________________________________________________________________________\n",
      "Layer (type)                    Output Shape         Param #     Connected to                     \n",
      "==================================================================================================\n",
      "input_1 (InputLayer)            (None, 12000)        0                                            \n",
      "__________________________________________________________________________________________________\n",
      "input_2 (InputLayer)            (None, 40)           0                                            \n",
      "__________________________________________________________________________________________________\n",
      "concatenate_1 (Concatenate)     (None, 12040)        0           input_1[0][0]                    \n",
      "                                                                 input_2[0][0]                    \n",
      "__________________________________________________________________________________________________\n",
      "dense_1 (Dense)                 (None, 256)          3082496     concatenate_1[0][0]              \n",
      "__________________________________________________________________________________________________\n",
      "dense_2 (Dense)                 (None, 1)            257         dense_1[0][0]                    \n",
      "==================================================================================================\n",
      "Total params: 3,082,753\n",
      "Trainable params: 3,082,753\n",
      "Non-trainable params: 0\n",
      "__________________________________________________________________________________________________\n",
      "None\n"
     ]
    }
   ],
   "source": [
    "# define the wide model with the functinoal API\n",
    "layers = keras.layers\n",
    "\n",
    "bow_inputs = layers.Input(shape=(vocab_size,))\n",
    "variety_inputs = layers.Input(shape=(num_classes,))\n",
    "merged_layer = layers.concatenate([bow_inputs, variety_inputs])\n",
    "merged_layer = layers.Dense(256, activation='relu')(merged_layer)\n",
    "predictions = layers.Dense(1)(merged_layer)\n",
    "\n",
    "wide_model = keras.Model(inputs=[bow_inputs, variety_inputs], \n",
    "                         outputs=predictions)\n",
    "\n",
    "wide_model.compile(loss='mse', optimizer='adam', metrics=['accuracy'])\n",
    "print(wide_model.summary())"
   ]
  },
  {
   "cell_type": "code",
   "execution_count": 11,
   "metadata": {},
   "outputs": [
    {
     "name": "stdout",
     "output_type": "stream",
     "text": [
      "[6, 134, 54, 84, 41, 218, 5, 3, 330, 2275, 4, 41, 44, 1, 611, 2, 138, 24, 1884, 115, 415, 220, 19, 230, 345, 795, 1, 1156, 35, 426, 102, 302, 21, 1, 47, 23, 32, 6008]\n"
     ]
    }
   ],
   "source": [
    "# deep model features: word enbedding of wine descriptions\n",
    "train_embed = tokenize.texts_to_sequences(description_train)\n",
    "test_embed = tokenize.texts_to_sequences(description_test)\n",
    "print(train_embed[0])"
   ]
  },
  {
   "cell_type": "code",
   "execution_count": 12,
   "metadata": {},
   "outputs": [],
   "source": [
    "max_seq_length = 170\n",
    "train_embed = keras.preprocessing.sequence.pad_sequences(\n",
    "    train_embed, maxlen=max_seq_length, padding='post')\n",
    "test_embed = keras.preprocessing.sequence.pad_sequences(\n",
    "    test_embed, maxlen=max_seq_length, padding='post')"
   ]
  },
  {
   "cell_type": "code",
   "execution_count": 14,
   "metadata": {},
   "outputs": [
    {
     "name": "stdout",
     "output_type": "stream",
     "text": [
      "_________________________________________________________________\n",
      "Layer (type)                 Output Shape              Param #   \n",
      "=================================================================\n",
      "input_4 (InputLayer)         (None, 170)               0         \n",
      "_________________________________________________________________\n",
      "embedding_2 (Embedding)      (None, 170, 8)            96000     \n",
      "_________________________________________________________________\n",
      "flatten_2 (Flatten)          (None, 1360)              0         \n",
      "_________________________________________________________________\n",
      "dense_4 (Dense)              (None, 1)                 1361      \n",
      "=================================================================\n",
      "Total params: 97,361\n",
      "Trainable params: 97,361\n",
      "Non-trainable params: 0\n",
      "_________________________________________________________________\n",
      "None\n"
     ]
    }
   ],
   "source": [
    "# define the deep model with the functional API\n",
    "deep_inputs = layers.Input(shape=(max_seq_length,))\n",
    "embedding = layers.Embedding(vocab_size, 8, input_length=max_seq_length)(deep_inputs)\n",
    "embedding = layers.Flatten()(embedding)\n",
    "embed_out = layers.Dense(1)(embedding)\n",
    "\n",
    "deep_model = keras.Model(inputs=deep_inputs, outputs=embed_out)\n",
    "print(deep_model.summary())"
   ]
  },
  {
   "cell_type": "code",
   "execution_count": 15,
   "metadata": {},
   "outputs": [],
   "source": [
    "deep_model.compile(loss='mse',\n",
    "                  optimizer='adam',\n",
    "                  metrics=['accuracy'])"
   ]
  },
  {
   "cell_type": "code",
   "execution_count": 17,
   "metadata": {},
   "outputs": [
    {
     "name": "stdout",
     "output_type": "stream",
     "text": [
      "__________________________________________________________________________________________________\n",
      "Layer (type)                    Output Shape         Param #     Connected to                     \n",
      "==================================================================================================\n",
      "input_1 (InputLayer)            (None, 12000)        0                                            \n",
      "__________________________________________________________________________________________________\n",
      "input_2 (InputLayer)            (None, 40)           0                                            \n",
      "__________________________________________________________________________________________________\n",
      "input_4 (InputLayer)            (None, 170)          0                                            \n",
      "__________________________________________________________________________________________________\n",
      "concatenate_1 (Concatenate)     (None, 12040)        0           input_1[0][0]                    \n",
      "                                                                 input_2[0][0]                    \n",
      "__________________________________________________________________________________________________\n",
      "embedding_2 (Embedding)         (None, 170, 8)       96000       input_4[0][0]                    \n",
      "__________________________________________________________________________________________________\n",
      "dense_1 (Dense)                 (None, 256)          3082496     concatenate_1[0][0]              \n",
      "__________________________________________________________________________________________________\n",
      "flatten_2 (Flatten)             (None, 1360)         0           embedding_2[0][0]                \n",
      "__________________________________________________________________________________________________\n",
      "dense_2 (Dense)                 (None, 1)            257         dense_1[0][0]                    \n",
      "__________________________________________________________________________________________________\n",
      "dense_4 (Dense)                 (None, 1)            1361        flatten_2[0][0]                  \n",
      "__________________________________________________________________________________________________\n",
      "concatenate_3 (Concatenate)     (None, 2)            0           dense_2[0][0]                    \n",
      "                                                                 dense_4[0][0]                    \n",
      "__________________________________________________________________________________________________\n",
      "dense_6 (Dense)                 (None, 1)            3           concatenate_3[0][0]              \n",
      "==================================================================================================\n",
      "Total params: 3,180,117\n",
      "Trainable params: 3,180,117\n",
      "Non-trainable params: 0\n",
      "__________________________________________________________________________________________________\n",
      "None\n"
     ]
    }
   ],
   "source": [
    "# combine wide and deep into one model\n",
    "merged_out = layers.concatenate([wide_model.output, deep_model.output])\n",
    "merged_out = layers.Dense(1)(merged_out)\n",
    "\n",
    "combined_model = keras.Model(wide_model.input + [deep_model.input], merged_out)\n",
    "print(combined_model.summary())\n",
    "\n",
    "combined_model.compile(loss='mse',\n",
    "                      optimizer='adam',\n",
    "                      metrics=['accuracy'])"
   ]
  },
  {
   "cell_type": "code",
   "execution_count": 20,
   "metadata": {},
   "outputs": [
    {
     "name": "stdout",
     "output_type": "stream",
     "text": [
      "Epoch 1/10\n",
      "95646/95646 [==============================] - 36s 378us/step - loss: 1159.5647 - acc: 0.0267\n",
      "Epoch 2/10\n",
      "95646/95646 [==============================] - 36s 373us/step - loss: 902.9649 - acc: 0.0368\n",
      "Epoch 3/10\n",
      "95646/95646 [==============================] - 31s 325us/step - loss: 772.6340 - acc: 0.0398\n",
      "Epoch 4/10\n",
      "95646/95646 [==============================] - 31s 325us/step - loss: 651.8283 - acc: 0.0433\n",
      "Epoch 5/10\n",
      "95646/95646 [==============================] - 31s 327us/step - loss: 539.8132 - acc: 0.0474\n",
      "Epoch 6/10\n",
      "95646/95646 [==============================] - 31s 325us/step - loss: 435.4185 - acc: 0.0519\n",
      "Epoch 7/10\n",
      "95646/95646 [==============================] - 31s 323us/step - loss: 343.3059 - acc: 0.0578\n",
      "Epoch 8/10\n",
      "95646/95646 [==============================] - 31s 324us/step - loss: 262.8786 - acc: 0.0675\n",
      "Epoch 9/10\n",
      "95646/95646 [==============================] - 31s 329us/step - loss: 200.7063 - acc: 0.0769\n",
      "Epoch 10/10\n",
      "95646/95646 [==============================] - 29s 305us/step - loss: 153.0351 - acc: 0.0870\n"
     ]
    },
    {
     "data": {
      "text/plain": [
       "<keras.callbacks.History at 0x12d062eb8>"
      ]
     },
     "execution_count": 20,
     "metadata": {},
     "output_type": "execute_result"
    }
   ],
   "source": [
    "# run training\n",
    "combined_model.fit([description_bow_train, variety_train] + [train_embed],\n",
    "                  labels_train, epochs=10, batch_size=128)"
   ]
  },
  {
   "cell_type": "code",
   "execution_count": 21,
   "metadata": {},
   "outputs": [
    {
     "name": "stdout",
     "output_type": "stream",
     "text": [
      "23912/23912 [==============================] - 4s 182us/step\n"
     ]
    },
    {
     "data": {
      "text/plain": [
       "[670.4098962022533, 0.062604550031684]"
      ]
     },
     "execution_count": 21,
     "metadata": {},
     "output_type": "execute_result"
    }
   ],
   "source": [
    "combined_model.evaluate([description_bow_test, variety_test] + [test_embed],\n",
    "                       labels_test, batch_size=128)"
   ]
  },
  {
   "cell_type": "code",
   "execution_count": 22,
   "metadata": {},
   "outputs": [
    {
     "name": "stdout",
     "output_type": "stream",
     "text": [
      "[[14.137038]\n",
      " [40.058777]\n",
      " [19.782604]\n",
      " ...\n",
      " [20.241787]\n",
      " [23.562008]\n",
      " [22.68404 ]]\n"
     ]
    }
   ],
   "source": [
    "# generate predictions\n",
    "predictions = combined_model.predict([description_bow_test, variety_test] + [test_embed])\n",
    "print(predictions)"
   ]
  },
  {
   "cell_type": "code",
   "execution_count": 23,
   "metadata": {},
   "outputs": [
    {
     "name": "stdout",
     "output_type": "stream",
     "text": [
      "Mocha and creamy baked-berry aromas give it a soupy, chunky start, while the palate is rich and meaty for a $10 kosher wine. Flavors run sweet and syrupy, and a touch herbal, while the finish is full and chewy. Not exact but still a pretty good wine for the price.\n",
      "Predicted:  14.137038 Actual:  10.0 \n",
      "\n",
      "A very good effort with this tricky grape. Along with the stone-fruit flavors are sweeter streaks of cotton candy and marshmallow. But the candied fruit is lively and not cloying or artificial. The finish is long and clean, with a twist of buttered nuts and creamy vanilla.\n",
      "Predicted:  40.058777 Actual:  18.0 \n",
      "\n",
      "Complex and smooth wine, keeping firm tannins well integrated with the elegant polished fruit. With refreshing acidity to go with the fruit and tannins, the wine is finely, ripely balanced.\n",
      "Predicted:  19.782604 Actual:  15.0 \n",
      "\n",
      "Greenwood Ridge does a terrific job with Scherrer's Alexander Valley Zin grapes, capturing the intensity of these century vines while maintaining balance. The flavors are powerful, of wild summer red, blue and black berries, crushed pepper, Asian spices, crème de cassis, licorice and cola. Enjoy this potent wine now through 2014, before it loses its fruit.\n",
      "Predicted:  22.442596 Actual:  25.0 \n",
      "\n",
      "Rich, full bodied and medium dry, it is powered by ripe fruits, lychees and pomegranates. A spicy undertow brings along some acidity to this concentrated wine. Drink from 2016.\n",
      "Predicted:  15.085662 Actual:  34.0 \n",
      "\n",
      "This is off dry, low alcohol (11.5%), spiced up with tart acidity and loaded with rich, ripe fruit flavors mixing pears and peaches. Sweet without being sugary, it should appeal to a wide spectrum of wine drinkers, and snap together the flavors of a Thai food. Columbia Crest makes 18,000 cases of this wine.\n",
      "Predicted:  14.939498 Actual:  8.0 \n",
      "\n",
      "What would convince a producer to call a wine Jovly seems to be a mystery. That said, the wine is fresh, rounded with plenty of orange juice acidity, honey and a soft finish. Screwcap.\n",
      "Predicted:  7.74526 Actual:  12.0 \n",
      "\n",
      "Still tight, and expertly crafted and structured, this single-vineyard estate wine is meticulous in velvety, plush texture, completely seductive at every angle. Rich red cherry, pomegranate and vanilla improvise against one another without ever missing a beat, finishing in fully integrated flavor. Drink now through 2022.\n",
      "Predicted:  113.37136 Actual:  85.0 \n",
      "\n",
      "Too oaky by far, this simple Chard tastes like a toothpick. The flavors of caramel and smoky char dominate the pineapple fruit, which itself has a candied, sweet finish.\n",
      "Predicted:  20.536621 Actual:  24.0 \n",
      "\n",
      "A fresh and youthful wine, full of raspberry fruits with bright acidity. It has a dry, tannic background that goes well with the vivid fruits. For drinking over the next year.\n",
      "Predicted:  17.03372 Actual:  21.0 \n",
      "\n",
      "Even if this full-bodied Cab starts with some eggy, pastry-like aromas, it soon finds its form. The nose brings char and baked black fruit, while the palate is full of creamy blackberry and brown sugar flavors. Rather rich and ripe, with medium tannins and mild acidity. Drink sooner than later.\n",
      "Predicted:  16.786982 Actual:  18.0 \n",
      "\n",
      "Big, smoky wood flavored wine. At this stage, it is all tannins, wood and dark spice. With the weight of fruit, though, it should develop into a solid and rich wine, layering its tannins with sweet black plum flavors.\n",
      "Predicted:  30.180687 Actual:  36.0 \n",
      "\n",
      ". The winery's above-the-fog vineyard has been kind to Merlot, nearly always producing an interesting wine. The '05, from such a cool vintage, has given crisp, firm tannins, but long hangtime allowed the grapes to develop luscious blackberry flavors, which smoky oak perfectly accents. A wine of charm and depth; should develop bottle complexity over the next 6 years.\n",
      "Predicted:  43.589264 Actual:  25.0 \n",
      "\n",
      "Soft, sweet and gluey. A hard wine to like despite rich raspberry and mocha flavors.\n",
      "Predicted:  20.446098 Actual:  22.0 \n",
      "\n",
      "A bit quick on the finish, but otherwise a nice everyday Chardonnay. Shows a soft, buttercream texture, with dry, subtle flavors of pineapples, pears and buttered toast.\n",
      "Predicted:  16.720234 Actual:  13.0 \n",
      "\n",
      "Lightweight and fresh, with spicy, minty aromas accenting deeper cherry and berry scents. Medium on the palate, with cherry, chocolate and peppery flavors. Finishes fresh, with a touch of tobacco and vanilla. Imported by Winesellers Ltd.\n",
      "Predicted:  13.230602 Actual:  11.0 \n",
      "\n",
      "This has a powerful, briary character, with a spicy, high-alcohol kick. It erupts in the mouth, with flavors of wild berry, tobacco, cola, anise and white pepper that should pair well with equally spicy fare, preferably fatty meats and cheeses.\n",
      "Predicted:  29.76374 Actual:  27.0 \n",
      "\n",
      "Voluminous yet silky, this undeniably complex offering from Te Kairanga features hints of smoky bacon, black tea and briary herbs surrounding a core of black cherries and plums. The fine texture stands out on the long, slightly warm finish.\n",
      "Predicted:  38.626263 Actual:  40.0 \n",
      "\n",
      "Although this winery is better known for its Shiraz, I have been a consistent fan of its Riesling as well. The 2006 offers scents of powdered minerals and lime followed by flavors of apple and citrus. It's medium-bodied but muscular, with plenty of intensity that comes through on the long finish. Drink now–2016.\n",
      "Predicted:  18.204212 Actual:  21.0 \n",
      "\n",
      "Richly textured, this Pinot comes from the Sebastopol area. In this cool vintage, it has a bright burst of acidity and is very dry, with intricate flavors of raspberries, cherries, pomegranates, licorice, sweet oak and lots of dusty spices. Now–2014.\n",
      "Predicted:  37.997055 Actual:  42.0 \n",
      "\n",
      "A soft, delicate nose of spice and mocha lead on this approachable Cab from South Africa. Simple flavors of berry and tobacco and an overall integrated character make it an easy choice for everyday sipping. Could use some structure and complexity but for the price, it's a good buy.\n",
      "Predicted:  2.499884 Actual:  10.0 \n",
      "\n",
      "This bombastically brawny Merlot is blended with Syrah and Malbec. The grapes have been sourced from some fine vineyards, including Hudson, Stagecoach and Antica, as well as the cooler Trefethen in Oak Knoll. Juicy blackberry veers into syrupy territory, a thickness that never lets up, accented in smoky oak and vanilla.\n",
      "Predicted:  48.708183 Actual:  40.0 \n",
      "\n",
      "Starts off with some forceful charred aromas and some rustic, unintegrated notes on the finish, but give this wine some time to settle down and it shines. Grilled peaches and roasted cashews mingle easily with mineral notes, and what the finish lacks in finesse at this stage it makes up in power. Better in 2008. Imported by Vintus LLC.\n",
      "Predicted:  83.05815 Actual:  85.0 \n",
      "\n",
      "Leather, pencil shavings and cedar provide an edge to this wine. It's otherwise soft and approachable in a mix of blackberry and black cherry, a seasoning of cinnamon and clove providing a pleasant hit of spice on the finish.\n",
      "Predicted:  53.718727 Actual:  50.0 \n",
      "\n",
      "Generally speaking, Errazuriz's progressive wines hit their marks. But this Chard seems to be substituting oak for substance. The bouquet comes straight from the barrel, and the palate is resiny as it houses lemony, baked apple flavors. Finishes as woody as it began. Too much oak, plain and simple.\n",
      "Predicted:  23.9848 Actual:  21.0 \n",
      "\n",
      "Made in a wonderfully dry, crisp style, Sauvignon Blancs like this fill a much-needed niche in fruit-heavy California. It's zesty and minerally, with lemon, lime and grapefruit flavors. Beautiful as a cocktail sipper, or with the perfect roast chicken.\n",
      "Predicted:  19.86686 Actual:  13.0 \n",
      "\n",
      "Dark and rubbery, with a heavyweight's presence. Nearly assaultive on the palate, with hard, acidic fruit that's jumpy and tight. A tough wine, no matter how many times you come back to it.\n",
      "Predicted:  12.161696 Actual:  15.0 \n",
      "\n",
      "Dry, soft and simple, with pleasant flavors of grilled cherries, raspberries, cola, red licorice, red currants and smoky oak. The texture is nice and silky. Drink now.\n",
      "Predicted:  22.978477 Actual:  32.0 \n",
      "\n",
      "Sweet on the nose yet firm as a bristle brush, with lime and pineapple as the key aromas. Feels juicy, tight and light on the tongue, with fine acidity propelling nectarine, lime and melon flavors. Zesty, crisp and pure throughout. A serious value among white wines.\n",
      "Predicted:  16.037664 Actual:  14.0 \n",
      "\n",
      "While it shares the same electricity and mineral finesse of Bürklin-Wolf's other 2014 Premier Cru (labeled P.C.) wines, the Rechbächel has an intensely fruity, almost tropical appeal. It's concentrated and ripe, but with cutting white grapefruit and tangerine acidity leading a long, focused finish. Drink now through 2025.\n",
      "Predicted:  101.93675 Actual:  38.0 \n",
      "\n",
      "A beautiful Chardonnay, rich and ripe in fruit, yet balanced with dryness and racy acidity and a fine minerality. The pineapple and orange flavors are accented with sweet, smoky oak. Drink this luxuriously elegant wine now.\n",
      "Predicted:  30.916973 Actual:  30.0 \n",
      "\n",
      "A stemmy, weedy wine with a chippy mouthfeel, edgy tannins and grating acidity. Balance and harmony are not in the cards here; the wine is a messy mix of buttery oak and burnt, stalky fruit. The finish is muddled and mills around with no place to go.\n",
      "Predicted:  23.428776 Actual:  20.0 \n",
      "\n",
      "A blend of Cabernet Franc, Cabernet Sauvignon, Carmenere, Merlot and Barbera, this simple, bright red blend offers simple layers of cherry and blackberry, with background tones of black olive and cheese rind.\n",
      "Predicted:  26.648638 Actual:  26.0 \n",
      "\n",
      "This 2009 shows the varietal's fantastic wealth of exotic tropical fruits, flowers, honey and spices. But it's also vibrant in acidity, with a core of cold minerality.\n",
      "Predicted:  18.928032 Actual:  16.0 \n",
      "\n",
      "Est! Est!! Est!!! takes its name from an ancient legend in which a bishop desired some good wine on his travels to Rome. In Montefiascone, his servant found wine so good he wrote Est (“It is”) three times to alert his master. This blend of white grapes is light, informal and very welcoming.\n",
      "Predicted:  13.415373 Actual:  12.0 \n",
      "\n",
      "From this showplace estate close to Saint-Tropez, this attractive wine brings out a warm and sunny character. It is smooth with just a light tang of clementines that is balanced with the riper raspberry fruit. Drink now.\n",
      "Predicted:  16.551016 Actual:  22.0 \n",
      "\n",
      "A sweet Chardonnay, made in the popular style. It's rich and creamy in vanilla and buttered toast, with fruity notes of pineapple and Key lime pie.\n",
      "Predicted:  18.029327 Actual:  10.0 \n",
      "\n",
      "This is Dutton Estate's unoaked Sauvignon Blanc. It did not go through the malolactic fermentation, but it started as very ripe grapes, so what you get is pure citrus, Asian pear, white peach and green apple flavor, zesty and clean in acidity, with slight a sweetness in the finish. Nice with Indian, Chinese, Vietnamese fare.\n",
      "Predicted:  19.145617 Actual:  20.0 \n",
      "\n",
      "Toasty and relatively smooth, with a comfortable nose and body. Smoothness is this wine's prime attribute, while the flavors are your basic apple and citrus. Finishes with tang and zest, and overall the wine satisfies while not pressing too hard to do so.\n",
      "Predicted:  5.3807883 Actual:  11.0 \n",
      "\n",
      "Very rich, dry and crisp in acidity, a Chardonnay that feels fine from your first sip through the spicy finish. Made with 35% new French oak, and aged eight months on the lees, it's drinking beautifully now, with pear, pineapple, vanilla custard and buttered toast flavors. Just lovely.\n",
      "Predicted:  23.63816 Actual:  25.0 \n",
      "\n"
     ]
    }
   ],
   "source": [
    "# compare predictions with actual values for the first few items in our test dataset\n",
    "num_predictions = 40\n",
    "diff = 0\n",
    "\n",
    "for i in range(num_predictions):\n",
    "    val = predictions[i]\n",
    "    print(description_test.iloc[i])\n",
    "    print('Predicted: ', val[0], 'Actual: ', labels_test.iloc[i], '\\n')\n",
    "    diff += abs(val[0] - labels_test.iloc[i])"
   ]
  },
  {
   "cell_type": "code",
   "execution_count": 24,
   "metadata": {},
   "outputs": [
    {
     "name": "stdout",
     "output_type": "stream",
     "text": [
      "Average prediction difference:  7.0928569495677944\n"
     ]
    }
   ],
   "source": [
    "# compare the average difference between actual price and the model's predicted price\n",
    "print('Average prediction difference: ', diff / num_predictions)"
   ]
  },
  {
   "cell_type": "code",
   "execution_count": null,
   "metadata": {},
   "outputs": [],
   "source": []
  }
 ],
 "metadata": {
  "kernelspec": {
   "display_name": "Python 3",
   "language": "python",
   "name": "python3"
  },
  "language_info": {
   "codemirror_mode": {
    "name": "ipython",
    "version": 3
   },
   "file_extension": ".py",
   "mimetype": "text/x-python",
   "name": "python",
   "nbconvert_exporter": "python",
   "pygments_lexer": "ipython3",
   "version": "3.6.7"
  }
 },
 "nbformat": 4,
 "nbformat_minor": 2
}
