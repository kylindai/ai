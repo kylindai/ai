{
 "cells": [
  {
   "cell_type": "code",
   "execution_count": 1,
   "metadata": {},
   "outputs": [
    {
     "name": "stderr",
     "output_type": "stream",
     "text": [
      "Using TensorFlow backend.\n"
     ]
    }
   ],
   "source": [
    "import keras\n",
    "from keras.layers import Input, Dense\n",
    "from keras.models import Model\n"
   ]
  },
  {
   "cell_type": "code",
   "execution_count": 2,
   "metadata": {},
   "outputs": [
    {
     "name": "stdout",
     "output_type": "stream",
     "text": [
      "_________________________________________________________________\n",
      "Layer (type)                 Output Shape              Param #   \n",
      "=================================================================\n",
      "input_1 (InputLayer)         (None, 784)               0         \n",
      "_________________________________________________________________\n",
      "dense_1 (Dense)              (None, 64)                50240     \n",
      "_________________________________________________________________\n",
      "dense_2 (Dense)              (None, 64)                4160      \n",
      "_________________________________________________________________\n",
      "dense_3 (Dense)              (None, 10)                650       \n",
      "=================================================================\n",
      "Total params: 55,050\n",
      "Trainable params: 55,050\n",
      "Non-trainable params: 0\n",
      "_________________________________________________________________\n"
     ]
    }
   ],
   "source": [
    "# this returns a tensor\n",
    "inputs = Input(shape=(784,))\n",
    "\n",
    "# a layer instance is callable on tensor, and return s a tensor\n",
    "x = Dense(64, activation='relu')(inputs)\n",
    "x = Dense(64, activation='relu')(x)\n",
    "predictions = Dense(10, activation='softmax')(x)\n",
    "\n",
    "# This is creates a model that includes\n",
    "# the input layer and three dense layers\n",
    "model = Model(inputs=inputs, outputs=predictions)\n",
    "model.compile(optimizer='rmsprop',\n",
    "              loss='categorical_crossentropy',\n",
    "              metrics=['accuracy'])\n",
    "model.summary()"
   ]
  },
  {
   "cell_type": "code",
   "execution_count": 15,
   "metadata": {},
   "outputs": [
    {
     "name": "stdout",
     "output_type": "stream",
     "text": [
      "[[0.8618657  0.96751355 0.34268598 ... 0.17564383 0.41026474 0.67666894]\n",
      " [0.01930313 0.45726195 0.81104451 ... 0.39949187 0.95561441 0.68909081]\n",
      " [0.03411247 0.79656284 0.09232703 ... 0.42693263 0.66578953 0.78988888]\n",
      " ...\n",
      " [0.3191208  0.91566354 0.01272379 ... 0.65785892 0.02566276 0.13494665]\n",
      " [0.76459975 0.61994027 0.59666149 ... 0.49578845 0.48464921 0.17918464]\n",
      " [0.33860232 0.00806819 0.83960939 ... 0.54289271 0.21237702 0.20826553]]\n",
      "(1000, 10)\n",
      "Epoch 1/10\n",
      "1000/1000 [==============================] - 0s 47us/step - loss: 103.2875 - acc: 0.0970\n",
      "Epoch 2/10\n",
      "1000/1000 [==============================] - 0s 47us/step - loss: 103.2156 - acc: 0.0870\n",
      "Epoch 3/10\n",
      "1000/1000 [==============================] - 0s 47us/step - loss: 103.2152 - acc: 0.1010\n",
      "Epoch 4/10\n",
      "1000/1000 [==============================] - 0s 45us/step - loss: 103.1994 - acc: 0.0930\n",
      "Epoch 5/10\n",
      "1000/1000 [==============================] - 0s 47us/step - loss: 103.1914 - acc: 0.0900\n",
      "Epoch 6/10\n",
      "1000/1000 [==============================] - 0s 48us/step - loss: 103.1777 - acc: 0.1100\n",
      "Epoch 7/10\n",
      "1000/1000 [==============================] - 0s 46us/step - loss: 103.1463 - acc: 0.1100\n",
      "Epoch 8/10\n",
      "1000/1000 [==============================] - 0s 47us/step - loss: 103.1080 - acc: 0.1070\n",
      "Epoch 9/10\n",
      "1000/1000 [==============================] - 0s 45us/step - loss: 103.0815 - acc: 0.1370\n",
      "Epoch 10/10\n",
      "1000/1000 [==============================] - 0s 47us/step - loss: 103.0591 - acc: 0.1220\n"
     ]
    },
    {
     "data": {
      "text/plain": [
       "<keras.callbacks.History at 0x12cb97b00>"
      ]
     },
     "execution_count": 15,
     "metadata": {},
     "output_type": "execute_result"
    }
   ],
   "source": [
    "# generate dummy data\n",
    "import numpy as np\n",
    "data = np.random.random((1000, 784))\n",
    "labels = np.random.randint(10, size=(1000, 10))\n",
    "\n",
    "print(data)\n",
    "print(labels.shape)\n",
    "\n",
    "model.fit(data, labels, epochs=10, batch_size=32)"
   ]
  },
  {
   "cell_type": "code",
   "execution_count": null,
   "metadata": {},
   "outputs": [],
   "source": []
  }
 ],
 "metadata": {
  "kernelspec": {
   "display_name": "Python 3",
   "language": "python",
   "name": "python3"
  },
  "language_info": {
   "codemirror_mode": {
    "name": "ipython",
    "version": 3
   },
   "file_extension": ".py",
   "mimetype": "text/x-python",
   "name": "python",
   "nbconvert_exporter": "python",
   "pygments_lexer": "ipython3",
   "version": "3.6.7"
  }
 },
 "nbformat": 4,
 "nbformat_minor": 2
}
