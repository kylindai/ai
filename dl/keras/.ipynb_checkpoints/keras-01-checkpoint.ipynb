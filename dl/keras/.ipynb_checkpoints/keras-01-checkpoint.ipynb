{
 "cells": [
  {
   "cell_type": "code",
   "execution_count": 1,
   "metadata": {},
   "outputs": [],
   "source": [
    "import numpy as np\n",
    "import matplotlib.pyplot as plt\n",
    "%matplotlib inline"
   ]
  },
  {
   "cell_type": "code",
   "execution_count": 4,
   "metadata": {},
   "outputs": [],
   "source": [
    "X = np.linspace(-2, 6, 200)\n",
    "np.random.shuffle(X)\n",
    "# print(X)\n",
    "\n",
    "Y = 0.5 * X + 2 + 0.15 * np.random.randn(200,)\n",
    "# print(Y)"
   ]
  },
  {
   "cell_type": "code",
   "execution_count": 15,
   "metadata": {},
   "outputs": [
    {
     "data": {
      "image/png": "[encoded data removed]",
      "text/plain": [
       "<Figure size 432x288 with 1 Axes>"
      ]
     },
     "metadata": {
      "needs_background": "light"
     },
     "output_type": "display_data"
    }
   ],
   "source": [
    "plt.scatter(X, Y, c='red', alpha=0.5)\n",
    "plt.show()"
   ]
  },
  {
   "cell_type": "code",
   "execution_count": 6,
   "metadata": {},
   "outputs": [
    {
     "name": "stderr",
     "output_type": "stream",
     "text": [
      "Using TensorFlow backend.\n"
     ]
    }
   ],
   "source": [
    "from keras.models import Sequential\n",
    "from keras.layers import Dense"
   ]
  },
  {
   "cell_type": "code",
   "execution_count": 8,
   "metadata": {},
   "outputs": [
    {
     "name": "stdout",
     "output_type": "stream",
     "text": [
      "_________________________________________________________________\n",
      "Layer (type)                 Output Shape              Param #   \n",
      "=================================================================\n",
      "dense_2 (Dense)              (None, 1)                 2         \n",
      "=================================================================\n",
      "Total params: 2\n",
      "Trainable params: 2\n",
      "Non-trainable params: 0\n",
      "_________________________________________________________________\n",
      "None\n"
     ]
    }
   ],
   "source": [
    "model = Sequential()\n",
    "model.add(Dense(1, input_dim=1))\n",
    "\n",
    "model.compile(loss='mse', optimizer='sgd')\n",
    "print(model.summary())"
   ]
  },
  {
   "cell_type": "code",
   "execution_count": 9,
   "metadata": {},
   "outputs": [],
   "source": [
    "X_train, y_train = X[:160], Y[:160]\n",
    "X_test, y_test = X[160:], Y[160:]"
   ]
  },
  {
   "cell_type": "code",
   "execution_count": 10,
   "metadata": {},
   "outputs": [
    {
     "name": "stdout",
     "output_type": "stream",
     "text": [
      "Epoch 1/100\n",
      "160/160 [==============================] - 0s 680us/step - loss: 3.9329\n",
      "Epoch 2/100\n",
      "160/160 [==============================] - 0s 23us/step - loss: 2.4269\n",
      "Epoch 3/100\n",
      "160/160 [==============================] - 0s 26us/step - loss: 1.9237\n",
      "Epoch 4/100\n",
      "160/160 [==============================] - 0s 28us/step - loss: 1.7071\n",
      "Epoch 5/100\n",
      "160/160 [==============================] - 0s 25us/step - loss: 1.5705\n",
      "Epoch 6/100\n",
      "160/160 [==============================] - 0s 25us/step - loss: 1.4622\n",
      "Epoch 7/100\n",
      "160/160 [==============================] - 0s 26us/step - loss: 1.3669\n",
      "Epoch 8/100\n",
      "160/160 [==============================] - 0s 22us/step - loss: 1.2778\n",
      "Epoch 9/100\n",
      "160/160 [==============================] - 0s 29us/step - loss: 1.1966\n",
      "Epoch 10/100\n",
      "160/160 [==============================] - 0s 32us/step - loss: 1.1213\n",
      "Epoch 11/100\n",
      "160/160 [==============================] - 0s 25us/step - loss: 1.0477\n",
      "Epoch 12/100\n",
      "160/160 [==============================] - 0s 23us/step - loss: 0.9796\n",
      "Epoch 13/100\n",
      "160/160 [==============================] - 0s 25us/step - loss: 0.9171\n",
      "Epoch 14/100\n",
      "160/160 [==============================] - 0s 42us/step - loss: 0.8594\n",
      "Epoch 15/100\n",
      "160/160 [==============================] - 0s 26us/step - loss: 0.8050\n",
      "Epoch 16/100\n",
      "160/160 [==============================] - 0s 24us/step - loss: 0.7543\n",
      "Epoch 17/100\n",
      "160/160 [==============================] - 0s 30us/step - loss: 0.7052\n",
      "Epoch 18/100\n",
      "160/160 [==============================] - 0s 29us/step - loss: 0.6605\n",
      "Epoch 19/100\n",
      "160/160 [==============================] - 0s 23us/step - loss: 0.6193\n",
      "Epoch 20/100\n",
      "160/160 [==============================] - 0s 29us/step - loss: 0.5804\n",
      "Epoch 21/100\n",
      "160/160 [==============================] - 0s 26us/step - loss: 0.5451\n",
      "Epoch 22/100\n",
      "160/160 [==============================] - 0s 24us/step - loss: 0.5112\n",
      "Epoch 23/100\n",
      "160/160 [==============================] - 0s 22us/step - loss: 0.4808\n",
      "Epoch 24/100\n",
      "160/160 [==============================] - 0s 28us/step - loss: 0.4515\n",
      "Epoch 25/100\n",
      "160/160 [==============================] - 0s 23us/step - loss: 0.4225\n",
      "Epoch 26/100\n",
      "160/160 [==============================] - 0s 22us/step - loss: 0.3966\n",
      "Epoch 27/100\n",
      "160/160 [==============================] - 0s 33us/step - loss: 0.3720\n",
      "Epoch 28/100\n",
      "160/160 [==============================] - 0s 24us/step - loss: 0.3490\n",
      "Epoch 29/100\n",
      "160/160 [==============================] - 0s 22us/step - loss: 0.3278\n",
      "Epoch 30/100\n",
      "160/160 [==============================] - 0s 21us/step - loss: 0.3081\n",
      "Epoch 31/100\n",
      "160/160 [==============================] - 0s 23us/step - loss: 0.2893\n",
      "Epoch 32/100\n",
      "160/160 [==============================] - 0s 27us/step - loss: 0.2727\n",
      "Epoch 33/100\n",
      "160/160 [==============================] - 0s 35us/step - loss: 0.2553\n",
      "Epoch 34/100\n",
      "160/160 [==============================] - 0s 25us/step - loss: 0.2402\n",
      "Epoch 35/100\n",
      "160/160 [==============================] - 0s 27us/step - loss: 0.2257\n",
      "Epoch 36/100\n",
      "160/160 [==============================] - 0s 25us/step - loss: 0.2124\n",
      "Epoch 37/100\n",
      "160/160 [==============================] - 0s 21us/step - loss: 0.2006\n",
      "Epoch 38/100\n",
      "160/160 [==============================] - 0s 22us/step - loss: 0.1892\n",
      "Epoch 39/100\n",
      "160/160 [==============================] - 0s 33us/step - loss: 0.1784\n",
      "Epoch 40/100\n",
      "160/160 [==============================] - 0s 26us/step - loss: 0.1682\n",
      "Epoch 41/100\n",
      "160/160 [==============================] - 0s 22us/step - loss: 0.1584\n",
      "Epoch 42/100\n",
      "160/160 [==============================] - 0s 28us/step - loss: 0.1503\n",
      "Epoch 43/100\n",
      "160/160 [==============================] - 0s 25us/step - loss: 0.1416\n",
      "Epoch 44/100\n",
      "160/160 [==============================] - 0s 28us/step - loss: 0.1339\n",
      "Epoch 45/100\n",
      "160/160 [==============================] - 0s 37us/step - loss: 0.1269\n",
      "Epoch 46/100\n",
      "160/160 [==============================] - 0s 30us/step - loss: 0.1202\n",
      "Epoch 47/100\n",
      "160/160 [==============================] - 0s 32us/step - loss: 0.1139\n",
      "Epoch 48/100\n",
      "160/160 [==============================] - 0s 38us/step - loss: 0.1079\n",
      "Epoch 49/100\n",
      "160/160 [==============================] - 0s 34us/step - loss: 0.1025\n",
      "Epoch 50/100\n",
      "160/160 [==============================] - 0s 30us/step - loss: 0.0970\n",
      "Epoch 51/100\n",
      "160/160 [==============================] - 0s 33us/step - loss: 0.0921\n",
      "Epoch 52/100\n",
      "160/160 [==============================] - 0s 30us/step - loss: 0.0878\n",
      "Epoch 53/100\n",
      "160/160 [==============================] - 0s 25us/step - loss: 0.0835\n",
      "Epoch 54/100\n",
      "160/160 [==============================] - 0s 31us/step - loss: 0.0795\n",
      "Epoch 55/100\n",
      "160/160 [==============================] - 0s 25us/step - loss: 0.0754\n",
      "Epoch 56/100\n",
      "160/160 [==============================] - 0s 27us/step - loss: 0.0719\n",
      "Epoch 57/100\n",
      "160/160 [==============================] - 0s 27us/step - loss: 0.0687\n",
      "Epoch 58/100\n",
      "160/160 [==============================] - 0s 24us/step - loss: 0.0657\n",
      "Epoch 59/100\n",
      "160/160 [==============================] - 0s 24us/step - loss: 0.0628\n",
      "Epoch 60/100\n",
      "160/160 [==============================] - 0s 22us/step - loss: 0.0603\n",
      "Epoch 61/100\n",
      "160/160 [==============================] - 0s 30us/step - loss: 0.0579\n",
      "Epoch 62/100\n",
      "160/160 [==============================] - 0s 31us/step - loss: 0.0556\n",
      "Epoch 63/100\n",
      "160/160 [==============================] - 0s 25us/step - loss: 0.0536\n",
      "Epoch 64/100\n",
      "160/160 [==============================] - 0s 23us/step - loss: 0.0516\n",
      "Epoch 65/100\n",
      "160/160 [==============================] - 0s 28us/step - loss: 0.0496\n",
      "Epoch 66/100\n",
      "160/160 [==============================] - 0s 26us/step - loss: 0.0478\n",
      "Epoch 67/100\n",
      "160/160 [==============================] - 0s 29us/step - loss: 0.0462\n",
      "Epoch 68/100\n",
      "160/160 [==============================] - 0s 20us/step - loss: 0.0447\n",
      "Epoch 69/100\n",
      "160/160 [==============================] - 0s 31us/step - loss: 0.0433\n",
      "Epoch 70/100\n",
      "160/160 [==============================] - 0s 26us/step - loss: 0.0419\n",
      "Epoch 71/100\n",
      "160/160 [==============================] - 0s 32us/step - loss: 0.0406\n",
      "Epoch 72/100\n",
      "160/160 [==============================] - 0s 23us/step - loss: 0.0394\n",
      "Epoch 73/100\n",
      "160/160 [==============================] - 0s 26us/step - loss: 0.0384\n",
      "Epoch 74/100\n",
      "160/160 [==============================] - 0s 27us/step - loss: 0.0374\n",
      "Epoch 75/100\n",
      "160/160 [==============================] - 0s 23us/step - loss: 0.0365\n",
      "Epoch 76/100\n",
      "160/160 [==============================] - 0s 26us/step - loss: 0.0355\n",
      "Epoch 77/100\n",
      "160/160 [==============================] - 0s 30us/step - loss: 0.0347\n",
      "Epoch 78/100\n",
      "160/160 [==============================] - 0s 26us/step - loss: 0.0339\n",
      "Epoch 79/100\n",
      "160/160 [==============================] - 0s 23us/step - loss: 0.0332\n",
      "Epoch 80/100\n",
      "160/160 [==============================] - 0s 35us/step - loss: 0.0326\n",
      "Epoch 81/100\n",
      "160/160 [==============================] - 0s 26us/step - loss: 0.0319\n",
      "Epoch 82/100\n",
      "160/160 [==============================] - 0s 19us/step - loss: 0.0313\n",
      "Epoch 83/100\n",
      "160/160 [==============================] - 0s 25us/step - loss: 0.0309\n",
      "Epoch 84/100\n",
      "160/160 [==============================] - 0s 19us/step - loss: 0.0302\n",
      "Epoch 85/100\n",
      "160/160 [==============================] - 0s 23us/step - loss: 0.0297\n",
      "Epoch 86/100\n",
      "160/160 [==============================] - 0s 29us/step - loss: 0.0293\n",
      "Epoch 87/100\n",
      "160/160 [==============================] - 0s 22us/step - loss: 0.0289\n",
      "Epoch 88/100\n",
      "160/160 [==============================] - 0s 20us/step - loss: 0.0285\n",
      "Epoch 89/100\n",
      "160/160 [==============================] - 0s 23us/step - loss: 0.0281\n",
      "Epoch 90/100\n",
      "160/160 [==============================] - 0s 22us/step - loss: 0.0278\n",
      "Epoch 91/100\n",
      "160/160 [==============================] - 0s 25us/step - loss: 0.0277\n",
      "Epoch 92/100\n",
      "160/160 [==============================] - 0s 21us/step - loss: 0.0273\n",
      "Epoch 93/100\n",
      "160/160 [==============================] - 0s 24us/step - loss: 0.0270\n",
      "Epoch 94/100\n",
      "160/160 [==============================] - 0s 26us/step - loss: 0.0267\n",
      "Epoch 95/100\n",
      "160/160 [==============================] - 0s 22us/step - loss: 0.0264\n",
      "Epoch 96/100\n",
      "160/160 [==============================] - 0s 27us/step - loss: 0.0263\n",
      "Epoch 97/100\n",
      "160/160 [==============================] - 0s 38us/step - loss: 0.0261\n",
      "Epoch 98/100\n"
     ]
    },
    {
     "name": "stdout",
     "output_type": "stream",
     "text": [
      "160/160 [==============================] - 0s 24us/step - loss: 0.0258\n",
      "Epoch 99/100\n",
      "160/160 [==============================] - 0s 19us/step - loss: 0.0256\n",
      "Epoch 100/100\n",
      "160/160 [==============================] - 0s 27us/step - loss: 0.0254\n"
     ]
    },
    {
     "data": {
      "text/plain": [
       "<keras.callbacks.History at 0x13241fa20>"
      ]
     },
     "execution_count": 10,
     "metadata": {},
     "output_type": "execute_result"
    }
   ],
   "source": [
    "model.fit(X_train, y_train, epochs=100, batch_size=64)"
   ]
  },
  {
   "cell_type": "code",
   "execution_count": 11,
   "metadata": {},
   "outputs": [
    {
     "name": "stdout",
     "output_type": "stream",
     "text": [
      "40/40 [==============================] - 0s 446us/step\n",
      "test cost:  0.014979459345340729\n",
      "weight:  [[0.52244806]] \n",
      "biases:  [1.9136162]\n"
     ]
    }
   ],
   "source": [
    "cost = model.evaluate(X_test, y_test, batch_size=40)\n",
    "print('test cost: ', cost)\n",
    "\n",
    "W, b = model.layers[0].get_weights()\n",
    "print('weight: ', W, '\\nbiases: ', b)"
   ]
  },
  {
   "cell_type": "code",
   "execution_count": 17,
   "metadata": {},
   "outputs": [
    {
     "data": {
      "image/png": "[encoded data removed]",
      "text/plain": [
       "<Figure size 432x288 with 1 Axes>"
      ]
     },
     "metadata": {
      "needs_background": "light"
     },
     "output_type": "display_data"
    }
   ],
   "source": [
    "y_pred =model.predict(X_test)\n",
    "\n",
    "plt.scatter(X_test, y_test, c='red', alpha=0.5)\n",
    "plt.scatter(X_train, y_train, c='green', alpha=0.2)\n",
    "plt.plot(X_test, y_pred)\n",
    "plt.show()"
   ]
  },
  {
   "cell_type": "code",
   "execution_count": null,
   "metadata": {},
   "outputs": [],
   "source": []
  }
 ],
 "metadata": {
  "kernelspec": {
   "display_name": "Python 3",
   "language": "python",
   "name": "python3"
  },
  "language_info": {
   "codemirror_mode": {
    "name": "ipython",
    "version": 3
   },
   "file_extension": ".py",
   "mimetype": "text/x-python",
   "name": "python",
   "nbconvert_exporter": "python",
   "pygments_lexer": "ipython3",
   "version": "3.6.7"
  }
 },
 "nbformat": 4,
 "nbformat_minor": 2
}
